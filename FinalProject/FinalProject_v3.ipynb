{
 "cells": [
  {
   "cell_type": "markdown",
   "metadata": {},
   "source": [
    "# Modeling and Simuation Final Project v3\n",
    "## DATA604 - Summer 2020\n",
    "### Completed by: Philip Tanofsky\n",
    "### Date: July 16, 2020\n",
    "\n",
    "The simulation models an NBA game for a single team in addition to simulating a matchup between two teams. The matchup simulation can be extrapolated as a playoff series.\n",
    "\n",
    "At the heart of the game model is the model of a single team possession. The possession is considered a discrete event in this model. The outcome of a single possession is zero to four points, though this model will only allow for a maximum of three points per possession.\n",
    "\n",
    "The model is based on overall team statistics for the NBA season 2019-20 which is currently on hiatus due to the Covid-19 pandemic. The statistics were gathered from two sources: stats.nba.com and basketball-reference.com."
   ]
  },
  {
   "cell_type": "code",
   "execution_count": 1,
   "metadata": {},
   "outputs": [],
   "source": [
    "# Configure Jupyter so figures appear in the notebook\n",
    "%matplotlib inline\n",
    "\n",
    "# Configure Jupyter to display the assigned value after an assignment\n",
    "%config InteractiveShell.ast_node_interactivity='last_expr_or_assign'\n",
    "\n",
    "# import functions from the modsim.py module\n",
    "from modsim import *\n",
    "\n",
    "from pandas import *\n",
    "import numpy as np\n",
    "import math\n",
    "import time"
   ]
  },
  {
   "cell_type": "markdown",
   "metadata": {},
   "source": [
    "## Retrieve Statistics\n",
    "\n",
    "The team statistics for the 30 NBA teams are stored in a CSV file in the same directory as this Jupyter notebook. The file is read from the current directory and then the columns are renamed for clarity. Then, the numeric columns are casted to numeric data types as the initially all data is read in as strings. The statistics are then output to the file for visual inspection."
   ]
  },
  {
   "cell_type": "code",
   "execution_count": 2,
   "metadata": {},
   "outputs": [
    {
     "data": {
      "text/html": [
       "<div>\n",
       "<style scoped>\n",
       "    .dataframe tbody tr th:only-of-type {\n",
       "        vertical-align: middle;\n",
       "    }\n",
       "\n",
       "    .dataframe tbody tr th {\n",
       "        vertical-align: top;\n",
       "    }\n",
       "\n",
       "    .dataframe thead th {\n",
       "        text-align: right;\n",
       "    }\n",
       "</style>\n",
       "<table border=\"1\" class=\"dataframe\">\n",
       "  <thead>\n",
       "    <tr style=\"text-align: right;\">\n",
       "      <th></th>\n",
       "      <th>team</th>\n",
       "      <th>turnover_pct_per_play</th>\n",
       "      <th>fga_pct_per_play</th>\n",
       "      <th>off_reb_per_play</th>\n",
       "      <th>two_pt_fg_attempts_pct</th>\n",
       "      <th>two_pt_fg_shooting_pct</th>\n",
       "      <th>three_pt_fg_shooting_pct</th>\n",
       "      <th>ft_shooting_pct</th>\n",
       "      <th>shooting_foul_drawn_pct</th>\n",
       "      <th>pace</th>\n",
       "      <th>off_rating</th>\n",
       "      <th>def_rating</th>\n",
       "    </tr>\n",
       "  </thead>\n",
       "  <tbody>\n",
       "    <tr>\n",
       "      <th>0</th>\n",
       "      <td>ATL</td>\n",
       "      <td>0.137</td>\n",
       "      <td>0.889</td>\n",
       "      <td>0.084</td>\n",
       "      <td>0.602</td>\n",
       "      <td>0.525</td>\n",
       "      <td>0.333</td>\n",
       "      <td>0.790</td>\n",
       "      <td>0.082</td>\n",
       "      <td>103.28</td>\n",
       "      <td>107.0</td>\n",
       "      <td>114.4</td>\n",
       "    </tr>\n",
       "    <tr>\n",
       "      <th>1</th>\n",
       "      <td>BOS</td>\n",
       "      <td>0.119</td>\n",
       "      <td>0.886</td>\n",
       "      <td>0.093</td>\n",
       "      <td>0.618</td>\n",
       "      <td>0.519</td>\n",
       "      <td>0.363</td>\n",
       "      <td>0.801</td>\n",
       "      <td>0.079</td>\n",
       "      <td>99.78</td>\n",
       "      <td>112.3</td>\n",
       "      <td>106.2</td>\n",
       "    </tr>\n",
       "    <tr>\n",
       "      <th>2</th>\n",
       "      <td>BKN</td>\n",
       "      <td>0.132</td>\n",
       "      <td>0.884</td>\n",
       "      <td>0.092</td>\n",
       "      <td>0.580</td>\n",
       "      <td>0.519</td>\n",
       "      <td>0.340</td>\n",
       "      <td>0.744</td>\n",
       "      <td>0.077</td>\n",
       "      <td>101.51</td>\n",
       "      <td>107.8</td>\n",
       "      <td>108.3</td>\n",
       "    </tr>\n",
       "    <tr>\n",
       "      <th>3</th>\n",
       "      <td>CHA</td>\n",
       "      <td>0.132</td>\n",
       "      <td>0.892</td>\n",
       "      <td>0.099</td>\n",
       "      <td>0.601</td>\n",
       "      <td>0.489</td>\n",
       "      <td>0.352</td>\n",
       "      <td>0.748</td>\n",
       "      <td>0.091</td>\n",
       "      <td>96.24</td>\n",
       "      <td>105.9</td>\n",
       "      <td>112.8</td>\n",
       "    </tr>\n",
       "    <tr>\n",
       "      <th>4</th>\n",
       "      <td>CHI</td>\n",
       "      <td>0.135</td>\n",
       "      <td>0.897</td>\n",
       "      <td>0.092</td>\n",
       "      <td>0.604</td>\n",
       "      <td>0.511</td>\n",
       "      <td>0.348</td>\n",
       "      <td>0.755</td>\n",
       "      <td>0.079</td>\n",
       "      <td>100.46</td>\n",
       "      <td>105.8</td>\n",
       "      <td>108.9</td>\n",
       "    </tr>\n",
       "    <tr>\n",
       "      <th>5</th>\n",
       "      <td>CLE</td>\n",
       "      <td>0.144</td>\n",
       "      <td>0.898</td>\n",
       "      <td>0.095</td>\n",
       "      <td>0.638</td>\n",
       "      <td>0.519</td>\n",
       "      <td>0.351</td>\n",
       "      <td>0.758</td>\n",
       "      <td>0.085</td>\n",
       "      <td>99.17</td>\n",
       "      <td>106.9</td>\n",
       "      <td>114.8</td>\n",
       "    </tr>\n",
       "    <tr>\n",
       "      <th>6</th>\n",
       "      <td>DAL</td>\n",
       "      <td>0.112</td>\n",
       "      <td>0.886</td>\n",
       "      <td>0.093</td>\n",
       "      <td>0.539</td>\n",
       "      <td>0.542</td>\n",
       "      <td>0.369</td>\n",
       "      <td>0.773</td>\n",
       "      <td>0.081</td>\n",
       "      <td>99.78</td>\n",
       "      <td>115.8</td>\n",
       "      <td>110.0</td>\n",
       "    </tr>\n",
       "    <tr>\n",
       "      <th>7</th>\n",
       "      <td>DEN</td>\n",
       "      <td>0.121</td>\n",
       "      <td>0.896</td>\n",
       "      <td>0.095</td>\n",
       "      <td>0.658</td>\n",
       "      <td>0.529</td>\n",
       "      <td>0.358</td>\n",
       "      <td>0.775</td>\n",
       "      <td>0.086</td>\n",
       "      <td>97.66</td>\n",
       "      <td>112.0</td>\n",
       "      <td>108.9</td>\n",
       "    </tr>\n",
       "    <tr>\n",
       "      <th>8</th>\n",
       "      <td>DET</td>\n",
       "      <td>0.136</td>\n",
       "      <td>0.887</td>\n",
       "      <td>0.087</td>\n",
       "      <td>0.619</td>\n",
       "      <td>0.515</td>\n",
       "      <td>0.367</td>\n",
       "      <td>0.743</td>\n",
       "      <td>0.079</td>\n",
       "      <td>97.86</td>\n",
       "      <td>108.8</td>\n",
       "      <td>112.3</td>\n",
       "    </tr>\n",
       "    <tr>\n",
       "      <th>9</th>\n",
       "      <td>GST</td>\n",
       "      <td>0.130</td>\n",
       "      <td>0.882</td>\n",
       "      <td>0.087</td>\n",
       "      <td>0.645</td>\n",
       "      <td>0.495</td>\n",
       "      <td>0.334</td>\n",
       "      <td>0.803</td>\n",
       "      <td>0.072</td>\n",
       "      <td>101.04</td>\n",
       "      <td>104.4</td>\n",
       "      <td>113.0</td>\n",
       "    </tr>\n",
       "    <tr>\n",
       "      <th>10</th>\n",
       "      <td>HOU</td>\n",
       "      <td>0.125</td>\n",
       "      <td>0.881</td>\n",
       "      <td>0.088</td>\n",
       "      <td>0.512</td>\n",
       "      <td>0.554</td>\n",
       "      <td>0.348</td>\n",
       "      <td>0.787</td>\n",
       "      <td>0.073</td>\n",
       "      <td>103.62</td>\n",
       "      <td>113.4</td>\n",
       "      <td>109.9</td>\n",
       "    </tr>\n",
       "    <tr>\n",
       "      <th>11</th>\n",
       "      <td>IND</td>\n",
       "      <td>0.118</td>\n",
       "      <td>0.901</td>\n",
       "      <td>0.079</td>\n",
       "      <td>0.689</td>\n",
       "      <td>0.529</td>\n",
       "      <td>0.363</td>\n",
       "      <td>0.787</td>\n",
       "      <td>0.081</td>\n",
       "      <td>99.05</td>\n",
       "      <td>109.7</td>\n",
       "      <td>107.7</td>\n",
       "    </tr>\n",
       "    <tr>\n",
       "      <th>12</th>\n",
       "      <td>LAC</td>\n",
       "      <td>0.126</td>\n",
       "      <td>0.876</td>\n",
       "      <td>0.094</td>\n",
       "      <td>0.630</td>\n",
       "      <td>0.522</td>\n",
       "      <td>0.366</td>\n",
       "      <td>0.792</td>\n",
       "      <td>0.087</td>\n",
       "      <td>102.39</td>\n",
       "      <td>112.9</td>\n",
       "      <td>106.6</td>\n",
       "    </tr>\n",
       "    <tr>\n",
       "      <th>13</th>\n",
       "      <td>LAL</td>\n",
       "      <td>0.131</td>\n",
       "      <td>0.884</td>\n",
       "      <td>0.092</td>\n",
       "      <td>0.645</td>\n",
       "      <td>0.556</td>\n",
       "      <td>0.355</td>\n",
       "      <td>0.730</td>\n",
       "      <td>0.085</td>\n",
       "      <td>101.11</td>\n",
       "      <td>112.6</td>\n",
       "      <td>105.5</td>\n",
       "    </tr>\n",
       "    <tr>\n",
       "      <th>14</th>\n",
       "      <td>MEM</td>\n",
       "      <td>0.131</td>\n",
       "      <td>0.896</td>\n",
       "      <td>0.089</td>\n",
       "      <td>0.659</td>\n",
       "      <td>0.531</td>\n",
       "      <td>0.352</td>\n",
       "      <td>0.761</td>\n",
       "      <td>0.079</td>\n",
       "      <td>103.26</td>\n",
       "      <td>108.9</td>\n",
       "      <td>109.9</td>\n",
       "    </tr>\n",
       "    <tr>\n",
       "      <th>15</th>\n",
       "      <td>MIA</td>\n",
       "      <td>0.133</td>\n",
       "      <td>0.869</td>\n",
       "      <td>0.076</td>\n",
       "      <td>0.587</td>\n",
       "      <td>0.530</td>\n",
       "      <td>0.383</td>\n",
       "      <td>0.778</td>\n",
       "      <td>0.078</td>\n",
       "      <td>98.46</td>\n",
       "      <td>112.2</td>\n",
       "      <td>109.2</td>\n",
       "    </tr>\n",
       "    <tr>\n",
       "      <th>16</th>\n",
       "      <td>MIL</td>\n",
       "      <td>0.127</td>\n",
       "      <td>0.889</td>\n",
       "      <td>0.081</td>\n",
       "      <td>0.577</td>\n",
       "      <td>0.567</td>\n",
       "      <td>0.356</td>\n",
       "      <td>0.742</td>\n",
       "      <td>0.084</td>\n",
       "      <td>105.36</td>\n",
       "      <td>112.3</td>\n",
       "      <td>101.6</td>\n",
       "    </tr>\n",
       "    <tr>\n",
       "      <th>17</th>\n",
       "      <td>MIN</td>\n",
       "      <td>0.129</td>\n",
       "      <td>0.882</td>\n",
       "      <td>0.088</td>\n",
       "      <td>0.567</td>\n",
       "      <td>0.521</td>\n",
       "      <td>0.336</td>\n",
       "      <td>0.753</td>\n",
       "      <td>0.078</td>\n",
       "      <td>103.94</td>\n",
       "      <td>107.6</td>\n",
       "      <td>111.6</td>\n",
       "    </tr>\n",
       "    <tr>\n",
       "      <th>18</th>\n",
       "      <td>NOR</td>\n",
       "      <td>0.135</td>\n",
       "      <td>0.890</td>\n",
       "      <td>0.094</td>\n",
       "      <td>0.592</td>\n",
       "      <td>0.525</td>\n",
       "      <td>0.372</td>\n",
       "      <td>0.729</td>\n",
       "      <td>0.077</td>\n",
       "      <td>103.96</td>\n",
       "      <td>110.6</td>\n",
       "      <td>111.6</td>\n",
       "    </tr>\n",
       "    <tr>\n",
       "      <th>19</th>\n",
       "      <td>NYK</td>\n",
       "      <td>0.124</td>\n",
       "      <td>0.882</td>\n",
       "      <td>0.104</td>\n",
       "      <td>0.682</td>\n",
       "      <td>0.499</td>\n",
       "      <td>0.337</td>\n",
       "      <td>0.694</td>\n",
       "      <td>0.068</td>\n",
       "      <td>99.11</td>\n",
       "      <td>105.9</td>\n",
       "      <td>112.4</td>\n",
       "    </tr>\n",
       "    <tr>\n",
       "      <th>20</th>\n",
       "      <td>OKC</td>\n",
       "      <td>0.122</td>\n",
       "      <td>0.876</td>\n",
       "      <td>0.073</td>\n",
       "      <td>0.655</td>\n",
       "      <td>0.536</td>\n",
       "      <td>0.355</td>\n",
       "      <td>0.797</td>\n",
       "      <td>0.098</td>\n",
       "      <td>99.21</td>\n",
       "      <td>111.0</td>\n",
       "      <td>108.4</td>\n",
       "    </tr>\n",
       "    <tr>\n",
       "      <th>21</th>\n",
       "      <td>ORL</td>\n",
       "      <td>0.112</td>\n",
       "      <td>0.891</td>\n",
       "      <td>0.092</td>\n",
       "      <td>0.640</td>\n",
       "      <td>0.498</td>\n",
       "      <td>0.341</td>\n",
       "      <td>0.770</td>\n",
       "      <td>0.074</td>\n",
       "      <td>98.70</td>\n",
       "      <td>107.5</td>\n",
       "      <td>108.7</td>\n",
       "    </tr>\n",
       "    <tr>\n",
       "      <th>22</th>\n",
       "      <td>PHI</td>\n",
       "      <td>0.125</td>\n",
       "      <td>0.882</td>\n",
       "      <td>0.091</td>\n",
       "      <td>0.640</td>\n",
       "      <td>0.523</td>\n",
       "      <td>0.362</td>\n",
       "      <td>0.752</td>\n",
       "      <td>0.076</td>\n",
       "      <td>99.38</td>\n",
       "      <td>109.7</td>\n",
       "      <td>107.6</td>\n",
       "    </tr>\n",
       "    <tr>\n",
       "      <th>23</th>\n",
       "      <td>PHX</td>\n",
       "      <td>0.131</td>\n",
       "      <td>0.880</td>\n",
       "      <td>0.085</td>\n",
       "      <td>0.639</td>\n",
       "      <td>0.527</td>\n",
       "      <td>0.353</td>\n",
       "      <td>0.826</td>\n",
       "      <td>0.095</td>\n",
       "      <td>101.76</td>\n",
       "      <td>110.2</td>\n",
       "      <td>111.3</td>\n",
       "    </tr>\n",
       "    <tr>\n",
       "      <th>24</th>\n",
       "      <td>POR</td>\n",
       "      <td>0.114</td>\n",
       "      <td>0.896</td>\n",
       "      <td>0.088</td>\n",
       "      <td>0.629</td>\n",
       "      <td>0.513</td>\n",
       "      <td>0.372</td>\n",
       "      <td>0.798</td>\n",
       "      <td>0.080</td>\n",
       "      <td>101.15</td>\n",
       "      <td>112.0</td>\n",
       "      <td>113.6</td>\n",
       "    </tr>\n",
       "    <tr>\n",
       "      <th>25</th>\n",
       "      <td>SAC</td>\n",
       "      <td>0.128</td>\n",
       "      <td>0.898</td>\n",
       "      <td>0.086</td>\n",
       "      <td>0.605</td>\n",
       "      <td>0.522</td>\n",
       "      <td>0.364</td>\n",
       "      <td>0.769</td>\n",
       "      <td>0.083</td>\n",
       "      <td>99.08</td>\n",
       "      <td>109.0</td>\n",
       "      <td>110.8</td>\n",
       "    </tr>\n",
       "    <tr>\n",
       "      <th>26</th>\n",
       "      <td>SAS</td>\n",
       "      <td>0.109</td>\n",
       "      <td>0.893</td>\n",
       "      <td>0.078</td>\n",
       "      <td>0.679</td>\n",
       "      <td>0.517</td>\n",
       "      <td>0.371</td>\n",
       "      <td>0.809</td>\n",
       "      <td>0.080</td>\n",
       "      <td>100.60</td>\n",
       "      <td>111.3</td>\n",
       "      <td>112.8</td>\n",
       "    </tr>\n",
       "    <tr>\n",
       "      <th>27</th>\n",
       "      <td>TOR</td>\n",
       "      <td>0.127</td>\n",
       "      <td>0.889</td>\n",
       "      <td>0.085</td>\n",
       "      <td>0.582</td>\n",
       "      <td>0.521</td>\n",
       "      <td>0.371</td>\n",
       "      <td>0.800</td>\n",
       "      <td>0.078</td>\n",
       "      <td>100.87</td>\n",
       "      <td>111.3</td>\n",
       "      <td>104.9</td>\n",
       "    </tr>\n",
       "    <tr>\n",
       "      <th>28</th>\n",
       "      <td>UTA</td>\n",
       "      <td>0.135</td>\n",
       "      <td>0.883</td>\n",
       "      <td>0.080</td>\n",
       "      <td>0.594</td>\n",
       "      <td>0.537</td>\n",
       "      <td>0.383</td>\n",
       "      <td>0.772</td>\n",
       "      <td>0.085</td>\n",
       "      <td>98.95</td>\n",
       "      <td>112.1</td>\n",
       "      <td>108.8</td>\n",
       "    </tr>\n",
       "    <tr>\n",
       "      <th>29</th>\n",
       "      <td>WAS</td>\n",
       "      <td>0.120</td>\n",
       "      <td>0.882</td>\n",
       "      <td>0.086</td>\n",
       "      <td>0.636</td>\n",
       "      <td>0.511</td>\n",
       "      <td>0.372</td>\n",
       "      <td>0.787</td>\n",
       "      <td>0.087</td>\n",
       "      <td>103.52</td>\n",
       "      <td>111.1</td>\n",
       "      <td>115.0</td>\n",
       "    </tr>\n",
       "  </tbody>\n",
       "</table>\n",
       "</div>"
      ],
      "text/plain": [
       "   team  turnover_pct_per_play  fga_pct_per_play  off_reb_per_play  \\\n",
       "0   ATL                  0.137             0.889             0.084   \n",
       "1   BOS                  0.119             0.886             0.093   \n",
       "2   BKN                  0.132             0.884             0.092   \n",
       "3   CHA                  0.132             0.892             0.099   \n",
       "4   CHI                  0.135             0.897             0.092   \n",
       "5   CLE                  0.144             0.898             0.095   \n",
       "6   DAL                  0.112             0.886             0.093   \n",
       "7   DEN                  0.121             0.896             0.095   \n",
       "8   DET                  0.136             0.887             0.087   \n",
       "9   GST                  0.130             0.882             0.087   \n",
       "10  HOU                  0.125             0.881             0.088   \n",
       "11  IND                  0.118             0.901             0.079   \n",
       "12  LAC                  0.126             0.876             0.094   \n",
       "13  LAL                  0.131             0.884             0.092   \n",
       "14  MEM                  0.131             0.896             0.089   \n",
       "15  MIA                  0.133             0.869             0.076   \n",
       "16  MIL                  0.127             0.889             0.081   \n",
       "17  MIN                  0.129             0.882             0.088   \n",
       "18  NOR                  0.135             0.890             0.094   \n",
       "19  NYK                  0.124             0.882             0.104   \n",
       "20  OKC                  0.122             0.876             0.073   \n",
       "21  ORL                  0.112             0.891             0.092   \n",
       "22  PHI                  0.125             0.882             0.091   \n",
       "23  PHX                  0.131             0.880             0.085   \n",
       "24  POR                  0.114             0.896             0.088   \n",
       "25  SAC                  0.128             0.898             0.086   \n",
       "26  SAS                  0.109             0.893             0.078   \n",
       "27  TOR                  0.127             0.889             0.085   \n",
       "28  UTA                  0.135             0.883             0.080   \n",
       "29  WAS                  0.120             0.882             0.086   \n",
       "\n",
       "    two_pt_fg_attempts_pct  two_pt_fg_shooting_pct  three_pt_fg_shooting_pct  \\\n",
       "0                    0.602                   0.525                     0.333   \n",
       "1                    0.618                   0.519                     0.363   \n",
       "2                    0.580                   0.519                     0.340   \n",
       "3                    0.601                   0.489                     0.352   \n",
       "4                    0.604                   0.511                     0.348   \n",
       "5                    0.638                   0.519                     0.351   \n",
       "6                    0.539                   0.542                     0.369   \n",
       "7                    0.658                   0.529                     0.358   \n",
       "8                    0.619                   0.515                     0.367   \n",
       "9                    0.645                   0.495                     0.334   \n",
       "10                   0.512                   0.554                     0.348   \n",
       "11                   0.689                   0.529                     0.363   \n",
       "12                   0.630                   0.522                     0.366   \n",
       "13                   0.645                   0.556                     0.355   \n",
       "14                   0.659                   0.531                     0.352   \n",
       "15                   0.587                   0.530                     0.383   \n",
       "16                   0.577                   0.567                     0.356   \n",
       "17                   0.567                   0.521                     0.336   \n",
       "18                   0.592                   0.525                     0.372   \n",
       "19                   0.682                   0.499                     0.337   \n",
       "20                   0.655                   0.536                     0.355   \n",
       "21                   0.640                   0.498                     0.341   \n",
       "22                   0.640                   0.523                     0.362   \n",
       "23                   0.639                   0.527                     0.353   \n",
       "24                   0.629                   0.513                     0.372   \n",
       "25                   0.605                   0.522                     0.364   \n",
       "26                   0.679                   0.517                     0.371   \n",
       "27                   0.582                   0.521                     0.371   \n",
       "28                   0.594                   0.537                     0.383   \n",
       "29                   0.636                   0.511                     0.372   \n",
       "\n",
       "    ft_shooting_pct  shooting_foul_drawn_pct    pace  off_rating  def_rating  \n",
       "0             0.790                    0.082  103.28       107.0       114.4  \n",
       "1             0.801                    0.079   99.78       112.3       106.2  \n",
       "2             0.744                    0.077  101.51       107.8       108.3  \n",
       "3             0.748                    0.091   96.24       105.9       112.8  \n",
       "4             0.755                    0.079  100.46       105.8       108.9  \n",
       "5             0.758                    0.085   99.17       106.9       114.8  \n",
       "6             0.773                    0.081   99.78       115.8       110.0  \n",
       "7             0.775                    0.086   97.66       112.0       108.9  \n",
       "8             0.743                    0.079   97.86       108.8       112.3  \n",
       "9             0.803                    0.072  101.04       104.4       113.0  \n",
       "10            0.787                    0.073  103.62       113.4       109.9  \n",
       "11            0.787                    0.081   99.05       109.7       107.7  \n",
       "12            0.792                    0.087  102.39       112.9       106.6  \n",
       "13            0.730                    0.085  101.11       112.6       105.5  \n",
       "14            0.761                    0.079  103.26       108.9       109.9  \n",
       "15            0.778                    0.078   98.46       112.2       109.2  \n",
       "16            0.742                    0.084  105.36       112.3       101.6  \n",
       "17            0.753                    0.078  103.94       107.6       111.6  \n",
       "18            0.729                    0.077  103.96       110.6       111.6  \n",
       "19            0.694                    0.068   99.11       105.9       112.4  \n",
       "20            0.797                    0.098   99.21       111.0       108.4  \n",
       "21            0.770                    0.074   98.70       107.5       108.7  \n",
       "22            0.752                    0.076   99.38       109.7       107.6  \n",
       "23            0.826                    0.095  101.76       110.2       111.3  \n",
       "24            0.798                    0.080  101.15       112.0       113.6  \n",
       "25            0.769                    0.083   99.08       109.0       110.8  \n",
       "26            0.809                    0.080  100.60       111.3       112.8  \n",
       "27            0.800                    0.078  100.87       111.3       104.9  \n",
       "28            0.772                    0.085   98.95       112.1       108.8  \n",
       "29            0.787                    0.087  103.52       111.1       115.0  "
      ]
     },
     "execution_count": 2,
     "metadata": {},
     "output_type": "execute_result"
    }
   ],
   "source": [
    "# Read in statistics for all 30 NBA teams\n",
    "filename = 'Teams_Stats_Sim_v3.csv'\n",
    "all_teams = read_csv(filename, header=0, decimal='M')\n",
    "\n",
    "# Rename the columns\n",
    "all_teams.columns = ['team', 'turnover_pct_per_play', 'fga_pct_per_play', 'off_reb_per_play', 'two_pt_fg_attempts_pct', \n",
    "                  'two_pt_fg_shooting_pct', 'three_pt_fg_shooting_pct', 'ft_shooting_pct', 'shooting_foul_drawn_pct', \n",
    "                  'pace', 'off_rating', 'def_rating']\n",
    "\n",
    "\n",
    "# Cast the appropriate columns to numeric instead of string\n",
    "cols = ['turnover_pct_per_play', 'fga_pct_per_play', 'off_reb_per_play', 'two_pt_fg_attempts_pct', \n",
    "                  'two_pt_fg_shooting_pct', 'three_pt_fg_shooting_pct', 'ft_shooting_pct', 'shooting_foul_drawn_pct', \n",
    "                  'pace', 'off_rating', 'def_rating']   \n",
    "\n",
    "all_teams[cols] = all_teams[cols].apply(pd.to_numeric, errors='coerce')\n",
    "\n",
    "# Output the complete input file just for visual validation\n",
    "all_teams"
   ]
  },
  {
   "cell_type": "markdown",
   "metadata": {},
   "source": [
    "## Inventory of functions\n",
    "\n",
    "The model is constructed using many concise functions to replicate elements of the possession.\n",
    "\n",
    "### Functions:\n",
    "\n",
    "- simulate_possession: DONE\n",
    "\n",
    "- simulate_FT_attempt: DONE\n",
    "\n",
    "- simulate_FT_attempts: DONE\n",
    "\n",
    "- simulate_2P_FG_attempt: DONE\n",
    "\n",
    "- simulate_3P_FG_attempt: DONE\n",
    "\n",
    "- did_turnover_occur: DONE\n",
    "\n",
    "- did_field_goal_attempt_occur: DONE\n",
    "\n",
    "- is_2P_FGA: DONE\n",
    "\n",
    "- is_2P_FGA_made: DONE\n",
    "\n",
    "- is_3P_FGA_made: DONE\n",
    "\n",
    "- is_FTA_made: DONE\n",
    "\n",
    "- did_shooting_foul_occur: DONE\n",
    "\n",
    "- did_offensive_rebound_occur: DONE\n",
    "\n",
    "- map team stats to system: DONE\n",
    "\n",
    "### Utility functions\n",
    "\n",
    "- def convert_pct_to_int(pct): DONE\n",
    "\n",
    "### Thoughts\n",
    "\n",
    "- The season statistics for each team retrieved from the CSV file are defined as a system object.\n",
    "\n",
    "- The game statistics for each team are defined and maintained as a state object.\n",
    "\n",
    "- graph of point outcomes for a team, look at distribution\n",
    "\n",
    "- graph of point differences between two teams\n",
    "\n",
    "- give two teams as input to run game simulation\n",
    "\n",
    "- give two teams as input to run 7-game series simulation\n",
    "\n",
    "- Doesn't take into account nuances of blow-out game in which star players sit out most of 4th quarter, pace of game purposely slowed down by winning team"
   ]
  },
  {
   "cell_type": "markdown",
   "metadata": {},
   "source": [
    "### Statistics used\n",
    "\n",
    "- Turnover percentage per play\n",
    "\n",
    "- Field Goal Attempt percentage per play\n",
    "\n",
    "- Offensive Rebound percentage per play\n",
    "\n",
    "- Two-point Field Goal Attempt percentage per play\n",
    "\n",
    "- Two-point Field Goal Shooting percentage\n",
    "\n",
    "- Three-point Field Goal Shooting percentage\n",
    "\n",
    "- Free-Throw Shooting percentage\n",
    "\n",
    "- Shooting Foul Drawn percentage per play\n",
    "\n",
    "- Overal Team Pace (possessions per game)\n",
    "\n",
    "- Overall Team Offensive Rating\n",
    "\n",
    "- Overall Team Defensive Rating"
   ]
  },
  {
   "cell_type": "markdown",
   "metadata": {},
   "source": [
    "Following function maps in the input data (season statistics) from the primary dataframe to a system object for one team based on the input parameter."
   ]
  },
  {
   "cell_type": "code",
   "execution_count": 3,
   "metadata": {},
   "outputs": [],
   "source": [
    "def map_team_stats_to_system(team):\n",
    "    \"\"\"\n",
    "    Given the team 3-character identifier, create a system object based on the input file of team statistics\n",
    "    \"\"\"\n",
    "    team_stats = all_teams[all_teams['team']== team]\n",
    "    \n",
    "    team_sys = System(turnover_pct_per_play=team_stats.iloc[0]['turnover_pct_per_play'],\n",
    "                fga_pct_per_play           =team_stats.iloc[0]['fga_pct_per_play'],\n",
    "                off_reb_per_play           =team_stats.iloc[0]['off_reb_per_play'],\n",
    "                two_pt_fg_attempts_pct     =team_stats.iloc[0]['two_pt_fg_attempts_pct'],\n",
    "                two_pt_fg_shooting_pct     =team_stats.iloc[0]['two_pt_fg_shooting_pct'],\n",
    "                three_pt_fg_shooting_pct   =team_stats.iloc[0]['three_pt_fg_shooting_pct'],\n",
    "                ft_shooting_pct            =team_stats.iloc[0]['ft_shooting_pct'],\n",
    "                shooting_foul_drawn_pct    =team_stats.iloc[0]['shooting_foul_drawn_pct'],\n",
    "                pace                       =team_stats.iloc[0]['pace'],\n",
    "                off_rating                 =team_stats.iloc[0]['off_rating'],\n",
    "                def_rating                 =team_stats.iloc[0]['def_rating'])\n",
    "    \n",
    "    return team_sys"
   ]
  },
  {
   "cell_type": "code",
   "execution_count": 4,
   "metadata": {},
   "outputs": [
    {
     "data": {
      "text/html": [
       "<div>\n",
       "<style scoped>\n",
       "    .dataframe tbody tr th:only-of-type {\n",
       "        vertical-align: middle;\n",
       "    }\n",
       "\n",
       "    .dataframe tbody tr th {\n",
       "        vertical-align: top;\n",
       "    }\n",
       "\n",
       "    .dataframe thead th {\n",
       "        text-align: right;\n",
       "    }\n",
       "</style>\n",
       "<table border=\"1\" class=\"dataframe\">\n",
       "  <thead>\n",
       "    <tr style=\"text-align: right;\">\n",
       "      <th></th>\n",
       "      <th>values</th>\n",
       "    </tr>\n",
       "  </thead>\n",
       "  <tbody>\n",
       "    <tr>\n",
       "      <th>turnover_pct_per_play</th>\n",
       "      <td>0.137</td>\n",
       "    </tr>\n",
       "    <tr>\n",
       "      <th>fga_pct_per_play</th>\n",
       "      <td>0.889</td>\n",
       "    </tr>\n",
       "    <tr>\n",
       "      <th>off_reb_per_play</th>\n",
       "      <td>0.084</td>\n",
       "    </tr>\n",
       "    <tr>\n",
       "      <th>two_pt_fg_attempts_pct</th>\n",
       "      <td>0.602</td>\n",
       "    </tr>\n",
       "    <tr>\n",
       "      <th>two_pt_fg_shooting_pct</th>\n",
       "      <td>0.525</td>\n",
       "    </tr>\n",
       "    <tr>\n",
       "      <th>three_pt_fg_shooting_pct</th>\n",
       "      <td>0.333</td>\n",
       "    </tr>\n",
       "    <tr>\n",
       "      <th>ft_shooting_pct</th>\n",
       "      <td>0.790</td>\n",
       "    </tr>\n",
       "    <tr>\n",
       "      <th>shooting_foul_drawn_pct</th>\n",
       "      <td>0.082</td>\n",
       "    </tr>\n",
       "    <tr>\n",
       "      <th>pace</th>\n",
       "      <td>103.280</td>\n",
       "    </tr>\n",
       "    <tr>\n",
       "      <th>off_rating</th>\n",
       "      <td>107.000</td>\n",
       "    </tr>\n",
       "    <tr>\n",
       "      <th>def_rating</th>\n",
       "      <td>114.400</td>\n",
       "    </tr>\n",
       "  </tbody>\n",
       "</table>\n",
       "</div>"
      ],
      "text/plain": [
       "turnover_pct_per_play         0.137\n",
       "fga_pct_per_play              0.889\n",
       "off_reb_per_play              0.084\n",
       "two_pt_fg_attempts_pct        0.602\n",
       "two_pt_fg_shooting_pct        0.525\n",
       "three_pt_fg_shooting_pct      0.333\n",
       "ft_shooting_pct               0.790\n",
       "shooting_foul_drawn_pct       0.082\n",
       "pace                        103.280\n",
       "off_rating                  107.000\n",
       "def_rating                  114.400\n",
       "dtype: float64"
      ]
     },
     "execution_count": 4,
     "metadata": {},
     "output_type": "execute_result"
    }
   ],
   "source": [
    "# Test map_team_stats_to_system\n",
    "atl = map_team_stats_to_system('ATL')"
   ]
  },
  {
   "cell_type": "markdown",
   "metadata": {},
   "source": [
    "Function used to create and initialize the game statistics State object for a game simulation"
   ]
  },
  {
   "cell_type": "code",
   "execution_count": 5,
   "metadata": {},
   "outputs": [],
   "source": [
    "def initialize_game_stats_state():\n",
    "    \"\"\"\n",
    "    Initialize the game statistics to zero and return State object\n",
    "    \"\"\"\n",
    "    game_stats_state = State(turnovers=0,\n",
    "                             two_point_field_goal_attempts=0,\n",
    "                             two_point_field_goal_makes=0,\n",
    "                             three_point_field_goal_attempts=0,\n",
    "                             three_point_field_goal_makes=0,\n",
    "                             free_throw_attempts=0,\n",
    "                             free_throw_makes=0,\n",
    "                             shooting_fouls_drawn=0,\n",
    "                             offensive_rebounds=0)\n",
    "    \n",
    "    return game_stats_state"
   ]
  },
  {
   "cell_type": "code",
   "execution_count": 6,
   "metadata": {},
   "outputs": [
    {
     "data": {
      "text/html": [
       "<div>\n",
       "<style scoped>\n",
       "    .dataframe tbody tr th:only-of-type {\n",
       "        vertical-align: middle;\n",
       "    }\n",
       "\n",
       "    .dataframe tbody tr th {\n",
       "        vertical-align: top;\n",
       "    }\n",
       "\n",
       "    .dataframe thead th {\n",
       "        text-align: right;\n",
       "    }\n",
       "</style>\n",
       "<table border=\"1\" class=\"dataframe\">\n",
       "  <thead>\n",
       "    <tr style=\"text-align: right;\">\n",
       "      <th></th>\n",
       "      <th>values</th>\n",
       "    </tr>\n",
       "  </thead>\n",
       "  <tbody>\n",
       "    <tr>\n",
       "      <th>turnovers</th>\n",
       "      <td>0</td>\n",
       "    </tr>\n",
       "    <tr>\n",
       "      <th>two_point_field_goal_attempts</th>\n",
       "      <td>0</td>\n",
       "    </tr>\n",
       "    <tr>\n",
       "      <th>two_point_field_goal_makes</th>\n",
       "      <td>0</td>\n",
       "    </tr>\n",
       "    <tr>\n",
       "      <th>three_point_field_goal_attempts</th>\n",
       "      <td>0</td>\n",
       "    </tr>\n",
       "    <tr>\n",
       "      <th>three_point_field_goal_makes</th>\n",
       "      <td>0</td>\n",
       "    </tr>\n",
       "    <tr>\n",
       "      <th>free_throw_attempts</th>\n",
       "      <td>0</td>\n",
       "    </tr>\n",
       "    <tr>\n",
       "      <th>free_throw_makes</th>\n",
       "      <td>0</td>\n",
       "    </tr>\n",
       "    <tr>\n",
       "      <th>shooting_fouls_drawn</th>\n",
       "      <td>0</td>\n",
       "    </tr>\n",
       "    <tr>\n",
       "      <th>offensive_rebounds</th>\n",
       "      <td>0</td>\n",
       "    </tr>\n",
       "  </tbody>\n",
       "</table>\n",
       "</div>"
      ],
      "text/plain": [
       "turnovers                          0\n",
       "two_point_field_goal_attempts      0\n",
       "two_point_field_goal_makes         0\n",
       "three_point_field_goal_attempts    0\n",
       "three_point_field_goal_makes       0\n",
       "free_throw_attempts                0\n",
       "free_throw_makes                   0\n",
       "shooting_fouls_drawn               0\n",
       "offensive_rebounds                 0\n",
       "dtype: int64"
      ]
     },
     "execution_count": 6,
     "metadata": {},
     "output_type": "execute_result"
    }
   ],
   "source": [
    "# initialize_game_stats_state\n",
    "stats_state = initialize_game_stats_state()"
   ]
  },
  {
   "cell_type": "markdown",
   "metadata": {},
   "source": [
    "Function to build the System object and State object for a team as input to a game simulation.\n",
    "\n",
    "Display of the composite object shows the two attributes are the game statistics state and overall statistics system."
   ]
  },
  {
   "cell_type": "code",
   "execution_count": 7,
   "metadata": {},
   "outputs": [],
   "source": [
    "def create_team_game_object(team_name):\n",
    "    \"\"\"\n",
    "    Create a team object as a composite of the game stats State object and the season statistics System object\n",
    "    \"\"\"\n",
    "    team = State(game_stats_state=initialize_game_stats_state(),\n",
    "                 overall_stats_sys=map_team_stats_to_system(team_name))\n",
    "    \n",
    "    return team"
   ]
  },
  {
   "cell_type": "code",
   "execution_count": 8,
   "metadata": {},
   "outputs": [
    {
     "data": {
      "text/html": [
       "<div>\n",
       "<style scoped>\n",
       "    .dataframe tbody tr th:only-of-type {\n",
       "        vertical-align: middle;\n",
       "    }\n",
       "\n",
       "    .dataframe tbody tr th {\n",
       "        vertical-align: top;\n",
       "    }\n",
       "\n",
       "    .dataframe thead th {\n",
       "        text-align: right;\n",
       "    }\n",
       "</style>\n",
       "<table border=\"1\" class=\"dataframe\">\n",
       "  <thead>\n",
       "    <tr style=\"text-align: right;\">\n",
       "      <th></th>\n",
       "      <th>values</th>\n",
       "    </tr>\n",
       "  </thead>\n",
       "  <tbody>\n",
       "    <tr>\n",
       "      <th>game_stats_state</th>\n",
       "      <td>turnovers                          0\n",
       "two_point...</td>\n",
       "    </tr>\n",
       "    <tr>\n",
       "      <th>overall_stats_sys</th>\n",
       "      <td>turnover_pct_per_play         0.109\n",
       "fga_pct_pe...</td>\n",
       "    </tr>\n",
       "  </tbody>\n",
       "</table>\n",
       "</div>"
      ],
      "text/plain": [
       "game_stats_state     turnovers                          0\n",
       "two_point...\n",
       "overall_stats_sys    turnover_pct_per_play         0.109\n",
       "fga_pct_pe...\n",
       "dtype: object"
      ]
     },
     "execution_count": 8,
     "metadata": {},
     "output_type": "execute_result"
    }
   ],
   "source": [
    "# Test create_team_game_object\n",
    "spurs = create_team_game_object('SAS')\n",
    "\n",
    "spurs"
   ]
  },
  {
   "cell_type": "code",
   "execution_count": 9,
   "metadata": {},
   "outputs": [
    {
     "data": {
      "text/html": [
       "<div>\n",
       "<style scoped>\n",
       "    .dataframe tbody tr th:only-of-type {\n",
       "        vertical-align: middle;\n",
       "    }\n",
       "\n",
       "    .dataframe tbody tr th {\n",
       "        vertical-align: top;\n",
       "    }\n",
       "\n",
       "    .dataframe thead th {\n",
       "        text-align: right;\n",
       "    }\n",
       "</style>\n",
       "<table border=\"1\" class=\"dataframe\">\n",
       "  <thead>\n",
       "    <tr style=\"text-align: right;\">\n",
       "      <th></th>\n",
       "      <th>values</th>\n",
       "    </tr>\n",
       "  </thead>\n",
       "  <tbody>\n",
       "    <tr>\n",
       "      <th>turnover_pct_per_play</th>\n",
       "      <td>0.127</td>\n",
       "    </tr>\n",
       "    <tr>\n",
       "      <th>fga_pct_per_play</th>\n",
       "      <td>0.889</td>\n",
       "    </tr>\n",
       "    <tr>\n",
       "      <th>off_reb_per_play</th>\n",
       "      <td>0.081</td>\n",
       "    </tr>\n",
       "    <tr>\n",
       "      <th>two_pt_fg_attempts_pct</th>\n",
       "      <td>0.577</td>\n",
       "    </tr>\n",
       "    <tr>\n",
       "      <th>two_pt_fg_shooting_pct</th>\n",
       "      <td>0.567</td>\n",
       "    </tr>\n",
       "    <tr>\n",
       "      <th>three_pt_fg_shooting_pct</th>\n",
       "      <td>0.356</td>\n",
       "    </tr>\n",
       "    <tr>\n",
       "      <th>ft_shooting_pct</th>\n",
       "      <td>0.742</td>\n",
       "    </tr>\n",
       "    <tr>\n",
       "      <th>shooting_foul_drawn_pct</th>\n",
       "      <td>0.084</td>\n",
       "    </tr>\n",
       "    <tr>\n",
       "      <th>pace</th>\n",
       "      <td>105.360</td>\n",
       "    </tr>\n",
       "    <tr>\n",
       "      <th>off_rating</th>\n",
       "      <td>112.300</td>\n",
       "    </tr>\n",
       "    <tr>\n",
       "      <th>def_rating</th>\n",
       "      <td>101.600</td>\n",
       "    </tr>\n",
       "  </tbody>\n",
       "</table>\n",
       "</div>"
      ],
      "text/plain": [
       "turnover_pct_per_play         0.127\n",
       "fga_pct_per_play              0.889\n",
       "off_reb_per_play              0.081\n",
       "two_pt_fg_attempts_pct        0.577\n",
       "two_pt_fg_shooting_pct        0.567\n",
       "three_pt_fg_shooting_pct      0.356\n",
       "ft_shooting_pct               0.742\n",
       "shooting_foul_drawn_pct       0.084\n",
       "pace                        105.360\n",
       "off_rating                  112.300\n",
       "def_rating                  101.600\n",
       "dtype: float64"
      ]
     },
     "execution_count": 9,
     "metadata": {},
     "output_type": "execute_result"
    }
   ],
   "source": [
    "# Create a system object to represent a team\n",
    "# team_A object used throughout the Jupyter notebook to individually test functions\n",
    "team_A = map_team_stats_to_system('MIL')"
   ]
  },
  {
   "cell_type": "markdown",
   "metadata": {},
   "source": [
    "Utility function to convert a percentage between 0.0 and 1.0 to an integer from zero to one thousand."
   ]
  },
  {
   "cell_type": "code",
   "execution_count": 10,
   "metadata": {},
   "outputs": [],
   "source": [
    "def convert_pct_to_int(pct):\n",
    "    \"\"\"\n",
    "    Utility function to convert any percentage to an integer of range 0-1000\n",
    "    \"\"\"\n",
    "    return int(pct * 1000)"
   ]
  },
  {
   "cell_type": "code",
   "execution_count": 11,
   "metadata": {},
   "outputs": [
    {
     "data": {
      "text/plain": [
       "470"
      ]
     },
     "execution_count": 11,
     "metadata": {},
     "output_type": "execute_result"
    }
   ],
   "source": [
    "# Test convert_pct_to_int function\n",
    "convert_pct_to_int(.47)"
   ]
  },
  {
   "cell_type": "markdown",
   "metadata": {},
   "source": [
    "Following function determines if a turnover occurs based on the team percentage"
   ]
  },
  {
   "cell_type": "code",
   "execution_count": 12,
   "metadata": {},
   "outputs": [],
   "source": [
    "def did_turnover_occur(team):\n",
    "    \"\"\"\n",
    "    Determine if a possession results in a turnover\n",
    "    \"\"\"\n",
    "    \n",
    "    result = False\n",
    "    \n",
    "    # Retrieve random number\n",
    "    rand_num = np.random.uniform(1, 1000)\n",
    "    \n",
    "    # Convert percent to int\n",
    "    pct = convert_pct_to_int(team.turnover_pct_per_play)\n",
    "    \n",
    "    if (rand_num <= pct):\n",
    "        result = True\n",
    "    \n",
    "    return result"
   ]
  },
  {
   "cell_type": "code",
   "execution_count": 13,
   "metadata": {},
   "outputs": [
    {
     "data": {
      "text/plain": [
       "False"
      ]
     },
     "execution_count": 13,
     "metadata": {},
     "output_type": "execute_result"
    }
   ],
   "source": [
    "# Test did_turnover_occur\n",
    "did_turnover_occur(team_A)"
   ]
  },
  {
   "cell_type": "code",
   "execution_count": 14,
   "metadata": {},
   "outputs": [],
   "source": [
    "def did_field_goal_attempt_occur(team):\n",
    "    \"\"\"\n",
    "    Determine if a possession results in a field goal attempt\n",
    "    \"\"\"\n",
    "    result = False\n",
    "    \n",
    "    # Retrieve random number\n",
    "    rand_num = np.random.uniform(1, 1000)\n",
    "    \n",
    "    # Convert percent to int\n",
    "    pct = convert_pct_to_int(team.fga_pct_per_play)\n",
    "    \n",
    "    if (rand_num <= pct):\n",
    "        result = True\n",
    "        \n",
    "    return result"
   ]
  },
  {
   "cell_type": "code",
   "execution_count": 15,
   "metadata": {},
   "outputs": [
    {
     "data": {
      "text/plain": [
       "True"
      ]
     },
     "execution_count": 15,
     "metadata": {},
     "output_type": "execute_result"
    }
   ],
   "source": [
    "# Test did_field_goal_attempt_occur\n",
    "did_field_goal_attempt_occur(team_A)"
   ]
  },
  {
   "cell_type": "code",
   "execution_count": 16,
   "metadata": {},
   "outputs": [],
   "source": [
    "def did_offensive_rebound_occur(team):\n",
    "    \"\"\"\n",
    "    Determine if a play results in a offensive rebound\n",
    "    \"\"\"\n",
    "    result = False\n",
    "    \n",
    "    # Retrieve random number\n",
    "    rand_num = np.random.uniform(1, 1000)\n",
    "    \n",
    "    # Convert percent to int\n",
    "    pct = convert_pct_to_int(team.off_reb_per_play)\n",
    "    \n",
    "    # Setting offensive rebounding percentage to 20%\n",
    "    pct = 200\n",
    "    \n",
    "    if (rand_num <= pct):\n",
    "        result = True\n",
    "        \n",
    "    return result"
   ]
  },
  {
   "cell_type": "code",
   "execution_count": 17,
   "metadata": {},
   "outputs": [
    {
     "data": {
      "text/plain": [
       "True"
      ]
     },
     "execution_count": 17,
     "metadata": {},
     "output_type": "execute_result"
    }
   ],
   "source": [
    "# Test did_offensive_rebound_occur\n",
    "did_offensive_rebound_occur(team_A)"
   ]
  },
  {
   "cell_type": "code",
   "execution_count": 18,
   "metadata": {},
   "outputs": [],
   "source": [
    "def is_2P_FGA(team):\n",
    "    \"\"\"\n",
    "    Determine if a two point field goal attempt occurs\n",
    "    \"\"\"\n",
    "    result = False\n",
    "    \n",
    "    # Retrieve random number\n",
    "    rand_num = np.random.uniform(1, 1000)\n",
    "    \n",
    "    # Convert percent to int\n",
    "    pct = convert_pct_to_int(team.two_pt_fg_attempts_pct)\n",
    "    \n",
    "    if (rand_num <= pct):\n",
    "        result = True\n",
    "        \n",
    "    return result"
   ]
  },
  {
   "cell_type": "code",
   "execution_count": 19,
   "metadata": {},
   "outputs": [
    {
     "data": {
      "text/plain": [
       "True"
      ]
     },
     "execution_count": 19,
     "metadata": {},
     "output_type": "execute_result"
    }
   ],
   "source": [
    "# Test is_2P_FGA\n",
    "is_2P_FGA(team_A)"
   ]
  },
  {
   "cell_type": "code",
   "execution_count": 20,
   "metadata": {},
   "outputs": [],
   "source": [
    "def is_2P_FGA_made(team):\n",
    "    \"\"\"\n",
    "    Determine if a two-point field goal attempt was successful\n",
    "    \"\"\"\n",
    "    result = False\n",
    "    \n",
    "    # Retrieve random number\n",
    "    rand_num = np.random.uniform(1, 1000)\n",
    "    \n",
    "    # Convert percent to int\n",
    "    pct = convert_pct_to_int(team.two_pt_fg_shooting_pct)\n",
    "    \n",
    "    if (rand_num <= pct):\n",
    "        result = True\n",
    "        \n",
    "    return result"
   ]
  },
  {
   "cell_type": "code",
   "execution_count": 21,
   "metadata": {},
   "outputs": [
    {
     "data": {
      "text/plain": [
       "True"
      ]
     },
     "execution_count": 21,
     "metadata": {},
     "output_type": "execute_result"
    }
   ],
   "source": [
    "# Test is_2P_FGA_made\n",
    "is_2P_FGA_made(team_A)"
   ]
  },
  {
   "cell_type": "code",
   "execution_count": 22,
   "metadata": {},
   "outputs": [],
   "source": [
    "def is_3P_FGA_made(team):\n",
    "    \"\"\"\n",
    "    Determine if a three-point field goal attempt was successful\n",
    "    \"\"\"\n",
    "    result = False\n",
    "    \n",
    "    # Retrieve random number\n",
    "    rand_num = np.random.uniform(1, 1000)\n",
    "    \n",
    "    # Convert percent to int\n",
    "    pct = convert_pct_to_int(team.three_pt_fg_shooting_pct)\n",
    "    \n",
    "    if (rand_num <= pct):\n",
    "        result = True\n",
    "        \n",
    "    return result"
   ]
  },
  {
   "cell_type": "code",
   "execution_count": 23,
   "metadata": {},
   "outputs": [
    {
     "data": {
      "text/plain": [
       "True"
      ]
     },
     "execution_count": 23,
     "metadata": {},
     "output_type": "execute_result"
    }
   ],
   "source": [
    "# Test is_3P_FGA_made\n",
    "is_3P_FGA_made(team_A)"
   ]
  },
  {
   "cell_type": "code",
   "execution_count": 24,
   "metadata": {},
   "outputs": [],
   "source": [
    "def is_FTA_made(team):\n",
    "    \"\"\"\n",
    "    Determine if a free-throw attempt was successful\n",
    "    \"\"\"\n",
    "    result = False\n",
    "    \n",
    "    # Retrieve random number\n",
    "    rand_num = np.random.uniform(1, 1000)\n",
    "    \n",
    "    # Convert percent to int\n",
    "    pct = convert_pct_to_int(team.ft_shooting_pct)\n",
    "    \n",
    "    if (rand_num <= pct):\n",
    "        result = True\n",
    "        \n",
    "    return result"
   ]
  },
  {
   "cell_type": "code",
   "execution_count": 25,
   "metadata": {},
   "outputs": [
    {
     "data": {
      "text/plain": [
       "True"
      ]
     },
     "execution_count": 25,
     "metadata": {},
     "output_type": "execute_result"
    }
   ],
   "source": [
    "# Test is_FTA_made\n",
    "is_FTA_made(team_A)"
   ]
  },
  {
   "cell_type": "code",
   "execution_count": 26,
   "metadata": {},
   "outputs": [],
   "source": [
    "def did_shooting_foul_occur(team):\n",
    "    \"\"\"\n",
    "    Determine if a shooting foul occurred\n",
    "    \"\"\"\n",
    "    result = False\n",
    "    \n",
    "    # Retrieve random number\n",
    "    rand_num = np.random.uniform(1, 1000)\n",
    "    \n",
    "    # Convert percent to int\n",
    "    pct = convert_pct_to_int(team.shooting_foul_drawn_pct)\n",
    "    \n",
    "    \n",
    "    # Hardcoding 50 for test purposes\n",
    "    pct = 50\n",
    "    if (rand_num <= pct):\n",
    "        result = True\n",
    "        \n",
    "    return result"
   ]
  },
  {
   "cell_type": "code",
   "execution_count": 27,
   "metadata": {},
   "outputs": [
    {
     "data": {
      "text/plain": [
       "False"
      ]
     },
     "execution_count": 27,
     "metadata": {},
     "output_type": "execute_result"
    }
   ],
   "source": [
    "# Test did_shooting_foul_occur\n",
    "did_shooting_foul_occur(team_A)"
   ]
  },
  {
   "cell_type": "code",
   "execution_count": 28,
   "metadata": {},
   "outputs": [],
   "source": [
    "def simulate_FT_attempt(team):\n",
    "    \"\"\"\n",
    "    Simulate a free throw attempt based on the team's free-throw percentage\n",
    "    \"\"\"\n",
    "    # result represents the points scored\n",
    "    result_pts = 0\n",
    "    \n",
    "    if (is_FTA_made(team)):\n",
    "        result_pts += 1\n",
    "\n",
    "    return result_pts"
   ]
  },
  {
   "cell_type": "code",
   "execution_count": 29,
   "metadata": {},
   "outputs": [
    {
     "data": {
      "text/plain": [
       "1"
      ]
     },
     "execution_count": 29,
     "metadata": {},
     "output_type": "execute_result"
    }
   ],
   "source": [
    "# Test simulate_FT_attempt\n",
    "simulate_FT_attempt(team_A)"
   ]
  },
  {
   "cell_type": "code",
   "execution_count": 30,
   "metadata": {},
   "outputs": [],
   "source": [
    "def simulate_FT_attempts(team, attempts):\n",
    "    \"\"\"\n",
    "    Simulate free throw attempts\n",
    "    \"\"\"\n",
    "    # result represents the points scored\n",
    "    result_pts = 0\n",
    "    \n",
    "    # Loop through the number of attempts\n",
    "    for a in range(1, attempts+1):\n",
    "        result_pts += simulate_FT_attempt(team)\n",
    "        \n",
    "    return result_pts"
   ]
  },
  {
   "cell_type": "code",
   "execution_count": 31,
   "metadata": {},
   "outputs": [
    {
     "data": {
      "text/plain": [
       "2"
      ]
     },
     "execution_count": 31,
     "metadata": {},
     "output_type": "execute_result"
    }
   ],
   "source": [
    "# Test simulate_FT_attempts\n",
    "simulate_FT_attempts(team_A, 2)"
   ]
  },
  {
   "cell_type": "markdown",
   "metadata": {},
   "source": [
    "In order to determine if a team grabs an offensive rebound, the model must know if the final free throw attempt was a made basket or a miss. The below function will return the number of points scored for the given count of attempts along with a flag indicating the state of the final attempt."
   ]
  },
  {
   "cell_type": "code",
   "execution_count": 32,
   "metadata": {},
   "outputs": [],
   "source": [
    "def simulate_FT_attempts_with_final_FT_result(team, attempts):\n",
    "    \"\"\"\n",
    "    Simulate free throw attempts\n",
    "    \"\"\"\n",
    "    # result represents the points scored\n",
    "    result_pts = 0\n",
    "    result_final_FT_miss = False\n",
    "    \n",
    "    # Loop through the number of attempts\n",
    "    for a in range(1, attempts+1):\n",
    "        result = simulate_FT_attempt(team)\n",
    "        result_pts += result\n",
    "        # For final shot, set final FT miss flag\n",
    "        if (a == attempts):\n",
    "            if (result == 0):\n",
    "                result_final_FT_miss = True\n",
    "        \n",
    "    return result_pts, result_final_FT_miss"
   ]
  },
  {
   "cell_type": "code",
   "execution_count": 33,
   "metadata": {},
   "outputs": [
    {
     "data": {
      "text/plain": [
       "(2, False)"
      ]
     },
     "execution_count": 33,
     "metadata": {},
     "output_type": "execute_result"
    }
   ],
   "source": [
    "# Test simulate_FT_attempts_with_final_FT_result\n",
    "simulate_FT_attempts_with_final_FT_result(team_A, 2)"
   ]
  },
  {
   "cell_type": "markdown",
   "metadata": {},
   "source": [
    "To accurately reflect a true basketball possession, the model takes into account the possibility of the \"and-one\" shooting foul on a made field goal."
   ]
  },
  {
   "cell_type": "code",
   "execution_count": 34,
   "metadata": {},
   "outputs": [],
   "source": [
    "def simulate_2P_FG_attempt_with_shooting_foul_possible(team):\n",
    "    \"\"\"\n",
    "    Simulate a two-point field goal attempt\n",
    "    \"\"\"\n",
    "    # result represents the points scored\n",
    "    result_pts = 0\n",
    "    result_miss_fg = False\n",
    "    result_miss_ft = False\n",
    "\n",
    "    result_2P_FGA = is_2P_FGA_made(team)\n",
    "    \n",
    "    if (result_2P_FGA):\n",
    "        # FG attempt was made, add two points\n",
    "        result_pts += 2\n",
    "        \n",
    "        is_shooting_foul_drawn = did_shooting_foul_occur(team)\n",
    "                    \n",
    "        if (is_shooting_foul_drawn):            \n",
    "            # simulate free throw attempt\n",
    "            pts, is_final_FT_missed = simulate_FT_attempts_with_final_FT_result(team_A, 1)\n",
    "            result_pts += pts\n",
    "            result_miss_ft = is_final_FT_missed\n",
    "    else:\n",
    "        result_pts = 0\n",
    "        result_miss_fg = True\n",
    "        \n",
    "    return result_pts, result_miss_fg, result_miss_ft"
   ]
  },
  {
   "cell_type": "code",
   "execution_count": 35,
   "metadata": {},
   "outputs": [
    {
     "data": {
      "text/plain": [
       "(2, False, False)"
      ]
     },
     "execution_count": 35,
     "metadata": {},
     "output_type": "execute_result"
    }
   ],
   "source": [
    "# Test simulate_2P_FG_attempt_with_shooting_foul_possible\n",
    "simulate_2P_FG_attempt_with_shooting_foul_possible(team_A)"
   ]
  },
  {
   "cell_type": "code",
   "execution_count": 36,
   "metadata": {},
   "outputs": [],
   "source": [
    "def simulate_2P_FG_attempt(team):\n",
    "    \"\"\"\n",
    "    Simulate a two-point field goal attempt\n",
    "    \"\"\"\n",
    "    # result represents the points scored\n",
    "    result_pts = 0\n",
    "    \n",
    "    if (is_2P_FGA_made(team)):\n",
    "        result_pts += 2\n",
    "        \n",
    "    return result_pts"
   ]
  },
  {
   "cell_type": "code",
   "execution_count": 37,
   "metadata": {},
   "outputs": [
    {
     "data": {
      "text/plain": [
       "2"
      ]
     },
     "execution_count": 37,
     "metadata": {},
     "output_type": "execute_result"
    }
   ],
   "source": [
    "# Test simulate_2P_FG_attempt\n",
    "simulate_2P_FG_attempt(team_A)"
   ]
  },
  {
   "cell_type": "code",
   "execution_count": 38,
   "metadata": {},
   "outputs": [],
   "source": [
    "def simulate_3P_FG_attempt(team):\n",
    "    \"\"\"\n",
    "    Simulate a three-point field goal attempt\n",
    "    \"\"\"\n",
    "    # result represents the points scored\n",
    "    result_pts = 0\n",
    "    \n",
    "    if (is_3P_FGA_made(team)):\n",
    "        result_pts += 3\n",
    "        \n",
    "    return result_pts"
   ]
  },
  {
   "cell_type": "code",
   "execution_count": 39,
   "metadata": {},
   "outputs": [
    {
     "data": {
      "text/plain": [
       "0"
      ]
     },
     "execution_count": 39,
     "metadata": {},
     "output_type": "execute_result"
    }
   ],
   "source": [
    "# Test simulate_3P_FG_attempt\n",
    "simulate_3P_FG_attempt(team_A)"
   ]
  },
  {
   "cell_type": "markdown",
   "metadata": {},
   "source": [
    "Again, to accurately reflect a true basketball possession, the model takes into account the possibility of the \"and-one\" shooting foul on a made field goal."
   ]
  },
  {
   "cell_type": "code",
   "execution_count": 40,
   "metadata": {},
   "outputs": [],
   "source": [
    "def simulate_3P_FG_attempt_with_shooting_foul_possible(team):\n",
    "    \"\"\"\n",
    "    Simulate a three-point field goal attempt\n",
    "    \"\"\"\n",
    "    # result represents the points scored\n",
    "    result_pts = 0\n",
    "    result_miss_fg = False\n",
    "    result_miss_ft = False\n",
    "\n",
    "    result_3P_FGA = is_3P_FGA_made(team)\n",
    "    \n",
    "    if (result_3P_FGA):\n",
    "        # FG attempt was made, add three points\n",
    "        result_pts += 3\n",
    "        \n",
    "        is_shooting_foul_drawn = did_shooting_foul_occur(team)\n",
    "                    \n",
    "        if (is_shooting_foul_drawn):            \n",
    "            # simulate free throw attempt\n",
    "            pts, is_final_FT_missed = simulate_FT_attempts_with_final_FT_result(team_A, 1)\n",
    "            result_pts += pts\n",
    "            result_miss_ft = is_final_FT_missed\n",
    "    else:\n",
    "        result_pts = 0\n",
    "        result_miss_fg = True\n",
    "        \n",
    "    return result_pts, result_miss_fg, result_miss_ft"
   ]
  },
  {
   "cell_type": "code",
   "execution_count": 41,
   "metadata": {},
   "outputs": [
    {
     "data": {
      "text/plain": [
       "(3, False, False)"
      ]
     },
     "execution_count": 41,
     "metadata": {},
     "output_type": "execute_result"
    }
   ],
   "source": [
    "# Test simulate_3P_FG_attempt_with_shooting_foul_possible\n",
    "simulate_3P_FG_attempt_with_shooting_foul_possible(team_A)"
   ]
  },
  {
   "cell_type": "markdown",
   "metadata": {},
   "source": [
    "# don't believe this is used: Remove below function (simulate_missed_shot)"
   ]
  },
  {
   "cell_type": "code",
   "execution_count": 42,
   "metadata": {},
   "outputs": [],
   "source": [
    "def simulate_missed_shot(team):\n",
    "    \"\"\"\n",
    "    Simulate a missed shot, which allows team to get offensive rebound and continue possession\n",
    "    \"\"\"\n",
    "    result_pts = 0\n",
    "                   \n",
    "    offensive_rebound = did_offensive_rebound_occur(team)\n",
    "                    \n",
    "    if (offensive_rebound):\n",
    "        # Possession starts over\n",
    "        # Call simulate_possession (note: this call chain will result in simulate_possession called numerous time)\n",
    "        # result_pts += simulate_possession()\n",
    "        result_pts += 5\n",
    "    #else: Offensive rebound did not occur; Possession over\n",
    "                        \n",
    "    return result_pts"
   ]
  },
  {
   "cell_type": "code",
   "execution_count": 43,
   "metadata": {},
   "outputs": [
    {
     "data": {
      "text/plain": [
       "0"
      ]
     },
     "execution_count": 43,
     "metadata": {},
     "output_type": "execute_result"
    }
   ],
   "source": [
    "# Test simulate_missed_shot\n",
    "simulate_missed_shot(team_A)"
   ]
  },
  {
   "cell_type": "markdown",
   "metadata": {},
   "source": [
    "This function will modify a team's field-goal percentage based on the difference between the team's offensive rating and the opponent's defensive rating. Please note, a better defensive rating is a lower rating. The linear formula used to determine the amount to change is based on all the games of the 2019-20 NBA season to date.\n",
    "\n",
    "A good defensive team will cause a decrease in the field-goal shooting percentage.\n",
    "\n",
    "This function, along with the following two, are used to better simulate the matchup between two teams. Simply running the simulation for two teams independent of impact on one another ends up rewarding strong offensive teams. By creating this functions to account for opponent's defensive rating, the percentages of a team are adjusted according to the specific opponent."
   ]
  },
  {
   "cell_type": "code",
   "execution_count": 44,
   "metadata": {},
   "outputs": [],
   "source": [
    "def calculate_fg_pct_based_on_opp(team_off_rating, opp_def_rating, team_fg_pct):\n",
    "    \"\"\"\n",
    "    Calculate a shooting percentage based on the overall team offensive rating and opponent's defensive rating\n",
    "    \"\"\"\n",
    "    # 0.00355*x + -0.00505\n",
    "    # Based on linear regression formula\n",
    "    return (0.00355 * (opp_def_rating - team_off_rating) - 0.00505) + team_fg_pct"
   ]
  },
  {
   "cell_type": "code",
   "execution_count": 45,
   "metadata": {},
   "outputs": [
    {
     "data": {
      "text/plain": [
       "0.430515"
      ]
     },
     "execution_count": 45,
     "metadata": {},
     "output_type": "execute_result"
    }
   ],
   "source": [
    "calculate_fg_pct_based_on_opp(111.3, 101.6, 0.47)"
   ]
  },
  {
   "cell_type": "markdown",
   "metadata": {},
   "source": [
    "This function will modify a team's three-point field-goal percentage based on the difference between the team's offensive rating and the opponent's defensive rating. Please note, a better defensive rating is a lower rating. The linear formula used to determine the amount to change is based on all the games of the 2019-20 NBA season to date.\n",
    "\n",
    "A good defensive team will cause a decrease in the three-point field-goal shooting percentage."
   ]
  },
  {
   "cell_type": "code",
   "execution_count": 46,
   "metadata": {},
   "outputs": [],
   "source": [
    "def calculate_3p_fg_pct_based_on_opp(team_off_rating, opp_def_rating, team_3p_fg_pct):\n",
    "    \"\"\"\n",
    "    Calculate a shooting percentage based on the overall team offensive rating and opponent's defensive rating\n",
    "    \"\"\"\n",
    "    # 0.00463*x + -0.00847\n",
    "    # Based on linear regression formula\n",
    "    return (0.00463 * (opp_def_rating - team_off_rating) - 0.00847) + team_3p_fg_pct"
   ]
  },
  {
   "cell_type": "code",
   "execution_count": 47,
   "metadata": {},
   "outputs": [
    {
     "data": {
      "text/plain": [
       "0.329619"
      ]
     },
     "execution_count": 47,
     "metadata": {},
     "output_type": "execute_result"
    }
   ],
   "source": [
    "calculate_3p_fg_pct_based_on_opp(111.3, 101.6, 0.383)"
   ]
  },
  {
   "cell_type": "markdown",
   "metadata": {},
   "source": [
    "This function will modify a team's turnover percentage based on the difference between the team's offensive rating and the opponent's defensive rating. Please note, a better defensive rating is a lower rating. The linear formula used to determine the amount to change is based on all the games of the 2019-20 NBA season to date.\n",
    "\n",
    "A good defensive team will cause an increase in the turnover percentage."
   ]
  },
  {
   "cell_type": "code",
   "execution_count": 48,
   "metadata": {},
   "outputs": [],
   "source": [
    "def calculate_turnover_pct_based_on_opp(team_off_rating, opp_def_rating, turnover_pct):\n",
    "    \"\"\"\n",
    "    Calculate a turnover percentage based on the overall team offensive rating and opponent's defensive rating\n",
    "    \"\"\"\n",
    "    # -0.000993*x + -0.00478\n",
    "    # Based on linear regression formula\n",
    "    return (-0.000993 * (opp_def_rating - team_off_rating) - 0.00478) + turnover_pct"
   ]
  },
  {
   "cell_type": "code",
   "execution_count": 49,
   "metadata": {},
   "outputs": [
    {
     "data": {
      "text/plain": [
       "0.1408521"
      ]
     },
     "execution_count": 49,
     "metadata": {},
     "output_type": "execute_result"
    }
   ],
   "source": [
    "calculate_turnover_pct_based_on_opp(111.3, 101.6, 0.136)"
   ]
  },
  {
   "cell_type": "code",
   "execution_count": 50,
   "metadata": {},
   "outputs": [
    {
     "data": {
      "text/plain": [
       "0.1289361"
      ]
     },
     "execution_count": 50,
     "metadata": {},
     "output_type": "execute_result"
    }
   ],
   "source": [
    "calculate_turnover_pct_based_on_opp(112.3, 114.6, 0.136)"
   ]
  },
  {
   "cell_type": "markdown",
   "metadata": {},
   "source": [
    "Utility function used to keep a running total of the game statistics from each possession simulation."
   ]
  },
  {
   "cell_type": "code",
   "execution_count": 51,
   "metadata": {},
   "outputs": [],
   "source": [
    "def combine_poss_stats(poss_stats_running, poss_stats_instance):\n",
    "    \n",
    "    poss_stats_running.turnovers                       += poss_stats_instance.turnovers\n",
    "    poss_stats_running.two_point_field_goal_attempts   += poss_stats_instance.two_point_field_goal_attempts\n",
    "    poss_stats_running.two_point_field_goal_makes      += poss_stats_instance.two_point_field_goal_makes\n",
    "    poss_stats_running.three_point_field_goal_attempts += poss_stats_instance.three_point_field_goal_attempts\n",
    "    poss_stats_running.three_point_field_goal_makes    += poss_stats_instance.three_point_field_goal_makes\n",
    "    poss_stats_running.free_throw_attempts             += poss_stats_instance.free_throw_attempts\n",
    "    poss_stats_running.free_throw_makes                += poss_stats_instance.free_throw_makes\n",
    "    poss_stats_running.shooting_fouls_drawn            += poss_stats_instance.shooting_fouls_drawn\n",
    "    poss_stats_running.offensive_rebounds              += poss_stats_instance.offensive_rebounds\n",
    "    \n",
    "    return poss_stats_running"
   ]
  },
  {
   "cell_type": "code",
   "execution_count": 52,
   "metadata": {},
   "outputs": [
    {
     "data": {
      "text/html": [
       "<div>\n",
       "<style scoped>\n",
       "    .dataframe tbody tr th:only-of-type {\n",
       "        vertical-align: middle;\n",
       "    }\n",
       "\n",
       "    .dataframe tbody tr th {\n",
       "        vertical-align: top;\n",
       "    }\n",
       "\n",
       "    .dataframe thead th {\n",
       "        text-align: right;\n",
       "    }\n",
       "</style>\n",
       "<table border=\"1\" class=\"dataframe\">\n",
       "  <thead>\n",
       "    <tr style=\"text-align: right;\">\n",
       "      <th></th>\n",
       "      <th>values</th>\n",
       "    </tr>\n",
       "  </thead>\n",
       "  <tbody>\n",
       "    <tr>\n",
       "      <th>turnovers</th>\n",
       "      <td>7</td>\n",
       "    </tr>\n",
       "    <tr>\n",
       "      <th>two_point_field_goal_attempts</th>\n",
       "      <td>8</td>\n",
       "    </tr>\n",
       "    <tr>\n",
       "      <th>two_point_field_goal_makes</th>\n",
       "      <td>6</td>\n",
       "    </tr>\n",
       "    <tr>\n",
       "      <th>three_point_field_goal_attempts</th>\n",
       "      <td>4</td>\n",
       "    </tr>\n",
       "    <tr>\n",
       "      <th>three_point_field_goal_makes</th>\n",
       "      <td>15</td>\n",
       "    </tr>\n",
       "    <tr>\n",
       "      <th>free_throw_attempts</th>\n",
       "      <td>14</td>\n",
       "    </tr>\n",
       "    <tr>\n",
       "      <th>free_throw_makes</th>\n",
       "      <td>17</td>\n",
       "    </tr>\n",
       "    <tr>\n",
       "      <th>shooting_fouls_drawn</th>\n",
       "      <td>4</td>\n",
       "    </tr>\n",
       "    <tr>\n",
       "      <th>offensive_rebounds</th>\n",
       "      <td>6</td>\n",
       "    </tr>\n",
       "  </tbody>\n",
       "</table>\n",
       "</div>"
      ],
      "text/plain": [
       "turnovers                           7\n",
       "two_point_field_goal_attempts       8\n",
       "two_point_field_goal_makes          6\n",
       "three_point_field_goal_attempts     4\n",
       "three_point_field_goal_makes       15\n",
       "free_throw_attempts                14\n",
       "free_throw_makes                   17\n",
       "shooting_fouls_drawn                4\n",
       "offensive_rebounds                  6\n",
       "dtype: int64"
      ]
     },
     "execution_count": 52,
     "metadata": {},
     "output_type": "execute_result"
    }
   ],
   "source": [
    "# Test combine_poss_stats\n",
    "\n",
    "running = State(turnovers=1,\n",
    "                two_point_field_goal_attempts=3,\n",
    "                two_point_field_goal_makes=4,\n",
    "                three_point_field_goal_attempts=2,\n",
    "                three_point_field_goal_makes=7,\n",
    "                free_throw_attempts=10,\n",
    "                free_throw_makes=8,\n",
    "                shooting_fouls_drawn=2,\n",
    "                offensive_rebounds=5)\n",
    "\n",
    "instanc = State(turnovers=6,\n",
    "                two_point_field_goal_attempts=5,\n",
    "                two_point_field_goal_makes=2,\n",
    "                three_point_field_goal_attempts=2,\n",
    "                three_point_field_goal_makes=8,\n",
    "                free_throw_attempts=4,\n",
    "                free_throw_makes=9,\n",
    "                shooting_fouls_drawn=2,\n",
    "                offensive_rebounds=1)\n",
    "\n",
    "running = combine_poss_stats(running, instanc)\n",
    "\n",
    "running"
   ]
  },
  {
   "cell_type": "markdown",
   "metadata": {},
   "source": [
    "This function, simulate_possession, is the heart of the NBA game model. This is the primary function in which a possession is simulated with the result being the number of points scored in the possession along with the game statistics of the possession itself."
   ]
  },
  {
   "cell_type": "code",
   "execution_count": 53,
   "metadata": {},
   "outputs": [],
   "source": [
    "def simulate_possession(team):\n",
    "    \"\"\"\n",
    "    Simulate a possession for the given team\n",
    "    \"\"\"\n",
    "    \n",
    "    # Track stats for possession\n",
    "    poss_stats = initialize_game_stats_state()\n",
    "    \n",
    "    result_pts = 0\n",
    "    \n",
    "    is_turnover = did_turnover_occur(team)\n",
    "    \n",
    "    if (is_turnover):\n",
    "        # Turnover occured, return 0 points\n",
    "        # Line not necessary, but leaving in for clarity\n",
    "        poss_stats.turnovers += 1\n",
    "        result_pts = 0\n",
    "    else:\n",
    "        # Check if FGA occurred vs. FT attempts\n",
    "        is_FGA = did_field_goal_attempt_occur(team)\n",
    "        \n",
    "        if (is_FGA):\n",
    "            # FG attempted: 2P or 3P\n",
    "            result_2P_FGA = is_2P_FGA(team)\n",
    "            \n",
    "            if (result_2P_FGA):\n",
    "                # 2P Field Goal attempted\n",
    "                pts, miss_fg, miss_ft = simulate_2P_FG_attempt_with_shooting_foul_possible(team)\n",
    "                result_pts += pts\n",
    "                \n",
    "                # Count shot attempt\n",
    "                poss_stats.two_point_field_goal_attempts += 1\n",
    "                \n",
    "                if (pts == 2):\n",
    "                    poss_stats.two_point_field_goal_makes += 1\n",
    "                    if (miss_ft):\n",
    "                        poss_stats.free_throw_attempts += 1\n",
    "                        poss_stats.shooting_fouls_drawn += 1\n",
    "                elif (pts == 3):\n",
    "                    poss_stats.two_point_field_goal_makes += 1\n",
    "                    poss_stats.free_throw_attempts += 1\n",
    "                    poss_stats.free_throw_makes += 1\n",
    "                    poss_stats.shooting_fouls_drawn += 1\n",
    "                \n",
    "                # Opportunity for offensive rebound\n",
    "                if (miss_fg or miss_ft):\n",
    "                \n",
    "                    offensive_rebound = did_offensive_rebound_occur(team)\n",
    "                    \n",
    "                    if (offensive_rebound):\n",
    "                        # Possession starts over\n",
    "                        poss_stats.offensive_rebounds += 1\n",
    "                        # Recursively call simulate_possession\n",
    "                        poss_pts_recur, poss_stats_recur = simulate_possession(team)\n",
    "                        result_pts += poss_pts_recur\n",
    "                        poss_stats = combine_poss_stats(poss_stats, poss_stats_recur)\n",
    "                    # else: Offensive rebound did not occur; Possession over\n",
    "                # else: Nothing here, as opposing team will inbound ball; Possession over\n",
    "            else:\n",
    "                # 3P Field Goal attempted\n",
    "                pts, miss_fg, miss_ft = simulate_3P_FG_attempt_with_shooting_foul_possible(team)\n",
    "                result_pts += pts\n",
    "                \n",
    "                # Count shot attempt\n",
    "                poss_stats.three_point_field_goal_attempts += 1\n",
    "                \n",
    "                if (pts == 3):\n",
    "                    poss_stats.three_point_field_goal_makes += 1\n",
    "                    if (miss_ft):\n",
    "                        poss_stats.free_throw_attempts += 1\n",
    "                        poss_stats.shooting_fouls_drawn += 1\n",
    "                elif (pts == 4):\n",
    "                    poss_stats.three_point_field_goal_makes += 1\n",
    "                    poss_stats.free_throw_attempts += 1\n",
    "                    poss_stats.free_throw_makes += 1\n",
    "                    poss_stats.shooting_fouls_drawn += 1\n",
    "                \n",
    "                # Opportunity for offensive rebound\n",
    "                if (miss_fg or miss_ft):\n",
    "                \n",
    "                    offensive_rebound = did_offensive_rebound_occur(team)\n",
    "                    \n",
    "                    if (offensive_rebound):\n",
    "                        # Possession starts over\n",
    "                        poss_stats.offensive_rebounds += 1\n",
    "                        # Recursively call simulate_possession\n",
    "                        poss_pts_recur, poss_stats_recur = simulate_possession(team)\n",
    "                        result_pts += poss_pts_recur\n",
    "                        poss_stats = combine_poss_stats(poss_stats, poss_stats_recur)\n",
    "                    # else: Offensive rebound did not occur; Possession over\n",
    "                # else: Nothing here, as opposing team will inbound ball; Possession over\n",
    "                    \n",
    "        else:\n",
    "            # Free throw attempts\n",
    "            pts, miss = simulate_FT_attempts_with_final_FT_result(team_A, 2)\n",
    "            result_pts += pts\n",
    "            \n",
    "            poss_stats.free_throw_attempts += 2\n",
    "            poss_stats.shooting_fouls_drawn += 1\n",
    "            \n",
    "            if (pts == 1):\n",
    "                poss_stats.free_throw_makes += 1\n",
    "            elif (pts == 2):\n",
    "                poss_stats.free_throw_makes += 2\n",
    "            \n",
    "            # Opportunity for offensive rebound\n",
    "            if (miss):\n",
    "                \n",
    "                offensive_rebound = did_offensive_rebound_occur(team)\n",
    "                    \n",
    "                if (offensive_rebound):\n",
    "                    # Possession starts over\n",
    "                    poss_stats.offensive_rebounds += 1\n",
    "                    # Recursively call simulate_possession\n",
    "                    poss_pts_recur, poss_stats_recur = simulate_possession(team)\n",
    "                    result_pts += poss_pts_recur\n",
    "                    poss_stats = combine_poss_stats(poss_stats, poss_stats_recur)\n",
    "                # else: Offensive rebound did not occur; Possession over\n",
    "            # else: Nothing here, as opposing team will inbound ball; Possession over\n",
    "            \n",
    "    return result_pts, poss_stats"
   ]
  },
  {
   "cell_type": "code",
   "execution_count": 54,
   "metadata": {},
   "outputs": [
    {
     "data": {
      "text/plain": [
       "(2,\n",
       " turnovers                          0\n",
       " two_point_field_goal_attempts      1\n",
       " two_point_field_goal_makes         1\n",
       " three_point_field_goal_attempts    0\n",
       " three_point_field_goal_makes       0\n",
       " free_throw_attempts                0\n",
       " free_throw_makes                   0\n",
       " shooting_fouls_drawn               0\n",
       " offensive_rebounds                 0\n",
       " dtype: int64)"
      ]
     },
     "execution_count": 54,
     "metadata": {},
     "output_type": "execute_result"
    }
   ],
   "source": [
    "# Test simulate_possession\n",
    "simulate_possession(team_A)"
   ]
  },
  {
   "cell_type": "markdown",
   "metadata": {},
   "source": [
    "simulate_game function simply calls the simulate_possession function a total number of times based on the team's pace of play."
   ]
  },
  {
   "cell_type": "code",
   "execution_count": 55,
   "metadata": {},
   "outputs": [],
   "source": [
    "def simulate_game(team):\n",
    "    \"\"\"\n",
    "    Simulate a game by summing results of all possessions\n",
    "    \"\"\"\n",
    "    score = 0\n",
    "    score_at_poss = TimeSeries()\n",
    "    # Track stats for game\n",
    "    game_stats = initialize_game_stats_state()\n",
    "    \n",
    "    score_at_poss[0] = score\n",
    "    for p in range(1, math.ceil(team.pace)+1):\n",
    "        poss_pts, poss_stats = simulate_possession(team)\n",
    "        score += poss_pts\n",
    "        score_at_poss[p] = score\n",
    "        \n",
    "        game_stats = combine_poss_stats(game_stats, poss_stats)\n",
    "        \n",
    "    return score_at_poss, game_stats"
   ]
  },
  {
   "cell_type": "markdown",
   "metadata": {},
   "source": [
    "simuate_game function is verified along with a plot to illustrate the team's score increasing along with the possessions."
   ]
  },
  {
   "cell_type": "code",
   "execution_count": 56,
   "metadata": {},
   "outputs": [
    {
     "data": {
      "text/plain": [
       "108"
      ]
     },
     "execution_count": 56,
     "metadata": {},
     "output_type": "execute_result"
    },
    {
     "data": {
      "image/png": "[encoded data removed]",
      "text/plain": [
       "<Figure size 432x288 with 1 Axes>"
      ]
     },
     "metadata": {},
     "output_type": "display_data"
    }
   ],
   "source": [
    "# Test simulate_game\n",
    "game_score, game_stats = simulate_game(team_A)\n",
    "\n",
    "plot(game_score, label='Points')\n",
    "\n",
    "decorate(title='Running Game Score',\n",
    "         xlabel='Possession', \n",
    "         ylabel='Score')\n",
    "\n",
    "game_score.max()"
   ]
  },
  {
   "cell_type": "markdown",
   "metadata": {},
   "source": [
    "As a means of validation, confirming the model fits the real-world system expectations, the final game statistics State object is output to screen to allow for comparison with the team's real per game totals."
   ]
  },
  {
   "cell_type": "code",
   "execution_count": 57,
   "metadata": {},
   "outputs": [
    {
     "data": {
      "text/html": [
       "<div>\n",
       "<style scoped>\n",
       "    .dataframe tbody tr th:only-of-type {\n",
       "        vertical-align: middle;\n",
       "    }\n",
       "\n",
       "    .dataframe tbody tr th {\n",
       "        vertical-align: top;\n",
       "    }\n",
       "\n",
       "    .dataframe thead th {\n",
       "        text-align: right;\n",
       "    }\n",
       "</style>\n",
       "<table border=\"1\" class=\"dataframe\">\n",
       "  <thead>\n",
       "    <tr style=\"text-align: right;\">\n",
       "      <th></th>\n",
       "      <th>values</th>\n",
       "    </tr>\n",
       "  </thead>\n",
       "  <tbody>\n",
       "    <tr>\n",
       "      <th>turnovers</th>\n",
       "      <td>14</td>\n",
       "    </tr>\n",
       "    <tr>\n",
       "      <th>two_point_field_goal_attempts</th>\n",
       "      <td>53</td>\n",
       "    </tr>\n",
       "    <tr>\n",
       "      <th>two_point_field_goal_makes</th>\n",
       "      <td>25</td>\n",
       "    </tr>\n",
       "    <tr>\n",
       "      <th>three_point_field_goal_attempts</th>\n",
       "      <td>41</td>\n",
       "    </tr>\n",
       "    <tr>\n",
       "      <th>three_point_field_goal_makes</th>\n",
       "      <td>15</td>\n",
       "    </tr>\n",
       "    <tr>\n",
       "      <th>free_throw_attempts</th>\n",
       "      <td>19</td>\n",
       "    </tr>\n",
       "    <tr>\n",
       "      <th>free_throw_makes</th>\n",
       "      <td>13</td>\n",
       "    </tr>\n",
       "    <tr>\n",
       "      <th>shooting_fouls_drawn</th>\n",
       "      <td>10</td>\n",
       "    </tr>\n",
       "    <tr>\n",
       "      <th>offensive_rebounds</th>\n",
       "      <td>11</td>\n",
       "    </tr>\n",
       "  </tbody>\n",
       "</table>\n",
       "</div>"
      ],
      "text/plain": [
       "turnovers                          14\n",
       "two_point_field_goal_attempts      53\n",
       "two_point_field_goal_makes         25\n",
       "three_point_field_goal_attempts    41\n",
       "three_point_field_goal_makes       15\n",
       "free_throw_attempts                19\n",
       "free_throw_makes                   13\n",
       "shooting_fouls_drawn               10\n",
       "offensive_rebounds                 11\n",
       "dtype: int64"
      ]
     },
     "execution_count": 57,
     "metadata": {},
     "output_type": "execute_result"
    }
   ],
   "source": [
    "game_stats"
   ]
  },
  {
   "cell_type": "code",
   "execution_count": 58,
   "metadata": {},
   "outputs": [
    {
     "name": "stdout",
     "output_type": "stream",
     "text": [
      "Avg Score  : 109.4\n",
      "Avg TOs    : 12.3\n",
      "Avg 2P FGAs: 58.0\n",
      "Avg 2P FGMs: 30.7\n",
      "Avg 3P FGAs: 30.4\n",
      "Avg 3P FGMs: 11.4\n",
      "Avg FTAs   : 19.3\n",
      "Avg FTMs   : 13.8\n",
      "Avg SFs    : 10.2\n",
      "Avg OffRebs: 8.8\n"
     ]
    },
    {
     "data": {
      "image/png": "[encoded data removed]",
      "text/plain": [
       "<Figure size 432x288 with 1 Axes>"
      ]
     },
     "metadata": {},
     "output_type": "display_data"
    }
   ],
   "source": [
    "# Let's find the average score for a team (Spurs) ... should be about 113\n",
    "# Validation of the simulate_game model\n",
    "spurs = map_team_stats_to_system('SAS')\n",
    "\n",
    "\n",
    "results = TimeSeries()\n",
    "turnovers = TimeSeries()\n",
    "two_point_field_goal_attempts = TimeSeries()\n",
    "two_point_field_goal_makes = TimeSeries()\n",
    "three_point_field_goal_attempts = TimeSeries()\n",
    "three_point_field_goal_makes = TimeSeries()\n",
    "free_throw_attempts = TimeSeries()\n",
    "free_throw_makes = TimeSeries()\n",
    "shooting_fouls_drawn = TimeSeries()\n",
    "offensive_rebounds = TimeSeries()\n",
    "\n",
    "for g in range(1, 11):    \n",
    "    game_score, game_stats = simulate_game(spurs)\n",
    "    results[g] = game_score.max()\n",
    "    turnovers[g] = game_stats.turnovers\n",
    "    two_point_field_goal_attempts[g] = game_stats.two_point_field_goal_attempts\n",
    "    two_point_field_goal_makes[g] = game_stats.two_point_field_goal_makes\n",
    "    three_point_field_goal_attempts[g] = game_stats.three_point_field_goal_attempts\n",
    "    three_point_field_goal_makes[g] = game_stats.three_point_field_goal_makes\n",
    "    free_throw_attempts[g] = game_stats.free_throw_attempts\n",
    "    free_throw_makes[g] = game_stats.free_throw_makes\n",
    "    shooting_fouls_drawn[g] = game_stats.shooting_fouls_drawn\n",
    "    offensive_rebounds[g] = game_stats.offensive_rebounds\n",
    "    plot(game_score)\n",
    "\n",
    "decorate(title='Running Game Score',\n",
    "         xlabel='Possession', \n",
    "         ylabel='Score')\n",
    "    \n",
    "    \n",
    "print(\"Avg Score  :\", results.mean())\n",
    "print(\"Avg TOs    :\", turnovers.mean())\n",
    "print(\"Avg 2P FGAs:\", two_point_field_goal_attempts.mean())\n",
    "print(\"Avg 2P FGMs:\", two_point_field_goal_makes.mean())\n",
    "print(\"Avg 3P FGAs:\", three_point_field_goal_attempts.mean())\n",
    "print(\"Avg 3P FGMs:\", three_point_field_goal_makes.mean())\n",
    "print(\"Avg FTAs   :\", free_throw_attempts.mean())\n",
    "print(\"Avg FTMs   :\", free_throw_makes.mean())\n",
    "print(\"Avg SFs    :\", shooting_fouls_drawn.mean())\n",
    "print(\"Avg OffRebs:\", offensive_rebounds.mean())"
   ]
  },
  {
   "cell_type": "markdown",
   "metadata": {},
   "source": [
    "For documentation purposes: I ran the above simulation 100 times for the Spurs at 11:28am CT 7/12/20. Here are the results:\n",
    "\n",
    "- Avg Score  : 113.26\n",
    "\n",
    "- Avg TOs    : 11.33\n",
    "\n",
    "- Avg 2P FGAs: 59.18\n",
    "\n",
    "- Avg 2P FGMs: 31.03\n",
    "\n",
    "- Avg 3P FGAs: 29.18\n",
    "\n",
    "- Avg 3P FGMs: 11.2\n",
    "\n",
    "- Avg FTAs   : 23.74\n",
    "\n",
    "- Avg FTMs   : 17.6\n",
    "\n",
    "- Avg SFs    : 12.91\n",
    "\n",
    "- Avg OffRebs: 9.52\n",
    "\n",
    "Spurs 2019-20 season per-game averages according to https://stats.nba.com/teams/traditional/\n",
    "\n",
    "- Points     : 113.2\n",
    "\n",
    "- Turnovers  : 12.3\n",
    "\n",
    "- 2P FGAs    : 60.8 (89.5 - 28.7)\n",
    "\n",
    "- 2P FGMs    : 31.3 (42.0 - 10.7)\n",
    "\n",
    "- 3P FGAs    : 28.7\n",
    "\n",
    "- 3P FGMs    : 10.7\n",
    "\n",
    "- FTAs       : 22.8\n",
    "\n",
    "- FTMs       : 18.4\n",
    "\n",
    "- SFs        : --\n",
    "\n",
    "- OffRebs    : 8.8"
   ]
  },
  {
   "cell_type": "markdown",
   "metadata": {},
   "source": [
    "Below plot shows the distribution of final game score for each of the simulations run."
   ]
  },
  {
   "cell_type": "code",
   "execution_count": 59,
   "metadata": {},
   "outputs": [
    {
     "data": {
      "image/png": "[encoded data removed]",
      "text/plain": [
       "<Figure size 432x288 with 1 Axes>"
      ]
     },
     "metadata": {},
     "output_type": "display_data"
    }
   ],
   "source": [
    "game_totals_ser = pandas.Series(results)\n",
    "\n",
    "game_totals_ser.plot.hist(bins=20, alpha=0.5, legend=False)\n",
    "\n",
    "decorate(title='Distribution of Scores',\n",
    "         xlabel='Score', \n",
    "         ylabel='Frequency',\n",
    "         legend=None)"
   ]
  },
  {
   "cell_type": "markdown",
   "metadata": {},
   "source": [
    "In order to ensure the same pace for two teams, the average of the two teams' paces are calculated."
   ]
  },
  {
   "cell_type": "code",
   "execution_count": 60,
   "metadata": {},
   "outputs": [],
   "source": [
    "def calculate_pace_of_game(team_one_pace, team_two_pace):\n",
    "    \"\"\"\n",
    "    Calculate pace of a game between two teams\n",
    "    \"\"\"\n",
    "    # Calculate average of the pace given the two teams\n",
    "    return (team_one_pace + team_two_pace) / 2"
   ]
  },
  {
   "cell_type": "code",
   "execution_count": 61,
   "metadata": {},
   "outputs": [
    {
     "data": {
      "text/plain": [
       "100.94999999999999"
      ]
     },
     "execution_count": 61,
     "metadata": {},
     "output_type": "execute_result"
    }
   ],
   "source": [
    "pace = calculate_pace_of_game(100.6, 101.3)"
   ]
  },
  {
   "cell_type": "markdown",
   "metadata": {},
   "source": [
    "The below function, simulate_matchup_between_two_teams, is the heart of the model that simulates a game between two teams."
   ]
  },
  {
   "cell_type": "code",
   "execution_count": 62,
   "metadata": {},
   "outputs": [],
   "source": [
    "def simulate_matchup_between_two_teams(team_1, team_2, games):\n",
    "    \"\"\"\n",
    "    Simulate a matchup between two teams.\n",
    "    High level: The simulate_game function is called for each team, and then the results (final scores) are compared\n",
    "    Algorithm does identify tie games and runs a simulation for overtime until there is a winner\n",
    "    games: games per matchup simulation\n",
    "    \"\"\"\n",
    "    \n",
    "    m_start_time = time.time()\n",
    "    \n",
    "    # Map statistics from input file\n",
    "    team_one = map_team_stats_to_system(team_1)\n",
    "    team_two = map_team_stats_to_system(team_2)\n",
    "    \n",
    "    # Calculate pace of game based on the two teams\n",
    "    matchup_pace =  calculate_pace_of_game(team_one.pace, team_two.pace)\n",
    "    \n",
    "    # Modify shooting percentages based on offensive and defensive team ratings\n",
    "    team_one.two_pt_fg_shooting_pct = calculate_fg_pct_based_on_opp(team_one.off_rating, team_two.def_rating, team_one.two_pt_fg_shooting_pct)\n",
    "    team_one.three_pt_fg_shooting_pct = calculate_3p_fg_pct_based_on_opp(team_one.off_rating, team_two.def_rating, team_one.three_pt_fg_shooting_pct)\n",
    "    \n",
    "    team_two.two_pt_fg_shooting_pct = calculate_fg_pct_based_on_opp(team_two.off_rating, team_one.def_rating, team_two.two_pt_fg_shooting_pct)\n",
    "    team_two.three_pt_fg_shooting_pct = calculate_3p_fg_pct_based_on_opp(team_two.off_rating, team_one.def_rating, team_two.three_pt_fg_shooting_pct)\n",
    "\n",
    "    # Modify turnover percentages based on offensive and defensive team ratings\n",
    "    team_one.turnover_pct_per_play = calculate_turnover_pct_based_on_opp(team_one.off_rating, team_two.def_rating, team_one.turnover_pct_per_play)\n",
    "    team_two.turnover_pct_per_play = calculate_turnover_pct_based_on_opp(team_two.off_rating, team_one.def_rating, team_two.turnover_pct_per_play)\n",
    "\n",
    "    \n",
    "    # Initialize matchup state\n",
    "    matchup = State(team_one_wins=0,\n",
    "                    team_two_wins=0,\n",
    "                    overtime_games=0,\n",
    "                    games=0,\n",
    "                    team_one_score=TimeSeries(),\n",
    "                    team_two_score=TimeSeries(),\n",
    "                    team_one=team_1,\n",
    "                    team_two=team_2)\n",
    "    \n",
    "    # Create TimeSeries object to track the game result difference\n",
    "    game_result_diff = TimeSeries()\n",
    "    \n",
    "    # Loop through a game X number of times based on input parameter\n",
    "    for g in range(1, games+1):\n",
    "        matchup.games += 1\n",
    "                \n",
    "        # Always re-initialize pace\n",
    "        team_one.pace = matchup_pace\n",
    "        team_two.pace = matchup_pace\n",
    "        \n",
    "        gm_team_one, gm_team_one_stats = simulate_game(team_one)\n",
    "        gm_team_two, gm_team_two_stats = simulate_game(team_two)\n",
    "        \n",
    "        if (gm_team_one.max() > gm_team_two.max()):\n",
    "            matchup.team_one_wins += 1\n",
    "            matchup.team_one_score[g] = gm_team_one.max()\n",
    "            matchup.team_two_score[g] = gm_team_two.max()\n",
    "            game_result_diff[g] = gm_team_one.max() - gm_team_two.max()\n",
    "        elif (gm_team_two.max() > gm_team_one.max()):\n",
    "            matchup.team_two_wins += 1\n",
    "            matchup.team_one_score[g] = gm_team_one.max()\n",
    "            matchup.team_two_score[g] = gm_team_two.max()\n",
    "            game_result_diff[g] = gm_team_one.max() - gm_team_two.max()\n",
    "        else:\n",
    "            # Tie: Send game to overtime\n",
    "            matchup.overtime_games += 1\n",
    "            score_tied = True\n",
    "            \n",
    "            # Modify pace for 5 minutes\n",
    "            ot_pace = (matchup_pace / 48) * 5\n",
    "            team_one.pace = ot_pace\n",
    "            team_two.pace = ot_pace\n",
    "            \n",
    "            while (score_tied):\n",
    "                \n",
    "                gm_team_one, gm_team_one_stats = (simulate_game(team_one))\n",
    "                gm_team_two, gm_team_two_stats = (simulate_game(team_two))\n",
    "                \n",
    "                if (gm_team_one.max() > gm_team_two.max()):\n",
    "                    matchup.team_one_wins += 1\n",
    "                    matchup.team_one_score[g] = gm_team_one.max()\n",
    "                    matchup.team_two_score[g] = gm_team_two.max()\n",
    "                    game_result_diff[g] = gm_team_one.max() - gm_team_two.max()\n",
    "                    score_tied = False\n",
    "                elif (gm_team_two.max() > gm_team_one.max()):\n",
    "                    matchup.team_two_wins += 1\n",
    "                    matchup.team_one_score[g] = gm_team_one.max()\n",
    "                    matchup.team_two_score[g] = gm_team_two.max()\n",
    "                    game_result_diff[g] = gm_team_one.max() - gm_team_two.max()\n",
    "                    score_tied = False\n",
    " \n",
    "    print(\"Matchup run time: %s seconds ---\" % (time.time() - m_start_time))\n",
    "        \n",
    "    return matchup, game_result_diff"
   ]
  },
  {
   "cell_type": "code",
   "execution_count": 63,
   "metadata": {},
   "outputs": [
    {
     "data": {
      "text/html": [
       "<div>\n",
       "<style scoped>\n",
       "    .dataframe tbody tr th:only-of-type {\n",
       "        vertical-align: middle;\n",
       "    }\n",
       "\n",
       "    .dataframe tbody tr th {\n",
       "        vertical-align: top;\n",
       "    }\n",
       "\n",
       "    .dataframe thead th {\n",
       "        text-align: right;\n",
       "    }\n",
       "</style>\n",
       "<table border=\"1\" class=\"dataframe\">\n",
       "  <thead>\n",
       "    <tr style=\"text-align: right;\">\n",
       "      <th></th>\n",
       "      <th>values</th>\n",
       "    </tr>\n",
       "  </thead>\n",
       "  <tbody>\n",
       "    <tr>\n",
       "      <th>turnover_pct_per_play</th>\n",
       "      <td>0.112</td>\n",
       "    </tr>\n",
       "    <tr>\n",
       "      <th>fga_pct_per_play</th>\n",
       "      <td>0.886</td>\n",
       "    </tr>\n",
       "    <tr>\n",
       "      <th>off_reb_per_play</th>\n",
       "      <td>0.093</td>\n",
       "    </tr>\n",
       "    <tr>\n",
       "      <th>two_pt_fg_attempts_pct</th>\n",
       "      <td>0.539</td>\n",
       "    </tr>\n",
       "    <tr>\n",
       "      <th>two_pt_fg_shooting_pct</th>\n",
       "      <td>0.542</td>\n",
       "    </tr>\n",
       "    <tr>\n",
       "      <th>three_pt_fg_shooting_pct</th>\n",
       "      <td>0.369</td>\n",
       "    </tr>\n",
       "    <tr>\n",
       "      <th>ft_shooting_pct</th>\n",
       "      <td>0.773</td>\n",
       "    </tr>\n",
       "    <tr>\n",
       "      <th>shooting_foul_drawn_pct</th>\n",
       "      <td>0.081</td>\n",
       "    </tr>\n",
       "    <tr>\n",
       "      <th>pace</th>\n",
       "      <td>99.780</td>\n",
       "    </tr>\n",
       "    <tr>\n",
       "      <th>off_rating</th>\n",
       "      <td>115.800</td>\n",
       "    </tr>\n",
       "    <tr>\n",
       "      <th>def_rating</th>\n",
       "      <td>110.000</td>\n",
       "    </tr>\n",
       "  </tbody>\n",
       "</table>\n",
       "</div>"
      ],
      "text/plain": [
       "turnover_pct_per_play         0.112\n",
       "fga_pct_per_play              0.886\n",
       "off_reb_per_play              0.093\n",
       "two_pt_fg_attempts_pct        0.539\n",
       "two_pt_fg_shooting_pct        0.542\n",
       "three_pt_fg_shooting_pct      0.369\n",
       "ft_shooting_pct               0.773\n",
       "shooting_foul_drawn_pct       0.081\n",
       "pace                         99.780\n",
       "off_rating                  115.800\n",
       "def_rating                  110.000\n",
       "dtype: float64"
      ]
     },
     "execution_count": 63,
     "metadata": {},
     "output_type": "execute_result"
    }
   ],
   "source": [
    "# Test map_team_stats_to_system\n",
    "team_A = map_team_stats_to_system('DAL')\n",
    "\n",
    "team_A"
   ]
  },
  {
   "cell_type": "code",
   "execution_count": 64,
   "metadata": {},
   "outputs": [
    {
     "name": "stdout",
     "output_type": "stream",
     "text": [
      "Matchup run time: 2.7056751251220703 seconds ---\n",
      "MIL wins: 4\n",
      "LAL wins: 1\n",
      "Overtime games: 1\n",
      "Total Games: 5\n"
     ]
    }
   ],
   "source": [
    "# Test simulate_matchup_between_two_teams\n",
    "matchup_results, pt_diffs = simulate_matchup_between_two_teams('MIL', 'LAL', 5)\n",
    "\n",
    "print(matchup_results.team_one, \"wins:\", matchup_results.team_one_wins)\n",
    "print(matchup_results.team_two, \"wins:\", matchup_results.team_two_wins)\n",
    "print(\"Overtime games:\", matchup_results.overtime_games)\n",
    "print(\"Total Games:\", matchup_results.games)"
   ]
  },
  {
   "cell_type": "markdown",
   "metadata": {},
   "source": [
    "A plot of the score difference for each game of the two-team matchup simulation."
   ]
  },
  {
   "cell_type": "code",
   "execution_count": 65,
   "metadata": {},
   "outputs": [
    {
     "data": {
      "image/png": "[encoded data removed]",
      "text/plain": [
       "<Figure size 432x288 with 1 Axes>"
      ]
     },
     "metadata": {},
     "output_type": "display_data"
    }
   ],
   "source": [
    "pt_diffs_ser = pandas.Series(pt_diffs)\n",
    "\n",
    "pt_diffs_ser.plot.hist(bins=20, alpha=0.5, label='MIL')\n",
    "\n",
    "decorate(title='Distribution of Scores Difference',\n",
    "         xlabel='Difference', \n",
    "         ylabel='Frequency',\n",
    "         legend='MIL')"
   ]
  },
  {
   "cell_type": "code",
   "execution_count": 66,
   "metadata": {},
   "outputs": [
    {
     "data": {
      "text/plain": [
       "3.8"
      ]
     },
     "execution_count": 66,
     "metadata": {},
     "output_type": "execute_result"
    }
   ],
   "source": [
    "pt_diffs.mean()"
   ]
  },
  {
   "cell_type": "code",
   "execution_count": 67,
   "metadata": {},
   "outputs": [
    {
     "data": {
      "image/png": "[encoded data removed]",
      "text/plain": [
       "<Figure size 432x288 with 1 Axes>"
      ]
     },
     "metadata": {},
     "output_type": "display_data"
    }
   ],
   "source": [
    "from matplotlib import pyplot\n",
    "\n",
    "team_one_scores = pandas.Series(matchup_results.team_one_score)\n",
    "team_two_scores = pandas.Series(matchup_results.team_two_score)\n",
    "\n",
    "pyplot.hist(team_one_scores, bins=20, alpha=0.5, label=matchup_results.team_one)\n",
    "pyplot.hist(team_two_scores, bins=20, alpha=0.5, label=matchup_results.team_two)\n",
    "pyplot.legend(loc='upper right')\n",
    "decorate(title='Distribution of Scores',\n",
    "         xlabel='Score', \n",
    "         ylabel='Frequency',\n",
    "         legend=None)\n",
    "pyplot.show()"
   ]
  },
  {
   "cell_type": "code",
   "execution_count": 68,
   "metadata": {},
   "outputs": [
    {
     "data": {
      "image/png": "[encoded data removed]",
      "text/plain": [
       "<Figure size 432x288 with 1 Axes>"
      ]
     },
     "metadata": {},
     "output_type": "display_data"
    }
   ],
   "source": [
    "plot(matchup_results.team_one_score)\n",
    "plot(matchup_results.team_two_score)\n",
    "decorate(title='Score by Game Simulation',\n",
    "         xlabel='Game', \n",
    "         ylabel='Final Score',\n",
    "         legend=None)"
   ]
  },
  {
   "cell_type": "code",
   "execution_count": 69,
   "metadata": {},
   "outputs": [],
   "source": [
    "def determine_series_winner(team_one, team_two, results):\n",
    "    \"\"\"\n",
    "    Determine the series winner based on the results object from a matchup\n",
    "    \"\"\"\n",
    "    \n",
    "    winner = team_two\n",
    "    \n",
    "    if (results.team_one_wins > results.team_two_wins):\n",
    "        winner = team_one\n",
    "        \n",
    "    return winner"
   ]
  },
  {
   "cell_type": "markdown",
   "metadata": {},
   "source": [
    "Utility function to output the results of a series outcome to show progress in the simulate_playoffs function along with the results of each series."
   ]
  },
  {
   "cell_type": "code",
   "execution_count": 70,
   "metadata": {},
   "outputs": [],
   "source": [
    "def output_playoff_series_result(team_one, team_two, results):\n",
    "    \"\"\"\n",
    "    Display to screen the playoff series result\n",
    "    \"\"\"\n",
    "    \n",
    "    print(\"===== Series Result =====\")\n",
    "    \n",
    "    print(team_one, \"wins:\", results.team_one_wins)\n",
    "    print(team_two, \"wins:\", results.team_two_wins)\n",
    "    \n",
    "    if (results.team_one_wins > results.team_two_wins):\n",
    "        print (\"Series Winner:\", team_one)\n",
    "    else:\n",
    "        print (\"Series Winner:\", team_two)"
   ]
  },
  {
   "cell_type": "markdown",
   "metadata": {},
   "source": [
    "simulate_playoffs function runs a tournament simulation for sixteen teams."
   ]
  },
  {
   "cell_type": "code",
   "execution_count": 71,
   "metadata": {},
   "outputs": [],
   "source": [
    "def simulate_playoffs(eastern_conf, western_conf, games_per_series_sim):\n",
    "    \"\"\"\n",
    "    Simulate NBA playoffs\n",
    "    \"\"\"\n",
    "    \n",
    "    # Set number of game simulations per matchup\n",
    "    games = games_per_series_sim\n",
    "    \n",
    "    # ===== Simulate first round =====\n",
    "    \n",
    "    # Eastern conference\n",
    "    first_rd_east_series_one_results, first_rd_east_series_one_pt_diffs = simulate_matchup_between_two_teams(eastern_conf[0], eastern_conf[7], games)\n",
    "    first_rd_east_series_one_winner = determine_series_winner(eastern_conf[0], eastern_conf[7], first_rd_east_series_one_results)\n",
    "    output_playoff_series_result(eastern_conf[0], eastern_conf[7], first_rd_east_series_one_results)\n",
    "    \n",
    "    first_rd_east_series_two_results, first_rd_east_series_two_pt_diffs = simulate_matchup_between_two_teams(eastern_conf[3], eastern_conf[4], games)\n",
    "    first_rd_east_series_two_winner = determine_series_winner(eastern_conf[3], eastern_conf[4], first_rd_east_series_two_results)\n",
    "    output_playoff_series_result(eastern_conf[3], eastern_conf[4], first_rd_east_series_two_results)\n",
    "    \n",
    "    first_rd_east_series_three_results, first_rd_east_series_three_pt_diffs = simulate_matchup_between_two_teams(eastern_conf[1], eastern_conf[6], games)\n",
    "    first_rd_east_series_three_winner = determine_series_winner(eastern_conf[1], eastern_conf[6], first_rd_east_series_three_results)\n",
    "    output_playoff_series_result(eastern_conf[1], eastern_conf[6], first_rd_east_series_three_results)\n",
    "    \n",
    "    first_rd_east_series_four_results, first_rd_east_series_four_pt_diffs = simulate_matchup_between_two_teams(eastern_conf[2], eastern_conf[5], games)\n",
    "    first_rd_east_series_four_winner = determine_series_winner(eastern_conf[2], eastern_conf[5], first_rd_east_series_four_results)\n",
    "    output_playoff_series_result(eastern_conf[2], eastern_conf[5], first_rd_east_series_four_results)\n",
    "    \n",
    "    \n",
    "    # Western conference\n",
    "    first_rd_west_series_one_results, first_rd_west_series_one_pt_diffs = simulate_matchup_between_two_teams(western_conf[0], western_conf[7], games)\n",
    "    first_rd_west_series_one_winner = determine_series_winner(western_conf[0], western_conf[7], first_rd_west_series_one_results)\n",
    "    output_playoff_series_result(western_conf[0], western_conf[7], first_rd_west_series_one_results)\n",
    "    \n",
    "    first_rd_west_series_two_results, first_rd_west_series_two_pt_diffs = simulate_matchup_between_two_teams(western_conf[3], western_conf[4], games)\n",
    "    first_rd_west_series_two_winner = determine_series_winner(western_conf[3], western_conf[4], first_rd_west_series_two_results)\n",
    "    output_playoff_series_result(western_conf[3], western_conf[4], first_rd_west_series_two_results)\n",
    "    \n",
    "    first_rd_west_series_three_results, first_rd_west_series_three_pt_diffs = simulate_matchup_between_two_teams(western_conf[1], western_conf[6], games)\n",
    "    first_rd_west_series_three_winner = determine_series_winner(western_conf[1], western_conf[6], first_rd_west_series_three_results)\n",
    "    output_playoff_series_result(western_conf[1], western_conf[6], first_rd_west_series_three_results)\n",
    "    \n",
    "    first_rd_west_series_four_results, first_rd_west_series_four_pt_diffs = simulate_matchup_between_two_teams(western_conf[2], western_conf[5], games)\n",
    "    first_rd_west_series_four_winner = determine_series_winner(western_conf[2], western_conf[5], first_rd_west_series_four_results)\n",
    "    output_playoff_series_result(western_conf[2], western_conf[5], first_rd_west_series_four_results)\n",
    "\n",
    "        \n",
    "    # ===== Simulate second round =====\n",
    "    \n",
    "    # Eastern Conference\n",
    "    second_rd_east_series_one_results, second_rd_east_series_one_pt_diffs = simulate_matchup_between_two_teams(first_rd_east_series_one_winner, first_rd_east_series_two_winner, games)\n",
    "    second_rd_east_series_one_winner = determine_series_winner(first_rd_east_series_one_winner, first_rd_east_series_two_winner, second_rd_east_series_one_results)\n",
    "    output_playoff_series_result(first_rd_east_series_one_winner, first_rd_east_series_two_winner, second_rd_east_series_one_results)\n",
    "    \n",
    "    second_rd_east_series_two_results, second_rd_east_series_two_pt_diffs = simulate_matchup_between_two_teams(first_rd_east_series_three_winner, first_rd_east_series_four_winner, games)\n",
    "    second_rd_east_series_two_winner = determine_series_winner(first_rd_east_series_three_winner, first_rd_east_series_four_winner, second_rd_east_series_two_results)\n",
    "    output_playoff_series_result(first_rd_east_series_three_winner, first_rd_east_series_four_winner, second_rd_east_series_two_results)\n",
    "\n",
    "    # Western Conference\n",
    "    second_rd_west_series_one_results, second_rd_west_series_one_pt_diffs = simulate_matchup_between_two_teams(first_rd_west_series_one_winner, first_rd_west_series_two_winner, games)\n",
    "    second_rd_west_series_one_winner = determine_series_winner(first_rd_west_series_one_winner, first_rd_west_series_two_winner, second_rd_west_series_one_results)\n",
    "    output_playoff_series_result(first_rd_west_series_one_winner, first_rd_west_series_two_winner, second_rd_west_series_one_results)\n",
    "    \n",
    "    second_rd_west_series_two_results, second_rd_west_series_two_pt_diffs = simulate_matchup_between_two_teams(first_rd_west_series_three_winner, first_rd_west_series_four_winner, games)\n",
    "    second_rd_west_series_two_winner = determine_series_winner(first_rd_west_series_three_winner, first_rd_west_series_four_winner, second_rd_west_series_two_results)\n",
    "    output_playoff_series_result(first_rd_west_series_three_winner, first_rd_west_series_four_winner, second_rd_west_series_two_results)\n",
    "\n",
    "        \n",
    "    # ===== Simulate conference finals =====\n",
    "    \n",
    "    # Eastern Conference\n",
    "    third_rd_east_series_one_results, third_rd_east_series_one_pt_diffs = simulate_matchup_between_two_teams(second_rd_east_series_one_winner, second_rd_east_series_two_winner, games)\n",
    "    third_rd_east_series_one_winner = determine_series_winner(second_rd_east_series_one_winner, second_rd_east_series_two_winner, third_rd_east_series_one_results)\n",
    "    output_playoff_series_result(second_rd_east_series_one_winner, second_rd_east_series_two_winner, third_rd_east_series_one_results)\n",
    "\n",
    "    # Western Conference\n",
    "    third_rd_west_series_one_results, third_rd_west_series_one_pt_diffs = simulate_matchup_between_two_teams(second_rd_west_series_one_winner, second_rd_west_series_two_winner, games)\n",
    "    third_rd_west_series_one_winner = determine_series_winner(second_rd_west_series_one_winner, second_rd_west_series_two_winner, third_rd_west_series_one_results)\n",
    "    output_playoff_series_result(second_rd_west_series_one_winner, second_rd_west_series_two_winner, third_rd_west_series_one_results)\n",
    "\n",
    "    \n",
    "    # ===== Simulate NBA finals =====\n",
    "    nba_finals_results, nba_finals_pt_diffs = simulate_matchup_between_two_teams(third_rd_east_series_one_winner, third_rd_west_series_one_winner, games)\n",
    "    nba_finals_winner = determine_series_winner(third_rd_east_series_one_winner, third_rd_west_series_one_winner, nba_finals_results)\n",
    "    output_playoff_series_result(third_rd_east_series_one_winner, third_rd_west_series_one_winner, nba_finals_results)\n",
    "\n",
    "    \n",
    "    return nba_finals_winner\n"
   ]
  },
  {
   "cell_type": "code",
   "execution_count": 72,
   "metadata": {},
   "outputs": [
    {
     "name": "stdout",
     "output_type": "stream",
     "text": [
      "===== Series Result =====\n",
      "DAL wins: 4\n",
      "NYK wins: 1\n",
      "Series Winner: DAL\n"
     ]
    }
   ],
   "source": [
    "# Test output_playoff_series_result\n",
    "output_playoff_series_result('DAL', 'NYK', matchup_results)"
   ]
  },
  {
   "cell_type": "markdown",
   "metadata": {},
   "source": [
    "## Below cell performs a playoff simulation\n",
    "\n",
    "Set the variable 'simulations_per_series' appropriately. 101 should be sufficient. Remember, the higher the number, the longer the playoff simulation will take to complete."
   ]
  },
  {
   "cell_type": "code",
   "execution_count": 73,
   "metadata": {},
   "outputs": [
    {
     "name": "stdout",
     "output_type": "stream",
     "text": [
      "Matchup run time: 4.261004686355591 seconds ---\n",
      "===== Series Result =====\n",
      "MIL wins: 2\n",
      "ORL wins: 3\n",
      "Series Winner: ORL\n",
      "Matchup run time: 5.217863321304321 seconds ---\n",
      "===== Series Result =====\n",
      "MIA wins: 3\n",
      "IND wins: 2\n",
      "Series Winner: MIA\n",
      "Matchup run time: 3.353494167327881 seconds ---\n",
      "===== Series Result =====\n",
      "TOR wins: 3\n",
      "BKN wins: 2\n",
      "Series Winner: TOR\n",
      "Matchup run time: 4.057646751403809 seconds ---\n",
      "===== Series Result =====\n",
      "BOS wins: 2\n",
      "PHI wins: 3\n",
      "Series Winner: PHI\n",
      "Matchup run time: 3.6503748893737793 seconds ---\n",
      "===== Series Result =====\n",
      "LAL wins: 4\n",
      "MEM wins: 1\n",
      "Series Winner: LAL\n",
      "Matchup run time: 3.914623975753784 seconds ---\n",
      "===== Series Result =====\n",
      "UTA wins: 1\n",
      "OKC wins: 4\n",
      "Series Winner: OKC\n",
      "Matchup run time: 3.0163259506225586 seconds ---\n",
      "===== Series Result =====\n",
      "LAC wins: 2\n",
      "DAL wins: 3\n",
      "Series Winner: DAL\n",
      "Matchup run time: 2.530951976776123 seconds ---\n",
      "===== Series Result =====\n",
      "DEN wins: 5\n",
      "HOU wins: 0\n",
      "Series Winner: DEN\n",
      "Matchup run time: 2.5770139694213867 seconds ---\n",
      "===== Series Result =====\n",
      "ORL wins: 2\n",
      "MIA wins: 3\n",
      "Series Winner: MIA\n",
      "Matchup run time: 3.3495490550994873 seconds ---\n",
      "===== Series Result =====\n",
      "TOR wins: 1\n",
      "PHI wins: 4\n",
      "Series Winner: PHI\n",
      "Matchup run time: 3.2317230701446533 seconds ---\n",
      "===== Series Result =====\n",
      "LAL wins: 4\n",
      "OKC wins: 1\n",
      "Series Winner: LAL\n",
      "Matchup run time: 3.129504919052124 seconds ---\n",
      "===== Series Result =====\n",
      "DAL wins: 3\n",
      "DEN wins: 2\n",
      "Series Winner: DAL\n",
      "Matchup run time: 2.8569610118865967 seconds ---\n",
      "===== Series Result =====\n",
      "MIA wins: 1\n",
      "PHI wins: 4\n",
      "Series Winner: PHI\n",
      "Matchup run time: 2.9229397773742676 seconds ---\n",
      "===== Series Result =====\n",
      "LAL wins: 2\n",
      "DAL wins: 3\n",
      "Series Winner: DAL\n",
      "Matchup run time: 2.886728048324585 seconds ---\n",
      "===== Series Result =====\n",
      "PHI wins: 2\n",
      "DAL wins: 3\n",
      "Series Winner: DAL\n",
      "--- 50.976933002471924 seconds ---\n"
     ]
    }
   ],
   "source": [
    "# Standings as of July 11, 2020\n",
    "east = ['MIL', 'TOR', 'BOS', 'MIA', 'IND', 'PHI', 'BKN', 'ORL']\n",
    "west = ['LAL', 'LAC', 'DEN', 'UTA', 'OKC', 'HOU', 'DAL', 'MEM']\n",
    "\n",
    "simulations_per_series = 5\n",
    "\n",
    "# Test simulate_playoffs\n",
    "start_time = time.time()\n",
    "\n",
    "simulate_playoffs(east, west, simulations_per_series)\n",
    "\n",
    "print(\"--- %s seconds ---\" % (time.time() - start_time))"
   ]
  }
 ],
 "metadata": {
  "kernelspec": {
   "display_name": "Python 3",
   "language": "python",
   "name": "python3"
  },
  "language_info": {
   "codemirror_mode": {
    "name": "ipython",
    "version": 3
   },
   "file_extension": ".py",
   "mimetype": "text/x-python",
   "name": "python",
   "nbconvert_exporter": "python",
   "pygments_lexer": "ipython3",
   "version": "3.7.6"
  }
 },
 "nbformat": 4,
 "nbformat_minor": 4
}
