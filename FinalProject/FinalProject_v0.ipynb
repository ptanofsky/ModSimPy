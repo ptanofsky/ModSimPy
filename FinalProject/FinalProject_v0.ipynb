{
 "cells": [
  {
   "cell_type": "markdown",
   "metadata": {},
   "source": [
    "# Modeling and Simuation Final Project\n",
    "## DATA604 - Summer 2020\n",
    "### Completed by: Philip Tanofsky\n",
    "### Date: June 28, 2020\n"
   ]
  },
  {
   "cell_type": "code",
   "execution_count": 1,
   "metadata": {},
   "outputs": [],
   "source": [
    "# Configure Jupyter so figures appear in the notebook\n",
    "%matplotlib inline\n",
    "\n",
    "# Configure Jupyter to display the assigned value after an assignment\n",
    "%config InteractiveShell.ast_node_interactivity='last_expr_or_assign'\n",
    "\n",
    "# import functions from the modsim.py module\n",
    "from modsim import *\n",
    "\n",
    "from pandas import read_html"
   ]
  },
  {
   "cell_type": "code",
   "execution_count": 2,
   "metadata": {},
   "outputs": [],
   "source": [
    "def plot_results(input1, input2, timeseries, title):\n",
    "    \"\"\"Plot the estimates and the mode.\n",
    "    \n",
    "    input1:\n",
    "    input2:\n",
    "    timeseries:\n",
    "    title: string\n",
    "    \"\"\"\n",
    "    plot(input1, ':', label='INPUT 1')\n",
    "    plot(input2, '--', label='INPUT 2')\n",
    "    plot(timeseries, color='gray', label='model')\n",
    "    \n",
    "    decorate(xlabel='Minute',\n",
    "             ylabel='Score',\n",
    "             title=title)"
   ]
  },
  {
   "cell_type": "code",
   "execution_count": 4,
   "metadata": {},
   "outputs": [],
   "source": [
    "def run_simulation(system, update_func):\n",
    "    \"\"\"Simulate the system using any update function.\n",
    "    \n",
    "    system: System object\n",
    "    update_func: function that computes the score for each team\n",
    "    \n",
    "    returns: TimeSeries\n",
    "    \"\"\"\n",
    "    \n",
    "    results = TimeSeries()\n",
    "    results[system.t_0] = system.p_0\n",
    "    \n",
    "    for t in linrange(system.t_0, system.t_end):\n",
    "        results[t+1] = update_func(results[t], t, system)\n",
    "        \n",
    "    return results"
   ]
  },
  {
   "cell_type": "code",
   "execution_count": 5,
   "metadata": {},
   "outputs": [],
   "source": [
    "def update_func_v0(pop, t, system):\n",
    "    \"\"\"Compute the score for the team given 1 additional possession.\n",
    "    \n",
    "    pop: current population\n",
    "    t: current year\n",
    "    system: system object containing parameters of the model\n",
    "    \n",
    "    return: population next year\n",
    "    \"\"\"\n",
    "    net_growth = system.alpha * pop + system.beta + pop**2\n",
    "    return pop + net_growth"
   ]
  },
  {
   "cell_type": "code",
   "execution_count": 10,
   "metadata": {},
   "outputs": [
    {
     "data": {
      "text/html": [
       "<div>\n",
       "<style scoped>\n",
       "    .dataframe tbody tr th:only-of-type {\n",
       "        vertical-align: middle;\n",
       "    }\n",
       "\n",
       "    .dataframe tbody tr th {\n",
       "        vertical-align: top;\n",
       "    }\n",
       "\n",
       "    .dataframe thead th {\n",
       "        text-align: right;\n",
       "    }\n",
       "</style>\n",
       "<table border=\"1\" class=\"dataframe\">\n",
       "  <thead>\n",
       "    <tr style=\"text-align: right;\">\n",
       "      <th></th>\n",
       "      <th>values</th>\n",
       "    </tr>\n",
       "  </thead>\n",
       "  <tbody>\n",
       "    <tr>\n",
       "      <th>team_A</th>\n",
       "      <td>0</td>\n",
       "    </tr>\n",
       "    <tr>\n",
       "      <th>team_B</th>\n",
       "      <td>0</td>\n",
       "    </tr>\n",
       "    <tr>\n",
       "      <th>sections</th>\n",
       "      <td>4</td>\n",
       "    </tr>\n",
       "    <tr>\n",
       "      <th>t_per_section</th>\n",
       "      <td>12</td>\n",
       "    </tr>\n",
       "  </tbody>\n",
       "</table>\n",
       "</div>"
      ],
      "text/plain": [
       "team_A            0\n",
       "team_B            0\n",
       "sections          4\n",
       "t_per_section    12\n",
       "dtype: int64"
      ]
     },
     "execution_count": 10,
     "metadata": {},
     "output_type": "execute_result"
    }
   ],
   "source": [
    "# Create a system object\n",
    "# System is static elements of the system\n",
    "system = System(team_A=0,\n",
    "                team_B=0,\n",
    "                sections=4,\n",
    "                t_per_section=12)\n",
    "\n",
    "# Do I need a system for each team? As the percentages are static for each team ... I think Yes.\n",
    "# Then a state to represent the game for one team, as the score changes\n",
    "# Also, for the state could track the game stats for the simulation\n",
    "# Then a larger system for the state/system for each team"
   ]
  },
  {
   "cell_type": "markdown",
   "metadata": {},
   "source": [
    "### Thinks to account for\n",
    "- Overtime games, how to add 5 more minutes\n",
    "- System object\n",
    "-- Contains each team object\n",
    "- State object for each team\n",
    "- Be able to plot the scores for a game\n",
    "- Be able to output the results of a X-game series\n",
    "- Be able to output the results of a simulated tournament\n",
    "\n",
    "### Steps\n",
    "- First: Simulate the score for 1 team over the course of 1 NBA game\n",
    "-- 48 minutes\n",
    "-- Possessions per minute (or perhaps per quarter)\n",
    "- Second: Model two teams to simulate a head-to-head game"
   ]
  }
 ],
 "metadata": {
  "kernelspec": {
   "display_name": "Python 3",
   "language": "python",
   "name": "python3"
  },
  "language_info": {
   "codemirror_mode": {
    "name": "ipython",
    "version": 3
   },
   "file_extension": ".py",
   "mimetype": "text/x-python",
   "name": "python",
   "nbconvert_exporter": "python",
   "pygments_lexer": "ipython3",
   "version": "3.7.6"
  }
 },
 "nbformat": 4,
 "nbformat_minor": 4
}
