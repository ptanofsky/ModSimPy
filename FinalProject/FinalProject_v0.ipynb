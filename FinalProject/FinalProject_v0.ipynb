{
 "cells": [
  {
   "cell_type": "markdown",
   "metadata": {},
   "source": [
    "# Modeling and Simuation Final Project\n",
    "## DATA604 - Summer 2020\n",
    "### Completed by: Philip Tanofsky\n",
    "### Date: June 28, 2020\n"
   ]
  },
  {
   "cell_type": "code",
   "execution_count": 1,
   "metadata": {},
   "outputs": [],
   "source": [
    "# Configure Jupyter so figures appear in the notebook\n",
    "%matplotlib inline\n",
    "\n",
    "# Configure Jupyter to display the assigned value after an assignment\n",
    "%config InteractiveShell.ast_node_interactivity='last_expr_or_assign'\n",
    "\n",
    "# import functions from the modsim.py module\n",
    "from modsim import *\n",
    "\n",
    "from pandas import read_html"
   ]
  },
  {
   "cell_type": "code",
   "execution_count": 2,
   "metadata": {},
   "outputs": [],
   "source": [
    "def plot_results(input1, input2, timeseries, title):\n",
    "    \"\"\"Plot the estimates and the mode.\n",
    "    \n",
    "    input1:\n",
    "    input2:\n",
    "    timeseries:\n",
    "    title: string\n",
    "    \"\"\"\n",
    "    plot(input1, ':', label='INPUT 1')\n",
    "    plot(input2, '--', label='INPUT 2')\n",
    "    plot(timeseries, color='gray', label='model')\n",
    "    \n",
    "    decorate(xlabel='Minute',\n",
    "             ylabel='Score',\n",
    "             title=title)"
   ]
  },
  {
   "cell_type": "code",
   "execution_count": 4,
   "metadata": {},
   "outputs": [],
   "source": [
    "def run_simulation(system, update_func):\n",
    "    \"\"\"Simulate the system using any update function.\n",
    "    \n",
    "    system: System object\n",
    "    update_func: function that computes the score for each team\n",
    "    \n",
    "    returns: TimeSeries\n",
    "    \"\"\"\n",
    "    \n",
    "    results = TimeSeries()\n",
    "    results[system.t_0] = system.p_0\n",
    "    \n",
    "    for t in linrange(system.t_0, system.t_end):\n",
    "        results[t+1] = update_func(results[t], t, system)\n",
    "        \n",
    "    return results"
   ]
  },
  {
   "cell_type": "code",
   "execution_count": 5,
   "metadata": {},
   "outputs": [],
   "source": [
    "def update_func_v0(pop, t, system):\n",
    "    \"\"\"Compute the score for the team given 1 additional possession.\n",
    "    \n",
    "    pop: current population\n",
    "    t: current year\n",
    "    system: system object containing parameters of the model\n",
    "    \n",
    "    return: population next year\n",
    "    \"\"\"\n",
    "    net_growth = system.alpha * pop + system.beta + pop**2\n",
    "    return pop + net_growth"
   ]
  },
  {
   "cell_type": "code",
   "execution_count": 10,
   "metadata": {},
   "outputs": [
    {
     "data": {
      "text/html": [
       "<div>\n",
       "<style scoped>\n",
       "    .dataframe tbody tr th:only-of-type {\n",
       "        vertical-align: middle;\n",
       "    }\n",
       "\n",
       "    .dataframe tbody tr th {\n",
       "        vertical-align: top;\n",
       "    }\n",
       "\n",
       "    .dataframe thead th {\n",
       "        text-align: right;\n",
       "    }\n",
       "</style>\n",
       "<table border=\"1\" class=\"dataframe\">\n",
       "  <thead>\n",
       "    <tr style=\"text-align: right;\">\n",
       "      <th></th>\n",
       "      <th>values</th>\n",
       "    </tr>\n",
       "  </thead>\n",
       "  <tbody>\n",
       "    <tr>\n",
       "      <th>team_A</th>\n",
       "      <td>0</td>\n",
       "    </tr>\n",
       "    <tr>\n",
       "      <th>team_B</th>\n",
       "      <td>0</td>\n",
       "    </tr>\n",
       "    <tr>\n",
       "      <th>sections</th>\n",
       "      <td>4</td>\n",
       "    </tr>\n",
       "    <tr>\n",
       "      <th>t_per_section</th>\n",
       "      <td>12</td>\n",
       "    </tr>\n",
       "  </tbody>\n",
       "</table>\n",
       "</div>"
      ],
      "text/plain": [
       "team_A            0\n",
       "team_B            0\n",
       "sections          4\n",
       "t_per_section    12\n",
       "dtype: int64"
      ]
     },
     "execution_count": 10,
     "metadata": {},
     "output_type": "execute_result"
    }
   ],
   "source": [
    "# Create a system object\n",
    "# System is static elements of the system\n",
    "system = System(team_A=0,\n",
    "                team_B=0,\n",
    "                sections=4,\n",
    "                t_per_section=12)\n",
    "\n",
    "# Do I need a system for each team? As the percentages are static for each team ... I think Yes.\n",
    "# Then a state to represent the game for one team, as the score changes\n",
    "# Also, for the state could track the game stats for the simulation\n",
    "# Then a larger system for the state/system for each team"
   ]
  },
  {
   "cell_type": "markdown",
   "metadata": {},
   "source": [
    "### Thinks to account for\n",
    "- Overtime games, how to add 5 more minutes\n",
    "- System object\n",
    "-- Contains each team object\n",
    "- State object for each team\n",
    "- Be able to plot the scores for a game\n",
    "- Be able to output the results of a X-game series\n",
    "- Be able to output the results of a simulated tournament\n",
    "\n",
    "### Steps\n",
    "- First: Simulate the score for 1 team over the course of 1 NBA game\n",
    "-- 48 minutes\n",
    "-- Possessions per minute (or perhaps per quarter)\n",
    "- Second: Model two teams to simulate a head-to-head game"
   ]
  },
  {
   "cell_type": "markdown",
   "metadata": {},
   "source": [
    "## Considering Spurs\n",
    "Average 104 possessions per game\n",
    "Game 1 of 2019-20 season:\n",
    "- FGA: 83\n",
    "- Turnovers: 21"
   ]
  },
  {
   "cell_type": "code",
   "execution_count": 2,
   "metadata": {},
   "outputs": [
    {
     "data": {
      "text/plain": [
       "'\\nDefinition of Possessions\\n'"
      ]
     },
     "execution_count": 2,
     "metadata": {},
     "output_type": "execute_result"
    }
   ],
   "source": [
    "\"\"\"\n",
    "Definition of Possessions: \n",
    "https://www.basketball-reference.com/about/glossary.html#:~:text=Poss%20%2D%20Possessions%20(available%20since%20the,FG)%20%2B%20Opp%20TOV)).\n",
    "\n",
    "Poss - Possessions\n",
    "(available since the 1973-74 season in the NBA)\n",
    "the formula for teams is:\n",
    "    0.5 * \n",
    "    (\n",
    "        (Team_FieldGoalAttempts \n",
    "         + 0.4  * Team_FreeThrowAttempts \n",
    "         - 1.07 * (   Team_OffensiveRebounds / \n",
    "                     (Team_OffensiveRebound  + Opp_DefensiveRebound)\n",
    "                  )\n",
    "                * (Team_FieldGoalAttempts - Team_FieldGoals) + Team_Turnover\n",
    "        ) \n",
    "        +\n",
    "        (Opp_FieldGoalAttempts\n",
    "         + 0.4 * Opp_FreeThrowAttempts \n",
    "         - 1.07 * (    Opp_OffensiveRebounds / \n",
    "                      (Opp_OffensiveRebounds + Team_DefensiveRebounds)\n",
    "                  )\n",
    "                * (Opp_FieldGoalAttempts - Opp_FieldGoals) + Opp_Turnover\n",
    "        )\n",
    "    )\n",
    "\"\"\""
   ]
  },
  {
   "cell_type": "code",
   "execution_count": 5,
   "metadata": {},
   "outputs": [
    {
     "data": {
      "text/plain": [
       "77.41072341463415"
      ]
     },
     "execution_count": 5,
     "metadata": {},
     "output_type": "execute_result"
    }
   ],
   "source": [
    "SA_Poss = 0.5 * ((42.0 + 0.4  * 22.8 - 1.07 * (8.8 / (8.8  + 36.3)) * (89.5 - 42.0) + 12.3) + (89.9 + 0.4 * 22.7 - 1.07 * (9.4 / (9.4 + 35.6)) * (89.9 - 42.2) + 13.0))\n",
    "SA_Poss"
   ]
  },
  {
   "cell_type": "code",
   "execution_count": 8,
   "metadata": {},
   "outputs": [
    {
     "data": {
      "text/plain": [
       "103.032"
      ]
     },
     "execution_count": 8,
     "metadata": {},
     "output_type": "execute_result"
    }
   ],
   "source": [
    "# so for a team, a decent estimate of possession per game:\n",
    "# FieldGoalAttempts + (0.44 * FreeThrowAttempts) + Turnovers - OffensiveRebounds\n",
    "# Below calculates for SA in season 2019-20 (currently stopped due to Covid-19)\n",
    "SA_Poss_Simple = 89.5 + (0.44 * 22.8) + 12.3 - 8.8\n",
    "SA_Poss_Simple"
   ]
  },
  {
   "cell_type": "markdown",
   "metadata": {},
   "source": [
    "According to this site: https://www.teamrankings.com/nba/stat/possessions-per-game\n",
    "SA averages 104.0 possessions per game (close enough for me to 103 above)\n",
    "\n",
    "This site: http://stats.inpredictable.com/nba/ssnTeamPoss.php\n",
    "indicates SA scores 1.1 points per possession\n",
    "\n",
    "103 * 1.1 = 113.3\n",
    "104 * 1.1 = 114.4\n",
    "\n",
    "SA averages 113.2 pts per game ... aha the little formula works\n",
    "\n",
    "so now, per possession, what are the percentages of\n",
    "2P-FGA\n",
    "3P-FGA\n",
    "FT\n",
    "Turnover\n",
    "\n",
    "2FGA = 60.8\n",
    "3FGA = 28.7\n",
    "FT = 22.8\n",
    "Turnovers = 12.3\n",
    "OffensiveRebound = 8.8\n",
    "\n",
    "San Antonio will have 103 possessions per game, for each possession what is the outcome\n",
    "2P FGA\n",
    "3P FGA\n",
    "FT\n",
    "TO\n",
    "\n",
    "What is the probability of any of those outcomes\n"
   ]
  },
  {
   "cell_type": "code",
   "execution_count": 12,
   "metadata": {},
   "outputs": [
    {
     "data": {
      "text/plain": [
       "103.032"
      ]
     },
     "execution_count": 12,
     "metadata": {},
     "output_type": "execute_result"
    }
   ],
   "source": [
    "SA_Poss_Simple = 89.5 + (0.44 * 22.8) + 12.3 - 8.8\n",
    "SA_Poss_Simple"
   ]
  },
  {
   "cell_type": "code",
   "execution_count": 33,
   "metadata": {},
   "outputs": [
    {
     "data": {
      "text/plain": [
       "113.2555"
      ]
     },
     "execution_count": 33,
     "metadata": {},
     "output_type": "execute_result"
    }
   ],
   "source": [
    "SA_Poss_Simple = (60.8 * .517 * 2) + (28.7 * .371 * 3) + (22.8 * .809) + ((12.3 + 8.8)*0)\n",
    "SA_Poss_Simple"
   ]
  },
  {
   "cell_type": "code",
   "execution_count": 13,
   "metadata": {},
   "outputs": [
    {
     "data": {
      "text/plain": [
       "0.6793296089385474"
      ]
     },
     "execution_count": 13,
     "metadata": {},
     "output_type": "execute_result"
    }
   ],
   "source": [
    "60.8 / 89.5"
   ]
  },
  {
   "cell_type": "code",
   "execution_count": null,
   "metadata": {},
   "outputs": [],
   "source": [
    "60.8"
   ]
  },
  {
   "cell_type": "code",
   "execution_count": 14,
   "metadata": {},
   "outputs": [
    {
     "data": {
      "text/plain": [
       "0.3206703910614525"
      ]
     },
     "execution_count": 14,
     "metadata": {},
     "output_type": "execute_result"
    }
   ],
   "source": [
    "28.7 / 89.5"
   ]
  },
  {
   "cell_type": "code",
   "execution_count": 15,
   "metadata": {},
   "outputs": [
    {
     "data": {
      "text/plain": [
       "10.032"
      ]
     },
     "execution_count": 15,
     "metadata": {},
     "output_type": "execute_result"
    }
   ],
   "source": [
    ".44 * 22.8"
   ]
  },
  {
   "cell_type": "code",
   "execution_count": 37,
   "metadata": {},
   "outputs": [
    {
     "data": {
      "text/plain": [
       "89.5"
      ]
     },
     "execution_count": 37,
     "metadata": {},
     "output_type": "execute_result"
    }
   ],
   "source": [
    "# I need to subtract the appropriate amount from 8.8 from 2FGA, 3FGA, (exlude FT)\n",
    "89.5"
   ]
  },
  {
   "cell_type": "code",
   "execution_count": 38,
   "metadata": {},
   "outputs": [
    {
     "data": {
      "text/plain": [
       "54.821899441340776"
      ]
     },
     "execution_count": 38,
     "metadata": {},
     "output_type": "execute_result"
    }
   ],
   "source": [
    "60.8 - (60.8 / 89.5 * 8.8)"
   ]
  },
  {
   "cell_type": "code",
   "execution_count": 39,
   "metadata": {},
   "outputs": [
    {
     "data": {
      "text/plain": [
       "25.878100558659217"
      ]
     },
     "execution_count": 39,
     "metadata": {},
     "output_type": "execute_result"
    }
   ],
   "source": [
    "28.7 - (28.7 / 89.5 * 8.8)"
   ]
  },
  {
   "cell_type": "code",
   "execution_count": 19,
   "metadata": {},
   "outputs": [
    {
     "data": {
      "text/plain": [
       "9.115577889447236"
      ]
     },
     "execution_count": 19,
     "metadata": {},
     "output_type": "execute_result"
    }
   ],
   "source": [
    "10 - (10 / 99.5 * 8.8)"
   ]
  },
  {
   "cell_type": "markdown",
   "metadata": {},
   "source": [
    "San Antonio will have 103 possessions per game, for each possession what is the outcome\n",
    "2P FGA = 54.821899441340776\n",
    "3P FGA = 25.878100558659217\n",
    "FT = 10.032\n",
    "TO = 12.3"
   ]
  },
  {
   "cell_type": "code",
   "execution_count": 41,
   "metadata": {},
   "outputs": [
    {
     "data": {
      "text/plain": [
       "102.99999999999999"
      ]
     },
     "execution_count": 41,
     "metadata": {},
     "output_type": "execute_result"
    }
   ],
   "source": [
    "54.821899441340776 + 25.878100558659217 + 10 + 12.3"
   ]
  },
  {
   "cell_type": "code",
   "execution_count": 42,
   "metadata": {},
   "outputs": [
    {
     "data": {
      "text/plain": [
       "0.5322514508868037"
      ]
     },
     "execution_count": 42,
     "metadata": {},
     "output_type": "execute_result"
    }
   ],
   "source": [
    "54.821899441340776 / 103.0"
   ]
  },
  {
   "cell_type": "code",
   "execution_count": 43,
   "metadata": {},
   "outputs": [
    {
     "data": {
      "text/plain": [
       "0.2512436947442642"
      ]
     },
     "execution_count": 43,
     "metadata": {},
     "output_type": "execute_result"
    }
   ],
   "source": [
    "25.878100558659217 / 103.0"
   ]
  },
  {
   "cell_type": "code",
   "execution_count": 44,
   "metadata": {},
   "outputs": [
    {
     "data": {
      "text/plain": [
       "0.0970873786407767"
      ]
     },
     "execution_count": 44,
     "metadata": {},
     "output_type": "execute_result"
    }
   ],
   "source": [
    "10 / 103.0"
   ]
  },
  {
   "cell_type": "code",
   "execution_count": 25,
   "metadata": {},
   "outputs": [
    {
     "data": {
      "text/plain": [
       "0.11941747572815535"
      ]
     },
     "execution_count": 25,
     "metadata": {},
     "output_type": "execute_result"
    }
   ],
   "source": [
    "12.3 / 103.0"
   ]
  },
  {
   "cell_type": "markdown",
   "metadata": {},
   "source": [
    "This means, per possession, the percentage of each result are the following:\n",
    "2P FGA: 0.5322514508868037\n",
    "3P FGA: 0.2512436947442642\n",
    "FTAs: 0.0970873786407767\n",
    "TO: .11941747572815535"
   ]
  },
  {
   "cell_type": "code",
   "execution_count": 50,
   "metadata": {},
   "outputs": [
    {
     "data": {
      "text/plain": [
       "1.0656133004284862"
      ]
     },
     "execution_count": 50,
     "metadata": {},
     "output_type": "execute_result"
    }
   ],
   "source": [
    "# Percentage of possession result with points given the outcome\n",
    "possession = (0.5322514508868037 * .517 * 2) + (0.2512436947442642 * .371 * 3) + (0.0970873786407767 * .809 * 2) + (.11941747572815535 * 0)\n",
    "possession"
   ]
  },
  {
   "cell_type": "code",
   "execution_count": 51,
   "metadata": {},
   "outputs": [
    {
     "data": {
      "text/plain": [
       "0.03438669957151386"
      ]
     },
     "execution_count": 51,
     "metadata": {},
     "output_type": "execute_result"
    }
   ],
   "source": [
    "1.1 - possession"
   ]
  },
  {
   "cell_type": "code",
   "execution_count": 52,
   "metadata": {},
   "outputs": [
    {
     "data": {
      "text/plain": [
       "109.75816994413408"
      ]
     },
     "execution_count": 52,
     "metadata": {},
     "output_type": "execute_result"
    }
   ],
   "source": [
    "possession * 103"
   ]
  },
  {
   "cell_type": "code",
   "execution_count": 31,
   "metadata": {},
   "outputs": [
    {
     "data": {
      "text/plain": [
       "1.0117407246231156"
      ]
     },
     "execution_count": 31,
     "metadata": {},
     "output_type": "execute_result"
    }
   ],
   "source": [
    "possession = (.55422713567839196 * .517 * 2) + (.26161708542713566 * .371 * 3) + (.09115577889447236 * .809 * 2) + (.11941747572815535 * 0)\n",
    "possession"
   ]
  },
  {
   "cell_type": "code",
   "execution_count": 32,
   "metadata": {},
   "outputs": [
    {
     "data": {
      "text/plain": [
       "104.2092946361809"
      ]
     },
     "execution_count": 32,
     "metadata": {},
     "output_type": "execute_result"
    }
   ],
   "source": [
    "possession * 103"
   ]
  },
  {
   "cell_type": "code",
   "execution_count": 47,
   "metadata": {},
   "outputs": [
    {
     "data": {
      "text/plain": [
       "0.9999999999999999"
      ]
     },
     "execution_count": 47,
     "metadata": {},
     "output_type": "execute_result"
    }
   ],
   "source": [
    "0.5322514508868037 + 0.2512436947442642 + 0.0970873786407767 + .11941747572815535"
   ]
  },
  {
   "cell_type": "code",
   "execution_count": null,
   "metadata": {},
   "outputs": [],
   "source": [
    "# even though I don't like the double counting of the offensive rebounds\n",
    "SA_Poss_Simple = (60.8 * .517 * 2) + (28.7 * .371 * 3) + (22.8 * .809) + ((12.3 + 8.8)*0)"
   ]
  },
  {
   "cell_type": "markdown",
   "metadata": {},
   "source": [
    "- Made Field Goal Attempts ()\n",
    "- Made Final Free Throw Attempt\n",
    "-- “and-One” situations following a converted field goal attempt\n",
    "-- Final attempt on non-“and-one” attempts.\n",
    "- Missed Final Free Throw Attempt that results in a Defensive Rebound\n",
    "- Missed Field Goal Attempt that results in a Defensive Rebound (have count)\n",
    "- Turnover (have count)\n",
    "- End of time period (ignore)\n",
    "\n",
    "okay, so to add more to the equation, if field goal is made, then SA and-one percentage is 4.2\n",
    "season for fouled on 3-pt attempts is 1.6"
   ]
  }
 ],
 "metadata": {
  "kernelspec": {
   "display_name": "Python 3",
   "language": "python",
   "name": "python3"
  },
  "language_info": {
   "codemirror_mode": {
    "name": "ipython",
    "version": 3
   },
   "file_extension": ".py",
   "mimetype": "text/x-python",
   "name": "python",
   "nbconvert_exporter": "python",
   "pygments_lexer": "ipython3",
   "version": "3.7.6"
  }
 },
 "nbformat": 4,
 "nbformat_minor": 4
}
