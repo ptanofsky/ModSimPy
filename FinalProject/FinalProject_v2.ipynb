{
 "cells": [
  {
   "cell_type": "markdown",
   "metadata": {},
   "source": [
    "# Modeling and Simuation Final Project v1\n",
    "## DATA604 - Summer 2020\n",
    "### Completed by: Philip Tanofsky\n",
    "### Date: June 28, 2020\n"
   ]
  },
  {
   "cell_type": "code",
   "execution_count": 1,
   "metadata": {},
   "outputs": [],
   "source": [
    "# Configure Jupyter so figures appear in the notebook\n",
    "%matplotlib inline\n",
    "\n",
    "# Configure Jupyter to display the assigned value after an assignment\n",
    "%config InteractiveShell.ast_node_interactivity='last_expr_or_assign'\n",
    "\n",
    "# import functions from the modsim.py module\n",
    "from modsim import *\n",
    "\n",
    "from pandas import *\n",
    "\n",
    "import random\n",
    "\n",
    "import math"
   ]
  },
  {
   "cell_type": "code",
   "execution_count": 2,
   "metadata": {},
   "outputs": [
    {
     "data": {
      "text/html": [
       "<div>\n",
       "<style scoped>\n",
       "    .dataframe tbody tr th:only-of-type {\n",
       "        vertical-align: middle;\n",
       "    }\n",
       "\n",
       "    .dataframe tbody tr th {\n",
       "        vertical-align: top;\n",
       "    }\n",
       "\n",
       "    .dataframe thead th {\n",
       "        text-align: right;\n",
       "    }\n",
       "</style>\n",
       "<table border=\"1\" class=\"dataframe\">\n",
       "  <thead>\n",
       "    <tr style=\"text-align: right;\">\n",
       "      <th></th>\n",
       "      <th>team</th>\n",
       "      <th>turnover_pct_per_play</th>\n",
       "      <th>fga_pct_per_play</th>\n",
       "      <th>off_reb_per_play</th>\n",
       "      <th>two_pt_fg_attempts_pct</th>\n",
       "      <th>two_pt_fg_shooting_pct</th>\n",
       "      <th>three_pt_fg_shooting_pct</th>\n",
       "      <th>ft_shooting_pct</th>\n",
       "      <th>shooting_foul_drawn_pct</th>\n",
       "      <th>pace</th>\n",
       "      <th>off_rating</th>\n",
       "      <th>def_rating</th>\n",
       "    </tr>\n",
       "  </thead>\n",
       "  <tbody>\n",
       "    <tr>\n",
       "      <th>0</th>\n",
       "      <td>ATL</td>\n",
       "      <td>0.137</td>\n",
       "      <td>0.767</td>\n",
       "      <td>0.084</td>\n",
       "      <td>0.602</td>\n",
       "      <td>0.525</td>\n",
       "      <td>0.333</td>\n",
       "      <td>0.790</td>\n",
       "      <td>0.178</td>\n",
       "      <td>103.28</td>\n",
       "      <td>107.0</td>\n",
       "      <td>114.4</td>\n",
       "    </tr>\n",
       "    <tr>\n",
       "      <th>1</th>\n",
       "      <td>BOS</td>\n",
       "      <td>0.119</td>\n",
       "      <td>0.781</td>\n",
       "      <td>0.093</td>\n",
       "      <td>0.618</td>\n",
       "      <td>0.519</td>\n",
       "      <td>0.363</td>\n",
       "      <td>0.801</td>\n",
       "      <td>0.179</td>\n",
       "      <td>99.78</td>\n",
       "      <td>112.3</td>\n",
       "      <td>106.2</td>\n",
       "    </tr>\n",
       "    <tr>\n",
       "      <th>2</th>\n",
       "      <td>BKN</td>\n",
       "      <td>0.132</td>\n",
       "      <td>0.767</td>\n",
       "      <td>0.092</td>\n",
       "      <td>0.580</td>\n",
       "      <td>0.519</td>\n",
       "      <td>0.340</td>\n",
       "      <td>0.744</td>\n",
       "      <td>0.178</td>\n",
       "      <td>101.51</td>\n",
       "      <td>107.8</td>\n",
       "      <td>108.3</td>\n",
       "    </tr>\n",
       "    <tr>\n",
       "      <th>3</th>\n",
       "      <td>CHA</td>\n",
       "      <td>0.132</td>\n",
       "      <td>0.774</td>\n",
       "      <td>0.099</td>\n",
       "      <td>0.601</td>\n",
       "      <td>0.489</td>\n",
       "      <td>0.352</td>\n",
       "      <td>0.748</td>\n",
       "      <td>0.185</td>\n",
       "      <td>96.24</td>\n",
       "      <td>105.9</td>\n",
       "      <td>112.8</td>\n",
       "    </tr>\n",
       "    <tr>\n",
       "      <th>4</th>\n",
       "      <td>CHI</td>\n",
       "      <td>0.135</td>\n",
       "      <td>0.776</td>\n",
       "      <td>0.092</td>\n",
       "      <td>0.604</td>\n",
       "      <td>0.511</td>\n",
       "      <td>0.348</td>\n",
       "      <td>0.755</td>\n",
       "      <td>0.168</td>\n",
       "      <td>100.46</td>\n",
       "      <td>105.8</td>\n",
       "      <td>108.9</td>\n",
       "    </tr>\n",
       "    <tr>\n",
       "      <th>5</th>\n",
       "      <td>CLE</td>\n",
       "      <td>0.144</td>\n",
       "      <td>0.769</td>\n",
       "      <td>0.095</td>\n",
       "      <td>0.638</td>\n",
       "      <td>0.519</td>\n",
       "      <td>0.351</td>\n",
       "      <td>0.758</td>\n",
       "      <td>0.172</td>\n",
       "      <td>99.17</td>\n",
       "      <td>106.9</td>\n",
       "      <td>114.8</td>\n",
       "    </tr>\n",
       "    <tr>\n",
       "      <th>6</th>\n",
       "      <td>DAL</td>\n",
       "      <td>0.112</td>\n",
       "      <td>0.787</td>\n",
       "      <td>0.093</td>\n",
       "      <td>0.539</td>\n",
       "      <td>0.542</td>\n",
       "      <td>0.369</td>\n",
       "      <td>0.773</td>\n",
       "      <td>0.182</td>\n",
       "      <td>99.78</td>\n",
       "      <td>115.8</td>\n",
       "      <td>110.0</td>\n",
       "    </tr>\n",
       "    <tr>\n",
       "      <th>7</th>\n",
       "      <td>DEN</td>\n",
       "      <td>0.121</td>\n",
       "      <td>0.788</td>\n",
       "      <td>0.095</td>\n",
       "      <td>0.658</td>\n",
       "      <td>0.529</td>\n",
       "      <td>0.358</td>\n",
       "      <td>0.775</td>\n",
       "      <td>0.177</td>\n",
       "      <td>97.66</td>\n",
       "      <td>112.0</td>\n",
       "      <td>108.9</td>\n",
       "    </tr>\n",
       "    <tr>\n",
       "      <th>8</th>\n",
       "      <td>DET</td>\n",
       "      <td>0.136</td>\n",
       "      <td>0.766</td>\n",
       "      <td>0.087</td>\n",
       "      <td>0.619</td>\n",
       "      <td>0.515</td>\n",
       "      <td>0.367</td>\n",
       "      <td>0.743</td>\n",
       "      <td>0.177</td>\n",
       "      <td>97.86</td>\n",
       "      <td>108.8</td>\n",
       "      <td>112.3</td>\n",
       "    </tr>\n",
       "    <tr>\n",
       "      <th>9</th>\n",
       "      <td>GST</td>\n",
       "      <td>0.130</td>\n",
       "      <td>0.767</td>\n",
       "      <td>0.087</td>\n",
       "      <td>0.645</td>\n",
       "      <td>0.495</td>\n",
       "      <td>0.334</td>\n",
       "      <td>0.803</td>\n",
       "      <td>0.175</td>\n",
       "      <td>101.04</td>\n",
       "      <td>104.4</td>\n",
       "      <td>113.0</td>\n",
       "    </tr>\n",
       "    <tr>\n",
       "      <th>10</th>\n",
       "      <td>HOU</td>\n",
       "      <td>0.125</td>\n",
       "      <td>0.771</td>\n",
       "      <td>0.088</td>\n",
       "      <td>0.512</td>\n",
       "      <td>0.554</td>\n",
       "      <td>0.348</td>\n",
       "      <td>0.787</td>\n",
       "      <td>0.177</td>\n",
       "      <td>103.62</td>\n",
       "      <td>113.4</td>\n",
       "      <td>109.9</td>\n",
       "    </tr>\n",
       "    <tr>\n",
       "      <th>11</th>\n",
       "      <td>IND</td>\n",
       "      <td>0.118</td>\n",
       "      <td>0.795</td>\n",
       "      <td>0.079</td>\n",
       "      <td>0.689</td>\n",
       "      <td>0.529</td>\n",
       "      <td>0.363</td>\n",
       "      <td>0.787</td>\n",
       "      <td>0.168</td>\n",
       "      <td>99.05</td>\n",
       "      <td>109.7</td>\n",
       "      <td>107.7</td>\n",
       "    </tr>\n",
       "    <tr>\n",
       "      <th>12</th>\n",
       "      <td>LAC</td>\n",
       "      <td>0.126</td>\n",
       "      <td>0.766</td>\n",
       "      <td>0.094</td>\n",
       "      <td>0.630</td>\n",
       "      <td>0.522</td>\n",
       "      <td>0.366</td>\n",
       "      <td>0.792</td>\n",
       "      <td>0.195</td>\n",
       "      <td>102.39</td>\n",
       "      <td>112.9</td>\n",
       "      <td>106.6</td>\n",
       "    </tr>\n",
       "    <tr>\n",
       "      <th>13</th>\n",
       "      <td>LAL</td>\n",
       "      <td>0.131</td>\n",
       "      <td>0.768</td>\n",
       "      <td>0.092</td>\n",
       "      <td>0.645</td>\n",
       "      <td>0.556</td>\n",
       "      <td>0.355</td>\n",
       "      <td>0.730</td>\n",
       "      <td>0.186</td>\n",
       "      <td>101.11</td>\n",
       "      <td>112.6</td>\n",
       "      <td>105.5</td>\n",
       "    </tr>\n",
       "    <tr>\n",
       "      <th>14</th>\n",
       "      <td>MEM</td>\n",
       "      <td>0.131</td>\n",
       "      <td>0.779</td>\n",
       "      <td>0.089</td>\n",
       "      <td>0.659</td>\n",
       "      <td>0.531</td>\n",
       "      <td>0.352</td>\n",
       "      <td>0.761</td>\n",
       "      <td>0.169</td>\n",
       "      <td>103.26</td>\n",
       "      <td>108.9</td>\n",
       "      <td>109.9</td>\n",
       "    </tr>\n",
       "    <tr>\n",
       "      <th>15</th>\n",
       "      <td>MIA</td>\n",
       "      <td>0.133</td>\n",
       "      <td>0.753</td>\n",
       "      <td>0.076</td>\n",
       "      <td>0.587</td>\n",
       "      <td>0.530</td>\n",
       "      <td>0.383</td>\n",
       "      <td>0.778</td>\n",
       "      <td>0.192</td>\n",
       "      <td>98.46</td>\n",
       "      <td>112.2</td>\n",
       "      <td>109.2</td>\n",
       "    </tr>\n",
       "    <tr>\n",
       "      <th>16</th>\n",
       "      <td>MIL</td>\n",
       "      <td>0.127</td>\n",
       "      <td>0.776</td>\n",
       "      <td>0.081</td>\n",
       "      <td>0.577</td>\n",
       "      <td>0.567</td>\n",
       "      <td>0.356</td>\n",
       "      <td>0.742</td>\n",
       "      <td>0.181</td>\n",
       "      <td>105.36</td>\n",
       "      <td>112.3</td>\n",
       "      <td>101.6</td>\n",
       "    </tr>\n",
       "    <tr>\n",
       "      <th>17</th>\n",
       "      <td>MIN</td>\n",
       "      <td>0.129</td>\n",
       "      <td>0.768</td>\n",
       "      <td>0.088</td>\n",
       "      <td>0.567</td>\n",
       "      <td>0.521</td>\n",
       "      <td>0.336</td>\n",
       "      <td>0.753</td>\n",
       "      <td>0.181</td>\n",
       "      <td>103.94</td>\n",
       "      <td>107.6</td>\n",
       "      <td>111.6</td>\n",
       "    </tr>\n",
       "    <tr>\n",
       "      <th>18</th>\n",
       "      <td>NOR</td>\n",
       "      <td>0.135</td>\n",
       "      <td>0.770</td>\n",
       "      <td>0.094</td>\n",
       "      <td>0.592</td>\n",
       "      <td>0.525</td>\n",
       "      <td>0.372</td>\n",
       "      <td>0.729</td>\n",
       "      <td>0.172</td>\n",
       "      <td>103.96</td>\n",
       "      <td>110.6</td>\n",
       "      <td>111.6</td>\n",
       "    </tr>\n",
       "    <tr>\n",
       "      <th>19</th>\n",
       "      <td>NYK</td>\n",
       "      <td>0.124</td>\n",
       "      <td>0.773</td>\n",
       "      <td>0.104</td>\n",
       "      <td>0.682</td>\n",
       "      <td>0.499</td>\n",
       "      <td>0.337</td>\n",
       "      <td>0.694</td>\n",
       "      <td>0.171</td>\n",
       "      <td>99.11</td>\n",
       "      <td>105.9</td>\n",
       "      <td>112.4</td>\n",
       "    </tr>\n",
       "    <tr>\n",
       "      <th>20</th>\n",
       "      <td>OKC</td>\n",
       "      <td>0.122</td>\n",
       "      <td>0.769</td>\n",
       "      <td>0.073</td>\n",
       "      <td>0.655</td>\n",
       "      <td>0.536</td>\n",
       "      <td>0.355</td>\n",
       "      <td>0.797</td>\n",
       "      <td>0.207</td>\n",
       "      <td>99.21</td>\n",
       "      <td>111.0</td>\n",
       "      <td>108.4</td>\n",
       "    </tr>\n",
       "    <tr>\n",
       "      <th>21</th>\n",
       "      <td>ORL</td>\n",
       "      <td>0.112</td>\n",
       "      <td>0.791</td>\n",
       "      <td>0.092</td>\n",
       "      <td>0.640</td>\n",
       "      <td>0.498</td>\n",
       "      <td>0.341</td>\n",
       "      <td>0.770</td>\n",
       "      <td>0.171</td>\n",
       "      <td>98.70</td>\n",
       "      <td>107.5</td>\n",
       "      <td>108.7</td>\n",
       "    </tr>\n",
       "    <tr>\n",
       "      <th>22</th>\n",
       "      <td>PHI</td>\n",
       "      <td>0.125</td>\n",
       "      <td>0.772</td>\n",
       "      <td>0.091</td>\n",
       "      <td>0.640</td>\n",
       "      <td>0.523</td>\n",
       "      <td>0.362</td>\n",
       "      <td>0.752</td>\n",
       "      <td>0.179</td>\n",
       "      <td>99.38</td>\n",
       "      <td>109.7</td>\n",
       "      <td>107.6</td>\n",
       "    </tr>\n",
       "    <tr>\n",
       "      <th>23</th>\n",
       "      <td>PHX</td>\n",
       "      <td>0.131</td>\n",
       "      <td>0.765</td>\n",
       "      <td>0.085</td>\n",
       "      <td>0.639</td>\n",
       "      <td>0.527</td>\n",
       "      <td>0.353</td>\n",
       "      <td>0.826</td>\n",
       "      <td>0.199</td>\n",
       "      <td>101.76</td>\n",
       "      <td>110.2</td>\n",
       "      <td>111.3</td>\n",
       "    </tr>\n",
       "    <tr>\n",
       "      <th>24</th>\n",
       "      <td>POR</td>\n",
       "      <td>0.114</td>\n",
       "      <td>0.794</td>\n",
       "      <td>0.088</td>\n",
       "      <td>0.629</td>\n",
       "      <td>0.513</td>\n",
       "      <td>0.372</td>\n",
       "      <td>0.798</td>\n",
       "      <td>0.172</td>\n",
       "      <td>101.15</td>\n",
       "      <td>112.0</td>\n",
       "      <td>113.6</td>\n",
       "    </tr>\n",
       "    <tr>\n",
       "      <th>25</th>\n",
       "      <td>SAC</td>\n",
       "      <td>0.128</td>\n",
       "      <td>0.783</td>\n",
       "      <td>0.086</td>\n",
       "      <td>0.605</td>\n",
       "      <td>0.522</td>\n",
       "      <td>0.364</td>\n",
       "      <td>0.769</td>\n",
       "      <td>0.172</td>\n",
       "      <td>99.08</td>\n",
       "      <td>109.0</td>\n",
       "      <td>110.8</td>\n",
       "    </tr>\n",
       "    <tr>\n",
       "      <th>26</th>\n",
       "      <td>SAS</td>\n",
       "      <td>0.109</td>\n",
       "      <td>0.796</td>\n",
       "      <td>0.078</td>\n",
       "      <td>0.679</td>\n",
       "      <td>0.517</td>\n",
       "      <td>0.371</td>\n",
       "      <td>0.809</td>\n",
       "      <td>0.175</td>\n",
       "      <td>100.60</td>\n",
       "      <td>111.3</td>\n",
       "      <td>112.8</td>\n",
       "    </tr>\n",
       "    <tr>\n",
       "      <th>27</th>\n",
       "      <td>TOR</td>\n",
       "      <td>0.127</td>\n",
       "      <td>0.776</td>\n",
       "      <td>0.085</td>\n",
       "      <td>0.582</td>\n",
       "      <td>0.521</td>\n",
       "      <td>0.371</td>\n",
       "      <td>0.800</td>\n",
       "      <td>0.175</td>\n",
       "      <td>100.87</td>\n",
       "      <td>111.3</td>\n",
       "      <td>104.9</td>\n",
       "    </tr>\n",
       "    <tr>\n",
       "      <th>28</th>\n",
       "      <td>UTA</td>\n",
       "      <td>0.135</td>\n",
       "      <td>0.764</td>\n",
       "      <td>0.080</td>\n",
       "      <td>0.594</td>\n",
       "      <td>0.537</td>\n",
       "      <td>0.383</td>\n",
       "      <td>0.772</td>\n",
       "      <td>0.186</td>\n",
       "      <td>98.95</td>\n",
       "      <td>112.1</td>\n",
       "      <td>108.8</td>\n",
       "    </tr>\n",
       "    <tr>\n",
       "      <th>29</th>\n",
       "      <td>WAS</td>\n",
       "      <td>0.120</td>\n",
       "      <td>0.776</td>\n",
       "      <td>0.086</td>\n",
       "      <td>0.636</td>\n",
       "      <td>0.511</td>\n",
       "      <td>0.372</td>\n",
       "      <td>0.787</td>\n",
       "      <td>0.191</td>\n",
       "      <td>103.52</td>\n",
       "      <td>111.1</td>\n",
       "      <td>115.0</td>\n",
       "    </tr>\n",
       "  </tbody>\n",
       "</table>\n",
       "</div>"
      ],
      "text/plain": [
       "   team  turnover_pct_per_play  fga_pct_per_play  off_reb_per_play  \\\n",
       "0   ATL                  0.137             0.767             0.084   \n",
       "1   BOS                  0.119             0.781             0.093   \n",
       "2   BKN                  0.132             0.767             0.092   \n",
       "3   CHA                  0.132             0.774             0.099   \n",
       "4   CHI                  0.135             0.776             0.092   \n",
       "5   CLE                  0.144             0.769             0.095   \n",
       "6   DAL                  0.112             0.787             0.093   \n",
       "7   DEN                  0.121             0.788             0.095   \n",
       "8   DET                  0.136             0.766             0.087   \n",
       "9   GST                  0.130             0.767             0.087   \n",
       "10  HOU                  0.125             0.771             0.088   \n",
       "11  IND                  0.118             0.795             0.079   \n",
       "12  LAC                  0.126             0.766             0.094   \n",
       "13  LAL                  0.131             0.768             0.092   \n",
       "14  MEM                  0.131             0.779             0.089   \n",
       "15  MIA                  0.133             0.753             0.076   \n",
       "16  MIL                  0.127             0.776             0.081   \n",
       "17  MIN                  0.129             0.768             0.088   \n",
       "18  NOR                  0.135             0.770             0.094   \n",
       "19  NYK                  0.124             0.773             0.104   \n",
       "20  OKC                  0.122             0.769             0.073   \n",
       "21  ORL                  0.112             0.791             0.092   \n",
       "22  PHI                  0.125             0.772             0.091   \n",
       "23  PHX                  0.131             0.765             0.085   \n",
       "24  POR                  0.114             0.794             0.088   \n",
       "25  SAC                  0.128             0.783             0.086   \n",
       "26  SAS                  0.109             0.796             0.078   \n",
       "27  TOR                  0.127             0.776             0.085   \n",
       "28  UTA                  0.135             0.764             0.080   \n",
       "29  WAS                  0.120             0.776             0.086   \n",
       "\n",
       "    two_pt_fg_attempts_pct  two_pt_fg_shooting_pct  three_pt_fg_shooting_pct  \\\n",
       "0                    0.602                   0.525                     0.333   \n",
       "1                    0.618                   0.519                     0.363   \n",
       "2                    0.580                   0.519                     0.340   \n",
       "3                    0.601                   0.489                     0.352   \n",
       "4                    0.604                   0.511                     0.348   \n",
       "5                    0.638                   0.519                     0.351   \n",
       "6                    0.539                   0.542                     0.369   \n",
       "7                    0.658                   0.529                     0.358   \n",
       "8                    0.619                   0.515                     0.367   \n",
       "9                    0.645                   0.495                     0.334   \n",
       "10                   0.512                   0.554                     0.348   \n",
       "11                   0.689                   0.529                     0.363   \n",
       "12                   0.630                   0.522                     0.366   \n",
       "13                   0.645                   0.556                     0.355   \n",
       "14                   0.659                   0.531                     0.352   \n",
       "15                   0.587                   0.530                     0.383   \n",
       "16                   0.577                   0.567                     0.356   \n",
       "17                   0.567                   0.521                     0.336   \n",
       "18                   0.592                   0.525                     0.372   \n",
       "19                   0.682                   0.499                     0.337   \n",
       "20                   0.655                   0.536                     0.355   \n",
       "21                   0.640                   0.498                     0.341   \n",
       "22                   0.640                   0.523                     0.362   \n",
       "23                   0.639                   0.527                     0.353   \n",
       "24                   0.629                   0.513                     0.372   \n",
       "25                   0.605                   0.522                     0.364   \n",
       "26                   0.679                   0.517                     0.371   \n",
       "27                   0.582                   0.521                     0.371   \n",
       "28                   0.594                   0.537                     0.383   \n",
       "29                   0.636                   0.511                     0.372   \n",
       "\n",
       "    ft_shooting_pct  shooting_foul_drawn_pct    pace  off_rating  def_rating  \n",
       "0             0.790                    0.178  103.28       107.0       114.4  \n",
       "1             0.801                    0.179   99.78       112.3       106.2  \n",
       "2             0.744                    0.178  101.51       107.8       108.3  \n",
       "3             0.748                    0.185   96.24       105.9       112.8  \n",
       "4             0.755                    0.168  100.46       105.8       108.9  \n",
       "5             0.758                    0.172   99.17       106.9       114.8  \n",
       "6             0.773                    0.182   99.78       115.8       110.0  \n",
       "7             0.775                    0.177   97.66       112.0       108.9  \n",
       "8             0.743                    0.177   97.86       108.8       112.3  \n",
       "9             0.803                    0.175  101.04       104.4       113.0  \n",
       "10            0.787                    0.177  103.62       113.4       109.9  \n",
       "11            0.787                    0.168   99.05       109.7       107.7  \n",
       "12            0.792                    0.195  102.39       112.9       106.6  \n",
       "13            0.730                    0.186  101.11       112.6       105.5  \n",
       "14            0.761                    0.169  103.26       108.9       109.9  \n",
       "15            0.778                    0.192   98.46       112.2       109.2  \n",
       "16            0.742                    0.181  105.36       112.3       101.6  \n",
       "17            0.753                    0.181  103.94       107.6       111.6  \n",
       "18            0.729                    0.172  103.96       110.6       111.6  \n",
       "19            0.694                    0.171   99.11       105.9       112.4  \n",
       "20            0.797                    0.207   99.21       111.0       108.4  \n",
       "21            0.770                    0.171   98.70       107.5       108.7  \n",
       "22            0.752                    0.179   99.38       109.7       107.6  \n",
       "23            0.826                    0.199  101.76       110.2       111.3  \n",
       "24            0.798                    0.172  101.15       112.0       113.6  \n",
       "25            0.769                    0.172   99.08       109.0       110.8  \n",
       "26            0.809                    0.175  100.60       111.3       112.8  \n",
       "27            0.800                    0.175  100.87       111.3       104.9  \n",
       "28            0.772                    0.186   98.95       112.1       108.8  \n",
       "29            0.787                    0.191  103.52       111.1       115.0  "
      ]
     },
     "execution_count": 2,
     "metadata": {},
     "output_type": "execute_result"
    }
   ],
   "source": [
    "# Read in statistics for all 30 NBA teams\n",
    "filename = 'Teams_Stats_Sim.csv'\n",
    "all_teams = read_csv(filename, header=0, decimal='M')\n",
    "\n",
    "# Rename the columns\n",
    "all_teams.columns = ['team', 'turnover_pct_per_play', 'fga_pct_per_play', 'off_reb_per_play', 'two_pt_fg_attempts_pct', \n",
    "                  'two_pt_fg_shooting_pct', 'three_pt_fg_shooting_pct', 'ft_shooting_pct', 'shooting_foul_drawn_pct', \n",
    "                  'pace', 'off_rating', 'def_rating']\n",
    "\n",
    "\n",
    "# Cast the appropriate columns to numeric instead of string\n",
    "cols = ['turnover_pct_per_play', 'fga_pct_per_play', 'off_reb_per_play', 'two_pt_fg_attempts_pct', \n",
    "                  'two_pt_fg_shooting_pct', 'three_pt_fg_shooting_pct', 'ft_shooting_pct', 'shooting_foul_drawn_pct', \n",
    "                  'pace', 'off_rating', 'def_rating']   \n",
    "\n",
    "all_teams[cols] = all_teams[cols].apply(pd.to_numeric, errors='coerce')\n",
    "\n",
    "# Output the complete input file just for visual validation\n",
    "all_teams"
   ]
  },
  {
   "cell_type": "markdown",
   "metadata": {},
   "source": [
    "## Thoughts\n",
    "\n",
    "### Functions:\n",
    "\n",
    "- simulate_possession\n",
    "\n",
    "- simulate_FT_attempt: DONE\n",
    "\n",
    "- simulate_FT_attempts: DONE\n",
    "\n",
    "- simulate_2P_FG_attempt: DONE\n",
    "\n",
    "- simulate_3P_FG_attempt: DONE\n",
    "\n",
    "- simulate_missed_shot\n",
    "\n",
    "- did_turnover_occur: DONE\n",
    "\n",
    "- did_field_goal_attempt_occur: DONE\n",
    "\n",
    "- is_2P_FGA: DONE\n",
    "\n",
    "- is_2P_FGA_made: DONE\n",
    "\n",
    "- is_3P_FGA_made: DONE\n",
    "\n",
    "- is_FTA_made: DONE\n",
    "\n",
    "- did_shooting_foul_occur: DONE\n",
    "\n",
    "- did_offensive_rebound_occur: DONE\n",
    "\n",
    "- define team\n",
    "\n",
    "- is game tied\n",
    "\n",
    "- simulate overtime\n",
    "\n",
    "- map team stats to system: DONE\n",
    "\n",
    "### Utility functions\n",
    "\n",
    "- def convert_pct_to_int(pct): DONE\n",
    "\n",
    "### Thoughts\n",
    "\n",
    "- team is a system\n",
    "\n",
    "- game is a state\n",
    "\n",
    "- graph of point outcomes for a team, look at distribution\n",
    "\n",
    "- graph of point differences between two teams\n",
    "\n",
    "- give two teams as input to run game simulation\n",
    "\n",
    "- give two teams as input to run 7-game series simulation"
   ]
  },
  {
   "cell_type": "code",
   "execution_count": 3,
   "metadata": {},
   "outputs": [],
   "source": [
    "def map_team_stats_to_system(team):\n",
    "    \"\"\"\n",
    "    Given the team 3-character identifier, create a system object based on the input file of team statistics\n",
    "    \"\"\"\n",
    "    team_stats = all_teams[all_teams['team']== team]\n",
    "    \n",
    "    team_sys = System(turnover_pct_per_play=team_stats.iloc[0]['turnover_pct_per_play'],\n",
    "                fga_pct_per_play           =team_stats.iloc[0]['fga_pct_per_play'],\n",
    "                off_reb_per_play           =team_stats.iloc[0]['off_reb_per_play'],\n",
    "                two_pt_fg_attempts_pct     =team_stats.iloc[0]['two_pt_fg_attempts_pct'],\n",
    "                two_pt_fg_shooting_pct     =team_stats.iloc[0]['two_pt_fg_shooting_pct'],\n",
    "                three_pt_fg_shooting_pct   =team_stats.iloc[0]['three_pt_fg_shooting_pct'],\n",
    "                ft_shooting_pct            =team_stats.iloc[0]['ft_shooting_pct'],\n",
    "                shooting_foul_drawn_pct    =team_stats.iloc[0]['shooting_foul_drawn_pct'],\n",
    "                pace                       =team_stats.iloc[0]['pace'],\n",
    "                off_rating                 =team_stats.iloc[0]['off_rating'],\n",
    "                def_rating                 =team_stats.iloc[0]['def_rating'])\n",
    "    \n",
    "    return team_sys"
   ]
  },
  {
   "cell_type": "code",
   "execution_count": 4,
   "metadata": {},
   "outputs": [
    {
     "data": {
      "text/html": [
       "<div>\n",
       "<style scoped>\n",
       "    .dataframe tbody tr th:only-of-type {\n",
       "        vertical-align: middle;\n",
       "    }\n",
       "\n",
       "    .dataframe tbody tr th {\n",
       "        vertical-align: top;\n",
       "    }\n",
       "\n",
       "    .dataframe thead th {\n",
       "        text-align: right;\n",
       "    }\n",
       "</style>\n",
       "<table border=\"1\" class=\"dataframe\">\n",
       "  <thead>\n",
       "    <tr style=\"text-align: right;\">\n",
       "      <th></th>\n",
       "      <th>values</th>\n",
       "    </tr>\n",
       "  </thead>\n",
       "  <tbody>\n",
       "    <tr>\n",
       "      <th>turnover_pct_per_play</th>\n",
       "      <td>0.137</td>\n",
       "    </tr>\n",
       "    <tr>\n",
       "      <th>fga_pct_per_play</th>\n",
       "      <td>0.767</td>\n",
       "    </tr>\n",
       "    <tr>\n",
       "      <th>off_reb_per_play</th>\n",
       "      <td>0.084</td>\n",
       "    </tr>\n",
       "    <tr>\n",
       "      <th>two_pt_fg_attempts_pct</th>\n",
       "      <td>0.602</td>\n",
       "    </tr>\n",
       "    <tr>\n",
       "      <th>two_pt_fg_shooting_pct</th>\n",
       "      <td>0.525</td>\n",
       "    </tr>\n",
       "    <tr>\n",
       "      <th>three_pt_fg_shooting_pct</th>\n",
       "      <td>0.333</td>\n",
       "    </tr>\n",
       "    <tr>\n",
       "      <th>ft_shooting_pct</th>\n",
       "      <td>0.790</td>\n",
       "    </tr>\n",
       "    <tr>\n",
       "      <th>shooting_foul_drawn_pct</th>\n",
       "      <td>0.178</td>\n",
       "    </tr>\n",
       "    <tr>\n",
       "      <th>pace</th>\n",
       "      <td>103.280</td>\n",
       "    </tr>\n",
       "    <tr>\n",
       "      <th>off_rating</th>\n",
       "      <td>107.000</td>\n",
       "    </tr>\n",
       "    <tr>\n",
       "      <th>def_rating</th>\n",
       "      <td>114.400</td>\n",
       "    </tr>\n",
       "  </tbody>\n",
       "</table>\n",
       "</div>"
      ],
      "text/plain": [
       "turnover_pct_per_play         0.137\n",
       "fga_pct_per_play              0.767\n",
       "off_reb_per_play              0.084\n",
       "two_pt_fg_attempts_pct        0.602\n",
       "two_pt_fg_shooting_pct        0.525\n",
       "three_pt_fg_shooting_pct      0.333\n",
       "ft_shooting_pct               0.790\n",
       "shooting_foul_drawn_pct       0.178\n",
       "pace                        103.280\n",
       "off_rating                  107.000\n",
       "def_rating                  114.400\n",
       "dtype: float64"
      ]
     },
     "execution_count": 4,
     "metadata": {},
     "output_type": "execute_result"
    }
   ],
   "source": [
    "# Test map_team_stats_to_system\n",
    "atl = map_team_stats_to_system('ATL')"
   ]
  },
  {
   "cell_type": "code",
   "execution_count": 5,
   "metadata": {},
   "outputs": [],
   "source": [
    "def initialize_game_stats_state():\n",
    "    \"\"\"\n",
    "    Initialize the game statistics to zero and return State object\n",
    "    \"\"\"\n",
    "    game_stats_state = State(turnovers=0,\n",
    "                             two_point_field_goal_attempts=0,\n",
    "                             two_point_field_goal_makes=0,\n",
    "                             three_point_field_goal_attempts=0,\n",
    "                             three_point_field_goal_makes=0,\n",
    "                             free_throw_attempts=0,\n",
    "                             free_throw_makes=0,\n",
    "                             shooting_fouls_drawn=0,\n",
    "                             offensive_rebounds=0)\n",
    "    \n",
    "    return game_stats_state"
   ]
  },
  {
   "cell_type": "code",
   "execution_count": 6,
   "metadata": {},
   "outputs": [
    {
     "data": {
      "text/html": [
       "<div>\n",
       "<style scoped>\n",
       "    .dataframe tbody tr th:only-of-type {\n",
       "        vertical-align: middle;\n",
       "    }\n",
       "\n",
       "    .dataframe tbody tr th {\n",
       "        vertical-align: top;\n",
       "    }\n",
       "\n",
       "    .dataframe thead th {\n",
       "        text-align: right;\n",
       "    }\n",
       "</style>\n",
       "<table border=\"1\" class=\"dataframe\">\n",
       "  <thead>\n",
       "    <tr style=\"text-align: right;\">\n",
       "      <th></th>\n",
       "      <th>values</th>\n",
       "    </tr>\n",
       "  </thead>\n",
       "  <tbody>\n",
       "    <tr>\n",
       "      <th>turnovers</th>\n",
       "      <td>0</td>\n",
       "    </tr>\n",
       "    <tr>\n",
       "      <th>two_point_field_goal_attempts</th>\n",
       "      <td>0</td>\n",
       "    </tr>\n",
       "    <tr>\n",
       "      <th>two_point_field_goal_makes</th>\n",
       "      <td>0</td>\n",
       "    </tr>\n",
       "    <tr>\n",
       "      <th>three_point_field_goal_attempts</th>\n",
       "      <td>0</td>\n",
       "    </tr>\n",
       "    <tr>\n",
       "      <th>three_point_field_goal_makes</th>\n",
       "      <td>0</td>\n",
       "    </tr>\n",
       "    <tr>\n",
       "      <th>free_throw_attempts</th>\n",
       "      <td>0</td>\n",
       "    </tr>\n",
       "    <tr>\n",
       "      <th>free_throw_makes</th>\n",
       "      <td>0</td>\n",
       "    </tr>\n",
       "    <tr>\n",
       "      <th>shooting_fouls_drawn</th>\n",
       "      <td>0</td>\n",
       "    </tr>\n",
       "    <tr>\n",
       "      <th>offensive_rebounds</th>\n",
       "      <td>0</td>\n",
       "    </tr>\n",
       "  </tbody>\n",
       "</table>\n",
       "</div>"
      ],
      "text/plain": [
       "turnovers                          0\n",
       "two_point_field_goal_attempts      0\n",
       "two_point_field_goal_makes         0\n",
       "three_point_field_goal_attempts    0\n",
       "three_point_field_goal_makes       0\n",
       "free_throw_attempts                0\n",
       "free_throw_makes                   0\n",
       "shooting_fouls_drawn               0\n",
       "offensive_rebounds                 0\n",
       "dtype: int64"
      ]
     },
     "execution_count": 6,
     "metadata": {},
     "output_type": "execute_result"
    }
   ],
   "source": [
    "# initialize_game_stats_state\n",
    "stats_state = initialize_game_stats_state()"
   ]
  },
  {
   "cell_type": "code",
   "execution_count": 7,
   "metadata": {},
   "outputs": [],
   "source": [
    "def create_team_game_object(team_name):\n",
    "    \"\"\"\n",
    "    Create a team object as a composite of the game stats State object and the season statistics System object\n",
    "    \"\"\"\n",
    "    team = State(game_stats_state=initialize_game_stats_state(),\n",
    "                 overall_stats_sys=map_team_stats_to_system(team_name))\n",
    "    \n",
    "    return team"
   ]
  },
  {
   "cell_type": "code",
   "execution_count": 8,
   "metadata": {},
   "outputs": [
    {
     "data": {
      "text/html": [
       "<div>\n",
       "<style scoped>\n",
       "    .dataframe tbody tr th:only-of-type {\n",
       "        vertical-align: middle;\n",
       "    }\n",
       "\n",
       "    .dataframe tbody tr th {\n",
       "        vertical-align: top;\n",
       "    }\n",
       "\n",
       "    .dataframe thead th {\n",
       "        text-align: right;\n",
       "    }\n",
       "</style>\n",
       "<table border=\"1\" class=\"dataframe\">\n",
       "  <thead>\n",
       "    <tr style=\"text-align: right;\">\n",
       "      <th></th>\n",
       "      <th>values</th>\n",
       "    </tr>\n",
       "  </thead>\n",
       "  <tbody>\n",
       "    <tr>\n",
       "      <th>game_stats_state</th>\n",
       "      <td>turnovers                          0\n",
       "two_point...</td>\n",
       "    </tr>\n",
       "    <tr>\n",
       "      <th>overall_stats_sys</th>\n",
       "      <td>turnover_pct_per_play         0.109\n",
       "fga_pct_pe...</td>\n",
       "    </tr>\n",
       "  </tbody>\n",
       "</table>\n",
       "</div>"
      ],
      "text/plain": [
       "game_stats_state     turnovers                          0\n",
       "two_point...\n",
       "overall_stats_sys    turnover_pct_per_play         0.109\n",
       "fga_pct_pe...\n",
       "dtype: object"
      ]
     },
     "execution_count": 8,
     "metadata": {},
     "output_type": "execute_result"
    }
   ],
   "source": [
    "spurs = create_team_game_object('SAS')\n",
    "\n",
    "spurs"
   ]
  },
  {
   "cell_type": "code",
   "execution_count": 9,
   "metadata": {},
   "outputs": [
    {
     "data": {
      "text/html": [
       "<div>\n",
       "<style scoped>\n",
       "    .dataframe tbody tr th:only-of-type {\n",
       "        vertical-align: middle;\n",
       "    }\n",
       "\n",
       "    .dataframe tbody tr th {\n",
       "        vertical-align: top;\n",
       "    }\n",
       "\n",
       "    .dataframe thead th {\n",
       "        text-align: right;\n",
       "    }\n",
       "</style>\n",
       "<table border=\"1\" class=\"dataframe\">\n",
       "  <thead>\n",
       "    <tr style=\"text-align: right;\">\n",
       "      <th></th>\n",
       "      <th>values</th>\n",
       "    </tr>\n",
       "  </thead>\n",
       "  <tbody>\n",
       "    <tr>\n",
       "      <th>turnover_pct_per_play</th>\n",
       "      <td>0.109</td>\n",
       "    </tr>\n",
       "    <tr>\n",
       "      <th>fga_pct_per_play</th>\n",
       "      <td>0.796</td>\n",
       "    </tr>\n",
       "    <tr>\n",
       "      <th>off_reb_per_play</th>\n",
       "      <td>0.078</td>\n",
       "    </tr>\n",
       "    <tr>\n",
       "      <th>two_pt_fg_attempts_pct</th>\n",
       "      <td>0.679</td>\n",
       "    </tr>\n",
       "    <tr>\n",
       "      <th>two_pt_fg_shooting_pct</th>\n",
       "      <td>0.517</td>\n",
       "    </tr>\n",
       "    <tr>\n",
       "      <th>three_pt_fg_shooting_pct</th>\n",
       "      <td>0.371</td>\n",
       "    </tr>\n",
       "    <tr>\n",
       "      <th>ft_shooting_pct</th>\n",
       "      <td>0.809</td>\n",
       "    </tr>\n",
       "    <tr>\n",
       "      <th>shooting_foul_drawn_pct</th>\n",
       "      <td>0.175</td>\n",
       "    </tr>\n",
       "    <tr>\n",
       "      <th>pace</th>\n",
       "      <td>100.600</td>\n",
       "    </tr>\n",
       "    <tr>\n",
       "      <th>off_rating</th>\n",
       "      <td>111.300</td>\n",
       "    </tr>\n",
       "    <tr>\n",
       "      <th>def_rating</th>\n",
       "      <td>112.800</td>\n",
       "    </tr>\n",
       "  </tbody>\n",
       "</table>\n",
       "</div>"
      ],
      "text/plain": [
       "turnover_pct_per_play         0.109\n",
       "fga_pct_per_play              0.796\n",
       "off_reb_per_play              0.078\n",
       "two_pt_fg_attempts_pct        0.679\n",
       "two_pt_fg_shooting_pct        0.517\n",
       "three_pt_fg_shooting_pct      0.371\n",
       "ft_shooting_pct               0.809\n",
       "shooting_foul_drawn_pct       0.175\n",
       "pace                        100.600\n",
       "off_rating                  111.300\n",
       "def_rating                  112.800\n",
       "dtype: float64"
      ]
     },
     "execution_count": 9,
     "metadata": {},
     "output_type": "execute_result"
    }
   ],
   "source": [
    "# Create a system object to represent a team\n",
    "# System is static elements of the system\n",
    "# Hard-coded object for testing purposes\n",
    "team_A = System(turnover_pct_per_play=0.109,\n",
    "                fga_pct_per_play=0.796,\n",
    "                off_reb_per_play=0.078,\n",
    "                two_pt_fg_attempts_pct=0.679,\n",
    "                two_pt_fg_shooting_pct=0.517,\n",
    "                three_pt_fg_shooting_pct=0.371,\n",
    "                ft_shooting_pct=0.809,\n",
    "                shooting_foul_drawn_pct=0.175, # Fix this value, likely too high\n",
    "                pace=100.6,\n",
    "                off_rating=111.3,\n",
    "                def_rating=112.8)"
   ]
  },
  {
   "cell_type": "code",
   "execution_count": 10,
   "metadata": {},
   "outputs": [],
   "source": [
    "def convert_pct_to_int(pct):\n",
    "    \"\"\"\n",
    "    Utility function to convert any percentage to an integer of range 0-1000\n",
    "    \"\"\"\n",
    "    return int(pct * 1000)"
   ]
  },
  {
   "cell_type": "code",
   "execution_count": 11,
   "metadata": {},
   "outputs": [
    {
     "data": {
      "text/plain": [
       "109"
      ]
     },
     "execution_count": 11,
     "metadata": {},
     "output_type": "execute_result"
    }
   ],
   "source": [
    "# Test convert_pct_to_int function\n",
    "convert_pct_to_int(.109)"
   ]
  },
  {
   "cell_type": "code",
   "execution_count": 12,
   "metadata": {},
   "outputs": [],
   "source": [
    "def did_turnover_occur(team):\n",
    "    \"\"\"\n",
    "    Determine if a possession results in a turnover\n",
    "    \"\"\"\n",
    "    \n",
    "    result = False\n",
    "    \n",
    "    # Retrieve random number\n",
    "    rand_num = random.randint(1, 1000)\n",
    "    \n",
    "    # Convert percent to int\n",
    "    pct = convert_pct_to_int(team.turnover_pct_per_play)\n",
    "    \n",
    "    if (rand_num <= pct):\n",
    "        result = True\n",
    "    \n",
    "    return result"
   ]
  },
  {
   "cell_type": "code",
   "execution_count": 13,
   "metadata": {},
   "outputs": [
    {
     "data": {
      "text/plain": [
       "False"
      ]
     },
     "execution_count": 13,
     "metadata": {},
     "output_type": "execute_result"
    }
   ],
   "source": [
    "# Test did_turnover_occur\n",
    "did_turnover_occur(team_A)"
   ]
  },
  {
   "cell_type": "code",
   "execution_count": 14,
   "metadata": {},
   "outputs": [],
   "source": [
    "def did_field_goal_attempt_occur(team):\n",
    "    \"\"\"\n",
    "    Determine if a possession results in a field goal attempt\n",
    "    \"\"\"\n",
    "    result = False\n",
    "    \n",
    "    # Retrieve random number\n",
    "    rand_num = random.randint(1, 1000)\n",
    "    \n",
    "    # Convert percent to int\n",
    "    pct = convert_pct_to_int(team.fga_pct_per_play)\n",
    "    \n",
    "    if (rand_num <= pct):\n",
    "        result = True\n",
    "        \n",
    "    return result"
   ]
  },
  {
   "cell_type": "code",
   "execution_count": 15,
   "metadata": {},
   "outputs": [
    {
     "data": {
      "text/plain": [
       "True"
      ]
     },
     "execution_count": 15,
     "metadata": {},
     "output_type": "execute_result"
    }
   ],
   "source": [
    "# Test did_field_goal_attempt_occur\n",
    "did_field_goal_attempt_occur(team_A)"
   ]
  },
  {
   "cell_type": "code",
   "execution_count": 16,
   "metadata": {},
   "outputs": [],
   "source": [
    "def did_offensive_rebound_occur(team):\n",
    "    \"\"\"\n",
    "    Determine if a play results in a offensive rebound\n",
    "    \"\"\"\n",
    "    result = False\n",
    "    \n",
    "    # Retrieve random number\n",
    "    rand_num = random.randint(1, 1000)\n",
    "    \n",
    "    # Convert percent to int\n",
    "    pct = convert_pct_to_int(team.off_reb_per_play)\n",
    "    \n",
    "    if (rand_num <= pct):\n",
    "        result = True\n",
    "        \n",
    "    return result"
   ]
  },
  {
   "cell_type": "code",
   "execution_count": 17,
   "metadata": {},
   "outputs": [
    {
     "data": {
      "text/plain": [
       "False"
      ]
     },
     "execution_count": 17,
     "metadata": {},
     "output_type": "execute_result"
    }
   ],
   "source": [
    "# Test did_offensive_rebound_occur\n",
    "did_offensive_rebound_occur(team_A)"
   ]
  },
  {
   "cell_type": "code",
   "execution_count": 18,
   "metadata": {},
   "outputs": [],
   "source": [
    "def is_2P_FGA(team):\n",
    "    \"\"\"\n",
    "    Determine if a two point field goal attempt occurs\n",
    "    \"\"\"\n",
    "    result = False\n",
    "    \n",
    "    # Retrieve random number\n",
    "    rand_num = random.randint(1, 1000)\n",
    "    \n",
    "    # Convert percent to int\n",
    "    pct = convert_pct_to_int(team.two_pt_fg_attempts_pct)\n",
    "    \n",
    "    if (rand_num <= pct):\n",
    "        result = True\n",
    "        \n",
    "    return result"
   ]
  },
  {
   "cell_type": "code",
   "execution_count": 19,
   "metadata": {},
   "outputs": [
    {
     "data": {
      "text/plain": [
       "False"
      ]
     },
     "execution_count": 19,
     "metadata": {},
     "output_type": "execute_result"
    }
   ],
   "source": [
    "# Test is_2P_FGA\n",
    "is_2P_FGA(team_A)"
   ]
  },
  {
   "cell_type": "code",
   "execution_count": 20,
   "metadata": {},
   "outputs": [],
   "source": [
    "def is_2P_FGA_made(team):\n",
    "    \"\"\"\n",
    "    Determine if a two-point field goal attempt was successful\n",
    "    \"\"\"\n",
    "    result = False\n",
    "    \n",
    "    # Retrieve random number\n",
    "    rand_num = random.randint(1, 1000)\n",
    "    \n",
    "    # Convert percent to int\n",
    "    pct = convert_pct_to_int(team.two_pt_fg_shooting_pct)\n",
    "    \n",
    "    if (rand_num <= pct):\n",
    "        result = True\n",
    "        \n",
    "    return result"
   ]
  },
  {
   "cell_type": "code",
   "execution_count": 21,
   "metadata": {},
   "outputs": [
    {
     "data": {
      "text/plain": [
       "True"
      ]
     },
     "execution_count": 21,
     "metadata": {},
     "output_type": "execute_result"
    }
   ],
   "source": [
    "# Test is_2P_FGA_made\n",
    "is_2P_FGA_made(team_A)"
   ]
  },
  {
   "cell_type": "code",
   "execution_count": 22,
   "metadata": {},
   "outputs": [],
   "source": [
    "def is_3P_FGA_made(team):\n",
    "    \"\"\"\n",
    "    Determine if a three-point field goal attempt was successful\n",
    "    \"\"\"\n",
    "    result = False\n",
    "    \n",
    "    # Retrieve random number\n",
    "    rand_num = random.randint(1, 1000)\n",
    "    \n",
    "    # Convert percent to int\n",
    "    pct = convert_pct_to_int(team.three_pt_fg_shooting_pct)\n",
    "    \n",
    "    if (rand_num <= pct):\n",
    "        result = True\n",
    "        \n",
    "    return result"
   ]
  },
  {
   "cell_type": "code",
   "execution_count": 23,
   "metadata": {},
   "outputs": [
    {
     "data": {
      "text/plain": [
       "False"
      ]
     },
     "execution_count": 23,
     "metadata": {},
     "output_type": "execute_result"
    }
   ],
   "source": [
    "# Test is_3P_FGA_made\n",
    "is_3P_FGA_made(team_A)"
   ]
  },
  {
   "cell_type": "code",
   "execution_count": 24,
   "metadata": {},
   "outputs": [],
   "source": [
    "def is_FTA_made(team):\n",
    "    \"\"\"\n",
    "    Determine if a free-throw attempt was successful\n",
    "    \"\"\"\n",
    "    result = False\n",
    "    \n",
    "    # Retrieve random number\n",
    "    rand_num = random.randint(1, 1000)\n",
    "    \n",
    "    # Convert percent to int\n",
    "    pct = convert_pct_to_int(team.ft_shooting_pct)\n",
    "    \n",
    "    if (rand_num <= pct):\n",
    "        result = True\n",
    "        \n",
    "    return result"
   ]
  },
  {
   "cell_type": "code",
   "execution_count": 25,
   "metadata": {},
   "outputs": [
    {
     "data": {
      "text/plain": [
       "True"
      ]
     },
     "execution_count": 25,
     "metadata": {},
     "output_type": "execute_result"
    }
   ],
   "source": [
    "# Test is_FTA_made\n",
    "is_FTA_made(team_A)"
   ]
  },
  {
   "cell_type": "code",
   "execution_count": 26,
   "metadata": {},
   "outputs": [],
   "source": [
    "def did_shooting_foul_occur(team):\n",
    "    \"\"\"\n",
    "    Determine if a shooting foul occurred\n",
    "    \"\"\"\n",
    "    result = False\n",
    "    \n",
    "    # Retrieve random number\n",
    "    rand_num = random.randint(1, 1000)\n",
    "    \n",
    "    # Convert percent to int\n",
    "    pct = convert_pct_to_int(team.shooting_foul_drawn_pct)\n",
    "    \n",
    "    if (rand_num <= pct):\n",
    "        result = True\n",
    "        \n",
    "    return result"
   ]
  },
  {
   "cell_type": "code",
   "execution_count": 27,
   "metadata": {},
   "outputs": [
    {
     "data": {
      "text/plain": [
       "False"
      ]
     },
     "execution_count": 27,
     "metadata": {},
     "output_type": "execute_result"
    }
   ],
   "source": [
    "# Test did_shooting_foul_occur\n",
    "did_shooting_foul_occur(team_A)"
   ]
  },
  {
   "cell_type": "code",
   "execution_count": 28,
   "metadata": {},
   "outputs": [],
   "source": [
    "def simulate_FT_attempt(team):\n",
    "    \"\"\"\n",
    "    Simulate a free throw attempt based on the team's free-throw percentage\n",
    "    \"\"\"\n",
    "    # result represents the points scored\n",
    "    result_pts = 0\n",
    "    \n",
    "    if (is_FTA_made(team)):\n",
    "        result_pts += 1\n",
    "\n",
    "    return result_pts"
   ]
  },
  {
   "cell_type": "code",
   "execution_count": 29,
   "metadata": {},
   "outputs": [
    {
     "data": {
      "text/plain": [
       "1"
      ]
     },
     "execution_count": 29,
     "metadata": {},
     "output_type": "execute_result"
    }
   ],
   "source": [
    "# Test simulate_FT_attempt\n",
    "simulate_FT_attempt(team_A)"
   ]
  },
  {
   "cell_type": "code",
   "execution_count": 30,
   "metadata": {},
   "outputs": [],
   "source": [
    "def simulate_FT_attempts(team, attempts):\n",
    "    \"\"\"\n",
    "    Simulate free throw attempts\n",
    "    \"\"\"\n",
    "    # result represents the points scored\n",
    "    result_pts = 0\n",
    "    \n",
    "    # Loop through the number of attempts\n",
    "    for a in range(1, attempts+1):\n",
    "        result_pts += simulate_FT_attempt(team)\n",
    "        \n",
    "    return result_pts"
   ]
  },
  {
   "cell_type": "code",
   "execution_count": 31,
   "metadata": {},
   "outputs": [
    {
     "data": {
      "text/plain": [
       "2"
      ]
     },
     "execution_count": 31,
     "metadata": {},
     "output_type": "execute_result"
    }
   ],
   "source": [
    "# Test simulate_FT_attempts\n",
    "simulate_FT_attempts(team_A, 2)"
   ]
  },
  {
   "cell_type": "code",
   "execution_count": 32,
   "metadata": {},
   "outputs": [],
   "source": [
    "def simulate_FT_attempts_with_final_FT_result(team, attempts):\n",
    "    \"\"\"\n",
    "    Simulate free throw attempts\n",
    "    \"\"\"\n",
    "    # result represents the points scored\n",
    "    result_pts = 0\n",
    "    result_final_FT_miss = False\n",
    "    \n",
    "    # Loop through the number of attempts\n",
    "    for a in range(1, attempts+1):\n",
    "        result = simulate_FT_attempt(team)\n",
    "        result_pts += result\n",
    "        # For final shot, set final FT miss flag\n",
    "        if (a == attempts):\n",
    "            if (result == 0):\n",
    "                result_final_FT_miss = True\n",
    "        \n",
    "    return result_pts, result_final_FT_miss"
   ]
  },
  {
   "cell_type": "code",
   "execution_count": 33,
   "metadata": {},
   "outputs": [
    {
     "data": {
      "text/plain": [
       "(1, False)"
      ]
     },
     "execution_count": 33,
     "metadata": {},
     "output_type": "execute_result"
    }
   ],
   "source": [
    "# Test simulate_FT_attempts_with_final_FT_result\n",
    "simulate_FT_attempts_with_final_FT_result(team_A, 2)"
   ]
  },
  {
   "cell_type": "code",
   "execution_count": 34,
   "metadata": {},
   "outputs": [],
   "source": [
    "def simulate_2P_FG_attempt_with_shooting_foul_possible(team):\n",
    "    \"\"\"\n",
    "    Simulate a two-point field goal attempt\n",
    "    \"\"\"\n",
    "    # result represents the points scored\n",
    "    result_pts = 0\n",
    "    result_miss = False\n",
    "\n",
    "    result_2P_FGA = is_2P_FGA_made(team)\n",
    "    \n",
    "    if (result_2P_FGA):\n",
    "        # FG attempt was made, add two points\n",
    "        result_pts += 2\n",
    "        \n",
    "        is_shooting_foul_drawn = did_shooting_foul_occur(team)\n",
    "                    \n",
    "        if (is_shooting_foul_drawn):            \n",
    "            # simulate free throw attempt\n",
    "            pts, is_final_FT_missed = simulate_FT_attempts_with_final_FT_result(team_A, 1)\n",
    "            result_pts += pts\n",
    "            result_miss = is_final_FT_missed\n",
    "    else:\n",
    "        result_pts = 0\n",
    "        result_miss = True\n",
    "        \n",
    "    return result_pts, result_miss"
   ]
  },
  {
   "cell_type": "code",
   "execution_count": 35,
   "metadata": {},
   "outputs": [
    {
     "data": {
      "text/plain": [
       "(3, False)"
      ]
     },
     "execution_count": 35,
     "metadata": {},
     "output_type": "execute_result"
    }
   ],
   "source": [
    "# Test simulate_2P_FG_attempt_with_shooting_foul_possible\n",
    "simulate_2P_FG_attempt_with_shooting_foul_possible(team_A)"
   ]
  },
  {
   "cell_type": "code",
   "execution_count": 36,
   "metadata": {},
   "outputs": [],
   "source": [
    "def simulate_2P_FG_attempt(team):\n",
    "    \"\"\"\n",
    "    Simulate a two-point field goal attempt\n",
    "    \"\"\"\n",
    "    # result represents the points scored\n",
    "    result_pts = 0\n",
    "    \n",
    "    if (is_2P_FGA_made(team)):\n",
    "        result_pts += 2\n",
    "        \n",
    "    return result_pts"
   ]
  },
  {
   "cell_type": "code",
   "execution_count": 37,
   "metadata": {},
   "outputs": [
    {
     "data": {
      "text/plain": [
       "0"
      ]
     },
     "execution_count": 37,
     "metadata": {},
     "output_type": "execute_result"
    }
   ],
   "source": [
    "# Test simulate_2P_FG_attempt\n",
    "simulate_2P_FG_attempt(team_A)"
   ]
  },
  {
   "cell_type": "code",
   "execution_count": 38,
   "metadata": {},
   "outputs": [],
   "source": [
    "def simulate_3P_FG_attempt(team):\n",
    "    \"\"\"\n",
    "    Simulate a three-point field goal attempt\n",
    "    \"\"\"\n",
    "    # result represents the points scored\n",
    "    result_pts = 0\n",
    "    \n",
    "    if (is_3P_FGA_made(team)):\n",
    "        result_pts += 3\n",
    "        \n",
    "    return result_pts"
   ]
  },
  {
   "cell_type": "code",
   "execution_count": 39,
   "metadata": {},
   "outputs": [
    {
     "data": {
      "text/plain": [
       "3"
      ]
     },
     "execution_count": 39,
     "metadata": {},
     "output_type": "execute_result"
    }
   ],
   "source": [
    "# Test simulate_3P_FG_attempt\n",
    "simulate_3P_FG_attempt(team_A)"
   ]
  },
  {
   "cell_type": "code",
   "execution_count": 40,
   "metadata": {},
   "outputs": [],
   "source": [
    "def simulate_3P_FG_attempt_with_shooting_foul_possible(team):\n",
    "    \"\"\"\n",
    "    Simulate a three-point field goal attempt\n",
    "    \"\"\"\n",
    "    # result represents the points scored\n",
    "    result_pts = 0\n",
    "    result_miss = False\n",
    "\n",
    "    result_3P_FGA = is_3P_FGA_made(team)\n",
    "    \n",
    "    if (result_3P_FGA):\n",
    "        # FG attempt was made, add three points\n",
    "        result_pts += 3\n",
    "        \n",
    "        is_shooting_foul_drawn = did_shooting_foul_occur(team)\n",
    "                    \n",
    "        if (is_shooting_foul_drawn):            \n",
    "            # simulate free throw attempt\n",
    "            pts, is_final_FT_missed = simulate_FT_attempts_with_final_FT_result(team_A, 1)\n",
    "            result_pts += pts\n",
    "            result_miss = is_final_FT_missed\n",
    "    else:\n",
    "        result_pts = 0\n",
    "        result_miss = True\n",
    "        \n",
    "    return result_pts, result_miss"
   ]
  },
  {
   "cell_type": "code",
   "execution_count": 41,
   "metadata": {},
   "outputs": [
    {
     "data": {
      "text/plain": [
       "(0, True)"
      ]
     },
     "execution_count": 41,
     "metadata": {},
     "output_type": "execute_result"
    }
   ],
   "source": [
    "# Test simulate_3P_FG_attempt_with_shooting_foul_possible\n",
    "simulate_3P_FG_attempt_with_shooting_foul_possible(team_A)"
   ]
  },
  {
   "cell_type": "code",
   "execution_count": 42,
   "metadata": {},
   "outputs": [],
   "source": [
    "def simulate_missed_shot(team):\n",
    "    \"\"\"\n",
    "    Simulate a missed shot, which allows team to get offensive rebound and continue possession\n",
    "    \"\"\"\n",
    "    result_pts = 0\n",
    "                   \n",
    "    offensive_rebound = did_offensive_rebound_occur(team)\n",
    "                    \n",
    "    if (offensive_rebound):\n",
    "        # Possession starts over\n",
    "        # Call simulate_possession (note: this call chain will result in simulate_possession called numerous time)\n",
    "        # result_pts += simulate_possession()\n",
    "        result_pts += 5\n",
    "    #else: Offensive rebound did not occur; Possession over\n",
    "                        \n",
    "    return result_pts"
   ]
  },
  {
   "cell_type": "code",
   "execution_count": 43,
   "metadata": {},
   "outputs": [
    {
     "data": {
      "text/plain": [
       "0"
      ]
     },
     "execution_count": 43,
     "metadata": {},
     "output_type": "execute_result"
    }
   ],
   "source": [
    "# Test simulate_missed_shot\n",
    "simulate_missed_shot(team_A)"
   ]
  },
  {
   "cell_type": "code",
   "execution_count": 44,
   "metadata": {},
   "outputs": [],
   "source": [
    "def calculate_fg_pct_based_on_opp(team_off_rating, opp_def_rating, team_fg_pct):\n",
    "    \"\"\"\n",
    "    Calculate a shooting percentage based on the overall team offensive rating and opponent's defensive rating\n",
    "    \"\"\"\n",
    "    # Based on linear regression formula\n",
    "    return (0.00212* (opp_def_rating - team_off_rating) + 0.00439) + team_fg_pct"
   ]
  },
  {
   "cell_type": "code",
   "execution_count": 45,
   "metadata": {},
   "outputs": [
    {
     "data": {
      "text/plain": [
       "0.45382599999999995"
      ]
     },
     "execution_count": 45,
     "metadata": {},
     "output_type": "execute_result"
    }
   ],
   "source": [
    "calculate_fg_pct_based_on_opp(111.3, 101.6, 0.47)"
   ]
  },
  {
   "cell_type": "code",
   "execution_count": 46,
   "metadata": {},
   "outputs": [],
   "source": [
    "def simulate_possession(team):\n",
    "    \"\"\"\n",
    "    Simulate a possession for the given team\n",
    "    \"\"\"\n",
    "    \n",
    "    result_pts = 0\n",
    "    \n",
    "    is_turnover = did_turnover_occur(team)\n",
    "    \n",
    "    if (is_turnover):\n",
    "        # Turnover occured, return 0 points\n",
    "        # Line not necessary, but leaving in for clarity\n",
    "        result_pts = 0\n",
    "    else:\n",
    "        # Check if FGA occurred vs. FT attempts\n",
    "        is_FGA = did_field_goal_attempt_occur(team)\n",
    "        \n",
    "        if (is_FGA):\n",
    "            # FG attempted: 2P or 3P\n",
    "            result_2P_FGA = is_2P_FGA(team)\n",
    "            \n",
    "            if (result_2P_FGA):\n",
    "                # 2P Field Goal attempted\n",
    "                pts, miss = simulate_2P_FG_attempt_with_shooting_foul_possible(team)\n",
    "                result_pts += pts\n",
    "                \n",
    "                # Opportunity for offensive rebound\n",
    "                if (miss):\n",
    "                \n",
    "                    offensive_rebound = did_offensive_rebound_occur(team)\n",
    "                    \n",
    "                    if (offensive_rebound):\n",
    "                        # Possession starts over\n",
    "                        # Recursively call simulate_possession\n",
    "                        result_pts += simulate_possession(team)\n",
    "                    # else: Offensive rebound did not occur; Possession over\n",
    "                # else: Nothing here, as opposing team will inbound ball; Possession over\n",
    "            else:\n",
    "                # 3P Field Goal attempted\n",
    "                pts, miss = simulate_3P_FG_attempt_with_shooting_foul_possible(team)\n",
    "                result_pts += pts\n",
    "                \n",
    "                # Opportunity for offensive rebound\n",
    "                if (miss):\n",
    "                \n",
    "                    offensive_rebound = did_offensive_rebound_occur(team)\n",
    "                    \n",
    "                    if (offensive_rebound):\n",
    "                        # Possession starts over\n",
    "                        # Recursively call simulate_possession\n",
    "                        result_pts += simulate_possession(team)\n",
    "                    # else: Offensive rebound did not occur; Possession over\n",
    "                # else: Nothing here, as opposing team will inbound ball; Possession over\n",
    "                    \n",
    "        else:\n",
    "            # Free throw attempts\n",
    "            pts, miss = simulate_FT_attempts_with_final_FT_result(team_A, 2)\n",
    "            result_pts += pts\n",
    "            \n",
    "            # Opportunity for offensive rebound\n",
    "            if (miss):\n",
    "                \n",
    "                offensive_rebound = did_offensive_rebound_occur(team)\n",
    "                    \n",
    "                if (offensive_rebound):\n",
    "                    # Possession starts over\n",
    "                    # Recursively call simulate_possession\n",
    "                    result_pts += simulate_possession(team)\n",
    "                # else: Offensive rebound did not occur; Possession over\n",
    "            # else: Nothing here, as opposing team will inbound ball; Possession over\n",
    "            \n",
    "    return result_pts"
   ]
  },
  {
   "cell_type": "code",
   "execution_count": 47,
   "metadata": {},
   "outputs": [
    {
     "data": {
      "text/plain": [
       "0"
      ]
     },
     "execution_count": 47,
     "metadata": {},
     "output_type": "execute_result"
    }
   ],
   "source": [
    "# Test simulate_possession\n",
    "simulate_possession(team_A)"
   ]
  },
  {
   "cell_type": "code",
   "execution_count": 48,
   "metadata": {},
   "outputs": [],
   "source": [
    "def simulate_game(team):\n",
    "    \"\"\"\n",
    "    Simulate a game by summing results of all possessions\n",
    "    \"\"\"\n",
    "    score = 0\n",
    "    score_at_poss = TimeSeries()\n",
    "    \n",
    "    score_at_poss[0] = score\n",
    "    for p in range(1, math.ceil(team.pace)+1):\n",
    "        score += simulate_possession(team)\n",
    "        score_at_poss[p] = score\n",
    "        \n",
    "    return score_at_poss"
   ]
  },
  {
   "cell_type": "code",
   "execution_count": 49,
   "metadata": {},
   "outputs": [
    {
     "data": {
      "text/plain": [
       "120"
      ]
     },
     "execution_count": 49,
     "metadata": {},
     "output_type": "execute_result"
    },
    {
     "data": {
      "image/png": "[encoded data removed]",
      "text/plain": [
       "<Figure size 432x288 with 1 Axes>"
      ]
     },
     "metadata": {},
     "output_type": "display_data"
    }
   ],
   "source": [
    "# Test simulate_game\n",
    "game = simulate_game(team_A)\n",
    "\n",
    "plot(game, label='Points')\n",
    "\n",
    "decorate(title='Running Game Score',\n",
    "         xlabel='Possession', \n",
    "         ylabel='Score')\n",
    "\n",
    "game.max()"
   ]
  },
  {
   "cell_type": "code",
   "execution_count": 50,
   "metadata": {},
   "outputs": [
    {
     "data": {
      "text/plain": [
       "114.9390243902439"
      ]
     },
     "execution_count": 50,
     "metadata": {},
     "output_type": "execute_result"
    }
   ],
   "source": [
    "# Let's find the average score for Team A (Spurs) ... should be about 113\n",
    "# Validation of the simulate_game model\n",
    "results = TimeSeries()\n",
    "\n",
    "for g in range(1, 83):\n",
    "    game = simulate_game(team_A)\n",
    "    results[g] = game.max()\n",
    "    \n",
    "results.mean()"
   ]
  },
  {
   "cell_type": "markdown",
   "metadata": {},
   "source": [
    "Ran the naive model 1000 times; average was 114.149, so not far from the 113.2"
   ]
  },
  {
   "cell_type": "code",
   "execution_count": 51,
   "metadata": {},
   "outputs": [],
   "source": [
    "def is_game_tied(score_one, score_two):\n",
    "    \"\"\"\n",
    "    Determine if game is tied based on two scores (integers)\n",
    "    \"\"\"\n",
    "    \n",
    "    result = false\n",
    "    \n",
    "    if (score_one == score_two):\n",
    "        result = true\n",
    "        \n",
    "    return result"
   ]
  },
  {
   "cell_type": "code",
   "execution_count": 52,
   "metadata": {},
   "outputs": [],
   "source": [
    "def calculate_pace_of_game(team_one_pace, team_two_pace):\n",
    "    \"\"\"\n",
    "    Calculate pace of a game between two teams\n",
    "    \"\"\"\n",
    "    # Calculate average of the pace given the two teams\n",
    "    return (team_one_pace + team_two_pace) / 2"
   ]
  },
  {
   "cell_type": "code",
   "execution_count": 53,
   "metadata": {},
   "outputs": [
    {
     "data": {
      "text/plain": [
       "100.94999999999999"
      ]
     },
     "execution_count": 53,
     "metadata": {},
     "output_type": "execute_result"
    }
   ],
   "source": [
    "pace = calculate_pace_of_game(100.6, 101.3)"
   ]
  },
  {
   "cell_type": "code",
   "execution_count": 54,
   "metadata": {},
   "outputs": [],
   "source": [
    "def simulate_matchup_between_two_teams(team_1, team_2, games):\n",
    "    \"\"\"\n",
    "    Simulate a matchup between two teams.\n",
    "    High level: The simulate_game function is called for each team, and then the results (final scores) are compared\n",
    "    Algorithm does identify tie games and runs a simulation for overtime until there is a winner\n",
    "    games: games per matchup simulation\n",
    "    \"\"\"\n",
    "    \n",
    "    # Map statistics from input file\n",
    "    team_one = map_team_stats_to_system(team_1)\n",
    "    team_two = map_team_stats_to_system(team_2)\n",
    "    \n",
    "    # Calculate pace of game based on the two teams\n",
    "    matchup_pace =  calculate_pace_of_game(team_one.pace, team_two.pace)\n",
    "    \n",
    "    # Modify shooting percentages based on offensive and defensive team ratings\n",
    "    team_one.two_pt_fg_shooting_pct = calculate_fg_pct_based_on_opp(team_one.off_rating, team_two.def_rating, team_one.two_pt_fg_shooting_pct)\n",
    "    team_one.three_pt_fg_shooting_pct = calculate_fg_pct_based_on_opp(team_one.off_rating, team_two.def_rating, team_one.three_pt_fg_shooting_pct)\n",
    "    \n",
    "    team_two.two_pt_fg_shooting_pct = calculate_fg_pct_based_on_opp(team_two.off_rating, team_one.def_rating, team_two.two_pt_fg_shooting_pct)\n",
    "    team_two.three_pt_fg_shooting_pct = calculate_fg_pct_based_on_opp(team_two.off_rating, team_one.def_rating, team_two.three_pt_fg_shooting_pct)\n",
    "\n",
    "    # Initialize matchup state\n",
    "    matchup = State(team_one_wins=0,\n",
    "                    team_two_wins=0,\n",
    "                    overtime_games=0,\n",
    "                    games=0)\n",
    "    \n",
    "    # Create TimeSeries object to track the game result difference\n",
    "    game_result_diff = TimeSeries()\n",
    "    \n",
    "    # Loop through a game X number of times based on input parameter\n",
    "    for g in range(1, games+1):\n",
    "        matchup.games += 1\n",
    "                \n",
    "        # Always re-initialize pace\n",
    "        team_one.pace = matchup_pace\n",
    "        team_two.pace = matchup_pace\n",
    "        \n",
    "        gm_team_one = simulate_game(team_one)\n",
    "        gm_team_two = simulate_game(team_two)\n",
    "        \n",
    "        if (gm_team_one.max() > gm_team_two.max()):\n",
    "            matchup.team_one_wins += 1\n",
    "            game_result_diff[g] = gm_team_one.max() - gm_team_two.max()\n",
    "        elif (gm_team_two.max() > gm_team_one.max()):\n",
    "            matchup.team_two_wins += 1\n",
    "            game_result_diff[g] = gm_team_one.max() - gm_team_two.max()\n",
    "        else:\n",
    "            # Tie: Send game to overtime\n",
    "            matchup.overtime_games += 1\n",
    "            score_tied = True\n",
    "            \n",
    "            # Modify pace for 5 minutes\n",
    "            ot_pace = (matchup_pace / 48) * 5\n",
    "            team_one.pace = ot_pace\n",
    "            team_two.pace = ot_pace\n",
    "            \n",
    "            while (score_tied):\n",
    "                \n",
    "                gm_team_one = (simulate_game(team_one))\n",
    "                gm_team_two = (simulate_game(team_two))\n",
    "                \n",
    "                if (gm_team_one.max() > gm_team_two.max()):\n",
    "                    matchup.team_one_wins += 1\n",
    "                    game_result_diff[g] = gm_team_one.max() - gm_team_two.max()\n",
    "                    score_tied = False\n",
    "                elif (gm_team_two.max() > gm_team_one.max()):\n",
    "                    matchup.team_two_wins += 1\n",
    "                    game_result_diff[g] = gm_team_one.max() - gm_team_two.max()\n",
    "                    score_tied = False\n",
    "                        \n",
    "    return matchup, game_result_diff"
   ]
  },
  {
   "cell_type": "code",
   "execution_count": 55,
   "metadata": {},
   "outputs": [
    {
     "data": {
      "text/html": [
       "<div>\n",
       "<style scoped>\n",
       "    .dataframe tbody tr th:only-of-type {\n",
       "        vertical-align: middle;\n",
       "    }\n",
       "\n",
       "    .dataframe tbody tr th {\n",
       "        vertical-align: top;\n",
       "    }\n",
       "\n",
       "    .dataframe thead th {\n",
       "        text-align: right;\n",
       "    }\n",
       "</style>\n",
       "<table border=\"1\" class=\"dataframe\">\n",
       "  <thead>\n",
       "    <tr style=\"text-align: right;\">\n",
       "      <th></th>\n",
       "      <th>values</th>\n",
       "    </tr>\n",
       "  </thead>\n",
       "  <tbody>\n",
       "    <tr>\n",
       "      <th>turnover_pct_per_play</th>\n",
       "      <td>0.112</td>\n",
       "    </tr>\n",
       "    <tr>\n",
       "      <th>fga_pct_per_play</th>\n",
       "      <td>0.787</td>\n",
       "    </tr>\n",
       "    <tr>\n",
       "      <th>off_reb_per_play</th>\n",
       "      <td>0.093</td>\n",
       "    </tr>\n",
       "    <tr>\n",
       "      <th>two_pt_fg_attempts_pct</th>\n",
       "      <td>0.539</td>\n",
       "    </tr>\n",
       "    <tr>\n",
       "      <th>two_pt_fg_shooting_pct</th>\n",
       "      <td>0.542</td>\n",
       "    </tr>\n",
       "    <tr>\n",
       "      <th>three_pt_fg_shooting_pct</th>\n",
       "      <td>0.369</td>\n",
       "    </tr>\n",
       "    <tr>\n",
       "      <th>ft_shooting_pct</th>\n",
       "      <td>0.773</td>\n",
       "    </tr>\n",
       "    <tr>\n",
       "      <th>shooting_foul_drawn_pct</th>\n",
       "      <td>0.182</td>\n",
       "    </tr>\n",
       "    <tr>\n",
       "      <th>pace</th>\n",
       "      <td>99.780</td>\n",
       "    </tr>\n",
       "    <tr>\n",
       "      <th>off_rating</th>\n",
       "      <td>115.800</td>\n",
       "    </tr>\n",
       "    <tr>\n",
       "      <th>def_rating</th>\n",
       "      <td>110.000</td>\n",
       "    </tr>\n",
       "  </tbody>\n",
       "</table>\n",
       "</div>"
      ],
      "text/plain": [
       "turnover_pct_per_play         0.112\n",
       "fga_pct_per_play              0.787\n",
       "off_reb_per_play              0.093\n",
       "two_pt_fg_attempts_pct        0.539\n",
       "two_pt_fg_shooting_pct        0.542\n",
       "three_pt_fg_shooting_pct      0.369\n",
       "ft_shooting_pct               0.773\n",
       "shooting_foul_drawn_pct       0.182\n",
       "pace                         99.780\n",
       "off_rating                  115.800\n",
       "def_rating                  110.000\n",
       "dtype: float64"
      ]
     },
     "execution_count": 55,
     "metadata": {},
     "output_type": "execute_result"
    }
   ],
   "source": [
    "# Test map_team_stats_to_system\n",
    "team_A = map_team_stats_to_system('DAL')\n",
    "\n",
    "team_A"
   ]
  },
  {
   "cell_type": "code",
   "execution_count": 56,
   "metadata": {},
   "outputs": [
    {
     "data": {
      "text/html": [
       "<div>\n",
       "<style scoped>\n",
       "    .dataframe tbody tr th:only-of-type {\n",
       "        vertical-align: middle;\n",
       "    }\n",
       "\n",
       "    .dataframe tbody tr th {\n",
       "        vertical-align: top;\n",
       "    }\n",
       "\n",
       "    .dataframe thead th {\n",
       "        text-align: right;\n",
       "    }\n",
       "</style>\n",
       "<table border=\"1\" class=\"dataframe\">\n",
       "  <thead>\n",
       "    <tr style=\"text-align: right;\">\n",
       "      <th></th>\n",
       "      <th>values</th>\n",
       "    </tr>\n",
       "  </thead>\n",
       "  <tbody>\n",
       "    <tr>\n",
       "      <th>team_one_wins</th>\n",
       "      <td>3</td>\n",
       "    </tr>\n",
       "    <tr>\n",
       "      <th>team_two_wins</th>\n",
       "      <td>2</td>\n",
       "    </tr>\n",
       "    <tr>\n",
       "      <th>overtime_games</th>\n",
       "      <td>1</td>\n",
       "    </tr>\n",
       "    <tr>\n",
       "      <th>games</th>\n",
       "      <td>5</td>\n",
       "    </tr>\n",
       "  </tbody>\n",
       "</table>\n",
       "</div>"
      ],
      "text/plain": [
       "team_one_wins     3\n",
       "team_two_wins     2\n",
       "overtime_games    1\n",
       "games             5\n",
       "dtype: int64"
      ]
     },
     "execution_count": 56,
     "metadata": {},
     "output_type": "execute_result"
    }
   ],
   "source": [
    "matchup_results, pt_diffs = simulate_matchup_between_two_teams('DAL', 'NYK', 5)\n",
    "\n",
    "matchup_results"
   ]
  },
  {
   "cell_type": "code",
   "execution_count": 57,
   "metadata": {},
   "outputs": [
    {
     "data": {
      "text/plain": [
       "<matplotlib.axes._subplots.AxesSubplot at 0x1a257a1f50>"
      ]
     },
     "execution_count": 57,
     "metadata": {},
     "output_type": "execute_result"
    },
    {
     "data": {
      "image/png": "[encoded data removed]",
      "text/plain": [
       "<Figure size 432x288 with 1 Axes>"
      ]
     },
     "metadata": {},
     "output_type": "display_data"
    }
   ],
   "source": [
    "pt_diffs_ser = pandas.Series(pt_diffs)\n",
    "\n",
    "pt_diffs_ser.plot.hist(bins=40, alpha=0.5)"
   ]
  },
  {
   "cell_type": "code",
   "execution_count": 58,
   "metadata": {},
   "outputs": [],
   "source": [
    "def simulate_playoffs(eastern_conf, western_conf, games_per_series_sim):\n",
    "    \"\"\"\n",
    "    Simulate NBA playoffs\n",
    "    \"\"\"\n",
    "    \n",
    "    # Set number of game simulations per matchup\n",
    "    games = games_per_series_sim\n",
    "    \n",
    "    # ===== Simulate first round =====\n",
    "    \n",
    "    # Eastern conference\n",
    "    first_rd_east_series_one_results, first_rd_east_series_one_pt_diffs = simulate_matchup_between_two_teams(eastern_conf[0], eastern_conf[7], games)\n",
    "    first_rd_east_series_one_winner = determine_series_winner(eastern_conf[0], eastern_conf[7], first_rd_east_series_one_results)\n",
    "    output_playoff_series_result(eastern_conf[0], eastern_conf[7], first_rd_east_series_one_results)\n",
    "    \n",
    "    first_rd_east_series_two_results, first_rd_east_series_two_pt_diffs = simulate_matchup_between_two_teams(eastern_conf[3], eastern_conf[4], games)\n",
    "    first_rd_east_series_two_winner = determine_series_winner(eastern_conf[3], eastern_conf[4], first_rd_east_series_two_results)\n",
    "    output_playoff_series_result(eastern_conf[3], eastern_conf[4], first_rd_east_series_two_results)\n",
    "    \n",
    "    first_rd_east_series_three_results, first_rd_east_series_three_pt_diffs = simulate_matchup_between_two_teams(eastern_conf[1], eastern_conf[6], games)\n",
    "    first_rd_east_series_three_winner = determine_series_winner(eastern_conf[1], eastern_conf[6], first_rd_east_series_three_results)\n",
    "    output_playoff_series_result(eastern_conf[1], eastern_conf[6], first_rd_east_series_three_results)\n",
    "    \n",
    "    first_rd_east_series_four_results, first_rd_east_series_four_pt_diffs = simulate_matchup_between_two_teams(eastern_conf[2], eastern_conf[5], games)\n",
    "    first_rd_east_series_four_winner = determine_series_winner(eastern_conf[2], eastern_conf[5], first_rd_east_series_four_results)\n",
    "    output_playoff_series_result(eastern_conf[2], eastern_conf[5], first_rd_east_series_four_results)\n",
    "    \n",
    "    \n",
    "    # Western conference\n",
    "    first_rd_west_series_one_results, first_rd_west_series_one_pt_diffs = simulate_matchup_between_two_teams(western_conf[0], western_conf[7], games)\n",
    "    first_rd_west_series_one_winner = determine_series_winner(western_conf[0], western_conf[7], first_rd_west_series_one_results)\n",
    "    output_playoff_series_result(western_conf[0], western_conf[7], first_rd_west_series_one_results)\n",
    "    \n",
    "    first_rd_west_series_two_results, first_rd_west_series_two_pt_diffs = simulate_matchup_between_two_teams(western_conf[3], western_conf[4], games)\n",
    "    first_rd_west_series_two_winner = determine_series_winner(western_conf[3], western_conf[4], first_rd_west_series_two_results)\n",
    "    output_playoff_series_result(western_conf[3], western_conf[4], first_rd_west_series_two_results)\n",
    "    \n",
    "    first_rd_west_series_three_results, first_rd_west_series_three_pt_diffs = simulate_matchup_between_two_teams(western_conf[1], western_conf[6], games)\n",
    "    first_rd_west_series_three_winner = determine_series_winner(western_conf[1], western_conf[6], first_rd_west_series_three_results)\n",
    "    output_playoff_series_result(western_conf[1], western_conf[6], first_rd_west_series_three_results)\n",
    "    \n",
    "    first_rd_west_series_four_results, first_rd_west_series_four_pt_diffs = simulate_matchup_between_two_teams(western_conf[2], western_conf[5], games)\n",
    "    first_rd_west_series_four_winner = determine_series_winner(western_conf[2], western_conf[5], first_rd_west_series_four_results)\n",
    "    output_playoff_series_result(western_conf[2], western_conf[5], first_rd_west_series_four_results)\n",
    "\n",
    "        \n",
    "    # ===== Simulate second round =====\n",
    "    \n",
    "    # Eastern Conference\n",
    "    second_rd_east_series_one_results, second_rd_east_series_one_pt_diffs = simulate_matchup_between_two_teams(first_rd_east_series_one_winner, first_rd_east_series_two_winner, games)\n",
    "    second_rd_east_series_one_winner = determine_series_winner(first_rd_east_series_one_winner, first_rd_east_series_two_winner, second_rd_east_series_one_results)\n",
    "    output_playoff_series_result(first_rd_east_series_one_winner, first_rd_east_series_two_winner, second_rd_east_series_one_results)\n",
    "    \n",
    "    second_rd_east_series_two_results, second_rd_east_series_two_pt_diffs = simulate_matchup_between_two_teams(first_rd_east_series_three_winner, first_rd_east_series_four_winner, games)\n",
    "    second_rd_east_series_two_winner = determine_series_winner(first_rd_east_series_three_winner, first_rd_east_series_four_winner, second_rd_east_series_two_results)\n",
    "    output_playoff_series_result(first_rd_east_series_three_winner, first_rd_east_series_four_winner, second_rd_east_series_two_results)\n",
    "\n",
    "    # Western Conference\n",
    "    second_rd_west_series_one_results, second_rd_west_series_one_pt_diffs = simulate_matchup_between_two_teams(first_rd_west_series_one_winner, first_rd_west_series_two_winner, games)\n",
    "    second_rd_west_series_one_winner = determine_series_winner(first_rd_west_series_one_winner, first_rd_west_series_two_winner, second_rd_west_series_one_results)\n",
    "    output_playoff_series_result(first_rd_west_series_one_winner, first_rd_west_series_two_winner, second_rd_west_series_one_results)\n",
    "    \n",
    "    second_rd_west_series_two_results, second_rd_west_series_two_pt_diffs = simulate_matchup_between_two_teams(first_rd_west_series_three_winner, first_rd_west_series_four_winner, games)\n",
    "    second_rd_west_series_two_winner = determine_series_winner(first_rd_west_series_three_winner, first_rd_west_series_four_winner, second_rd_west_series_two_results)\n",
    "    output_playoff_series_result(first_rd_west_series_three_winner, first_rd_west_series_four_winner, second_rd_west_series_two_results)\n",
    "\n",
    "        \n",
    "    # ===== Simulate conference finals =====\n",
    "    \n",
    "    # Eastern Conference\n",
    "    third_rd_east_series_one_results, third_rd_east_series_one_pt_diffs = simulate_matchup_between_two_teams(second_rd_east_series_one_winner, second_rd_east_series_two_winner, games)\n",
    "    third_rd_east_series_one_winner = determine_series_winner(second_rd_east_series_one_winner, second_rd_east_series_two_winner, third_rd_east_series_one_results)\n",
    "    output_playoff_series_result(second_rd_east_series_one_winner, second_rd_east_series_two_winner, third_rd_east_series_one_results)\n",
    "\n",
    "    # Western Conference\n",
    "    third_rd_west_series_one_results, third_rd_west_series_one_pt_diffs = simulate_matchup_between_two_teams(second_rd_west_series_one_winner, second_rd_west_series_two_winner, games)\n",
    "    third_rd_west_series_one_winner = determine_series_winner(second_rd_west_series_one_winner, second_rd_west_series_two_winner, third_rd_west_series_one_results)\n",
    "    output_playoff_series_result(second_rd_west_series_one_winner, second_rd_west_series_two_winner, third_rd_west_series_one_results)\n",
    "\n",
    "    \n",
    "    # ===== Simulate NBA finals =====\n",
    "    nba_finals_results, nba_finals_pt_diffs = simulate_matchup_between_two_teams(third_rd_east_series_one_winner, third_rd_west_series_one_winner, games)\n",
    "    nba_finals_winner = determine_series_winner(third_rd_east_series_one_winner, third_rd_west_series_one_winner, nba_finals_results)\n",
    "    output_playoff_series_result(third_rd_east_series_one_winner, third_rd_west_series_one_winner, nba_finals_results)\n",
    "\n",
    "    \n",
    "    return nba_finals_winner\n"
   ]
  },
  {
   "cell_type": "code",
   "execution_count": 59,
   "metadata": {},
   "outputs": [],
   "source": [
    "def output_playoff_series_result(team_one, team_two, results):\n",
    "    \"\"\"\n",
    "    Display to screen the playoff series result\n",
    "    \"\"\"\n",
    "    \n",
    "    print(\"===== Series Result =====\")\n",
    "    \n",
    "    print(team_one, \"wins:\", results.team_one_wins)\n",
    "    print(team_two, \"wins:\", results.team_two_wins)\n",
    "    \n",
    "    if (results.team_one_wins > results.team_two_wins):\n",
    "        print (\"Series Winner:\", team_one)\n",
    "    else:\n",
    "        print (\"Series Winner:\", team_two)"
   ]
  },
  {
   "cell_type": "code",
   "execution_count": 60,
   "metadata": {},
   "outputs": [
    {
     "name": "stdout",
     "output_type": "stream",
     "text": [
      "===== Series Result =====\n",
      "DAL wins: 3\n",
      "NYK wins: 2\n",
      "Series Winner: DAL\n"
     ]
    }
   ],
   "source": [
    "# Test output_playoff_series_result\n",
    "output_playoff_series_result('DAL', 'NYK', matchup_results)"
   ]
  },
  {
   "cell_type": "code",
   "execution_count": 61,
   "metadata": {},
   "outputs": [],
   "source": [
    "def determine_series_winner(team_one, team_two, results):\n",
    "    \"\"\"\n",
    "    Determin the series winner based on the results object from a matchup\n",
    "    \"\"\"\n",
    "    \n",
    "    winner = team_two\n",
    "    \n",
    "    if (results.team_one_wins > results.team_two_wins):\n",
    "        winner = team_one\n",
    "        \n",
    "    return winner"
   ]
  },
  {
   "cell_type": "code",
   "execution_count": 63,
   "metadata": {},
   "outputs": [
    {
     "name": "stdout",
     "output_type": "stream",
     "text": [
      "===== Series Result =====\n",
      "MIL wins: 73\n",
      "ORL wins: 28\n",
      "Series Winner: MIL\n",
      "===== Series Result =====\n",
      "MIA wins: 47\n",
      "IND wins: 54\n",
      "Series Winner: IND\n",
      "===== Series Result =====\n",
      "TOR wins: 58\n",
      "BKN wins: 43\n",
      "Series Winner: TOR\n",
      "===== Series Result =====\n",
      "BOS wins: 53\n",
      "PHI wins: 48\n",
      "Series Winner: BOS\n",
      "===== Series Result =====\n",
      "LAL wins: 57\n",
      "MEM wins: 44\n",
      "Series Winner: LAL\n",
      "===== Series Result =====\n",
      "UTA wins: 59\n",
      "OKC wins: 42\n",
      "Series Winner: UTA\n",
      "===== Series Result =====\n",
      "LAC wins: 50\n",
      "DAL wins: 51\n",
      "Series Winner: DAL\n",
      "===== Series Result =====\n",
      "DEN wins: 52\n",
      "HOU wins: 49\n",
      "Series Winner: DEN\n",
      "===== Series Result =====\n",
      "MIL wins: 59\n",
      "IND wins: 42\n",
      "Series Winner: MIL\n",
      "===== Series Result =====\n",
      "TOR wins: 44\n",
      "BOS wins: 57\n",
      "Series Winner: BOS\n",
      "===== Series Result =====\n",
      "LAL wins: 58\n",
      "UTA wins: 43\n",
      "Series Winner: LAL\n",
      "===== Series Result =====\n",
      "DAL wins: 43\n",
      "DEN wins: 58\n",
      "Series Winner: DEN\n",
      "===== Series Result =====\n",
      "MIL wins: 64\n",
      "BOS wins: 37\n",
      "Series Winner: MIL\n",
      "===== Series Result =====\n",
      "LAL wins: 61\n",
      "DEN wins: 40\n",
      "Series Winner: LAL\n",
      "===== Series Result =====\n",
      "MIL wins: 50\n",
      "LAL wins: 51\n",
      "Series Winner: LAL\n"
     ]
    },
    {
     "data": {
      "text/plain": [
       "'LAL'"
      ]
     },
     "execution_count": 63,
     "metadata": {},
     "output_type": "execute_result"
    }
   ],
   "source": [
    "# Standings as of July 11, 2020\n",
    "east = ['MIL', 'TOR', 'BOS', 'MIA', 'IND', 'PHI', 'BKN', 'ORL']\n",
    "west = ['LAL', 'LAC', 'DEN', 'UTA', 'OKC', 'HOU', 'DAL', 'MEM']\n",
    "\n",
    "# Test simulate_playoffs\n",
    "simulate_playoffs(east, west, 101)"
   ]
  }
 ],
 "metadata": {
  "kernelspec": {
   "display_name": "Python 3",
   "language": "python",
   "name": "python3"
  },
  "language_info": {
   "codemirror_mode": {
    "name": "ipython",
    "version": 3
   },
   "file_extension": ".py",
   "mimetype": "text/x-python",
   "name": "python",
   "nbconvert_exporter": "python",
   "pygments_lexer": "ipython3",
   "version": "3.7.6"
  }
 },
 "nbformat": 4,
 "nbformat_minor": 4
}
